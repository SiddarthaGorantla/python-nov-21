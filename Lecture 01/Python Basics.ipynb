{
 "cells": [
  {
   "cell_type": "markdown",
   "id": "05627c75",
   "metadata": {},
   "source": [
    "## Print Statement"
   ]
  },
  {
   "cell_type": "code",
   "execution_count": 54,
   "id": "88600420",
   "metadata": {},
   "outputs": [],
   "source": [
    "import sys"
   ]
  },
  {
   "cell_type": "code",
   "execution_count": 5,
   "id": "74e0b32f",
   "metadata": {},
   "outputs": [
    {
     "name": "stdout",
     "output_type": "stream",
     "text": [
      "10 20 30\n",
      "10 30\n"
     ]
    }
   ],
   "source": [
    "print(10,20,30)\n",
    "print(10,30)"
   ]
  },
  {
   "cell_type": "code",
   "execution_count": 6,
   "id": "bc0fc8d5",
   "metadata": {},
   "outputs": [
    {
     "name": "stdout",
     "output_type": "stream",
     "text": [
      "I scored  80 20.56 30.2\n"
     ]
    }
   ],
   "source": [
    "marks = 80\n",
    "print(\"I scored \",marks, 20.56, 30.2)"
   ]
  },
  {
   "cell_type": "code",
   "execution_count": 10,
   "id": "4402e134",
   "metadata": {},
   "outputs": [
    {
     "name": "stdout",
     "output_type": "stream",
     "text": [
      "i wantapplesguavas\n"
     ]
    }
   ],
   "source": [
    "print(\"i want\",\"apples\",\"guavas\",sep=\"\")"
   ]
  },
  {
   "cell_type": "markdown",
   "id": "164cad59",
   "metadata": {},
   "source": [
    "## Type Method"
   ]
  },
  {
   "cell_type": "code",
   "execution_count": 3,
   "id": "8ce77413",
   "metadata": {},
   "outputs": [
    {
     "data": {
      "text/plain": [
       "int"
      ]
     },
     "execution_count": 3,
     "metadata": {},
     "output_type": "execute_result"
    }
   ],
   "source": [
    "type(marks)"
   ]
  },
  {
   "cell_type": "code",
   "execution_count": 16,
   "id": "df3360d8",
   "metadata": {},
   "outputs": [
    {
     "name": "stdout",
     "output_type": "stream",
     "text": [
      "Hello Alpha Beta Gamma,World\n"
     ]
    }
   ],
   "source": [
    "print(\"Hello\",\"Alpha\",\"Beta\",\"Gamma\",end=\",\")\n",
    "print(\"World\")"
   ]
  },
  {
   "cell_type": "code",
   "execution_count": 22,
   "id": "c182f9cf",
   "metadata": {},
   "outputs": [
    {
     "name": "stdout",
     "output_type": "stream",
     "text": [
      "Hello__Alpha__Beta__Gamma\n",
      "World\n"
     ]
    }
   ],
   "source": [
    "print(\"Hello\",\"Alpha\",\"Beta\",\"Gamma\",sep=\"__\",end=\"\\n\")\n",
    "print(\"World\")"
   ]
  },
  {
   "cell_type": "code",
   "execution_count": 28,
   "id": "9923e5fa",
   "metadata": {},
   "outputs": [
    {
     "name": "stdout",
     "output_type": "stream",
     "text": [
      "hi\n",
      "\n",
      "avijit\n"
     ]
    }
   ],
   "source": [
    "print(\"hi\")\n",
    "print()\n",
    "print(end=\"\")\n",
    "print(\"avijit\")"
   ]
  },
  {
   "cell_type": "code",
   "execution_count": 29,
   "id": "f69d04e7",
   "metadata": {},
   "outputs": [],
   "source": [
    "location = \"Shimla\"\n",
    "date = \"22 Dec\""
   ]
  },
  {
   "cell_type": "code",
   "execution_count": 30,
   "id": "690f9b62",
   "metadata": {},
   "outputs": [
    {
     "name": "stdout",
     "output_type": "stream",
     "text": [
      "I want go to  Shimla on  22 Dec\n"
     ]
    }
   ],
   "source": [
    "print(\"I want go to \",location, \"on \",date)"
   ]
  },
  {
   "cell_type": "markdown",
   "id": "ee171cfd",
   "metadata": {},
   "source": [
    "## Output formatting"
   ]
  },
  {
   "cell_type": "code",
   "execution_count": 32,
   "id": "aa2c34ba",
   "metadata": {},
   "outputs": [],
   "source": [
    "location = \"manali\""
   ]
  },
  {
   "cell_type": "code",
   "execution_count": 35,
   "id": "11688a6f",
   "metadata": {},
   "outputs": [
    {
     "name": "stdout",
     "output_type": "stream",
     "text": [
      "I want to go to manali on 22 Dec\n"
     ]
    }
   ],
   "source": [
    "print(\"I want to go to {} on {}\".format(location,date))"
   ]
  },
  {
   "cell_type": "code",
   "execution_count": 43,
   "id": "8790745b",
   "metadata": {},
   "outputs": [
    {
     "name": "stdout",
     "output_type": "stream",
     "text": [
      "I want to go to manali on 22 Dec\n"
     ]
    }
   ],
   "source": [
    "print(\"I want to go to {1} on {0}\".format(date,location))"
   ]
  },
  {
   "cell_type": "markdown",
   "id": "358af02d",
   "metadata": {},
   "source": [
    "## Formatted Strings"
   ]
  },
  {
   "cell_type": "code",
   "execution_count": 37,
   "id": "4d40200d",
   "metadata": {},
   "outputs": [],
   "source": [
    "food_item = \"pizza\"\n",
    "restaurent = \"dominoes\""
   ]
  },
  {
   "cell_type": "code",
   "execution_count": 41,
   "id": "13742005",
   "metadata": {},
   "outputs": [
    {
     "name": "stdout",
     "output_type": "stream",
     "text": [
      "I want to order {food_item} from {restaurent}\n"
     ]
    }
   ],
   "source": [
    "print(\"I want to order {food_item} from {restaurent}\")"
   ]
  },
  {
   "cell_type": "code",
   "execution_count": 42,
   "id": "5eb47606",
   "metadata": {},
   "outputs": [
    {
     "name": "stdout",
     "output_type": "stream",
     "text": [
      "I want to order pizza from dominoes\n"
     ]
    }
   ],
   "source": [
    "print(f\"I want to order {food_item} from {restaurent}\")"
   ]
  },
  {
   "cell_type": "markdown",
   "id": "d5930015",
   "metadata": {},
   "source": [
    "## Datatypes"
   ]
  },
  {
   "cell_type": "code",
   "execution_count": 49,
   "id": "f83b7091",
   "metadata": {},
   "outputs": [
    {
     "data": {
      "text/plain": [
       "int"
      ]
     },
     "execution_count": 49,
     "metadata": {},
     "output_type": "execute_result"
    }
   ],
   "source": [
    "a = 10\n",
    "type(a)\n"
   ]
  },
  {
   "cell_type": "code",
   "execution_count": 56,
   "id": "a209e9f1",
   "metadata": {},
   "outputs": [
    {
     "data": {
      "text/plain": [
       "float"
      ]
     },
     "execution_count": 56,
     "metadata": {},
     "output_type": "execute_result"
    }
   ],
   "source": [
    "b = 100000000000000000000.56566666666668888888888\n",
    "type(b)"
   ]
  },
  {
   "cell_type": "code",
   "execution_count": 61,
   "id": "17101021",
   "metadata": {},
   "outputs": [
    {
     "name": "stdout",
     "output_type": "stream",
     "text": [
      "24\n",
      "28\n"
     ]
    }
   ],
   "source": [
    "print(sys.getsizeof(b))\n",
    "print(sys.getsizeof(a))"
   ]
  },
  {
   "cell_type": "code",
   "execution_count": 63,
   "id": "75831619",
   "metadata": {},
   "outputs": [
    {
     "name": "stdout",
     "output_type": "stream",
     "text": [
      "<class 'str'>\n",
      "<class 'str'>\n"
     ]
    }
   ],
   "source": [
    "ch = 'a'\n",
    "name = \"Prateek\"\n",
    "print(type(ch))\n",
    "print(type(name))"
   ]
  },
  {
   "cell_type": "code",
   "execution_count": 64,
   "id": "72dfdfa5",
   "metadata": {},
   "outputs": [
    {
     "name": "stdout",
     "output_type": "stream",
     "text": [
      "<class 'bool'>\n"
     ]
    }
   ],
   "source": [
    "isRainy = True\n",
    "print(type(isRainy))"
   ]
  },
  {
   "cell_type": "code",
   "execution_count": 65,
   "id": "df93d946",
   "metadata": {},
   "outputs": [
    {
     "name": "stdout",
     "output_type": "stream",
     "text": [
      "<class 'int'>\n"
     ]
    }
   ],
   "source": [
    "isRainy = 10\n",
    "print(type(isRainy))"
   ]
  },
  {
   "cell_type": "markdown",
   "id": "8e89ec5a",
   "metadata": {},
   "source": [
    "## Typecasting"
   ]
  },
  {
   "cell_type": "code",
   "execution_count": 66,
   "id": "aa56996a",
   "metadata": {},
   "outputs": [],
   "source": [
    "x = 3.141\n",
    "y = int(x)"
   ]
  },
  {
   "cell_type": "code",
   "execution_count": 70,
   "id": "4a511616",
   "metadata": {},
   "outputs": [
    {
     "data": {
      "text/plain": [
       "5.0"
      ]
     },
     "execution_count": 70,
     "metadata": {},
     "output_type": "execute_result"
    }
   ],
   "source": [
    "float(5)"
   ]
  },
  {
   "cell_type": "code",
   "execution_count": 67,
   "id": "a7c54e69",
   "metadata": {},
   "outputs": [
    {
     "name": "stdout",
     "output_type": "stream",
     "text": [
      "3\n"
     ]
    }
   ],
   "source": [
    "print(y)"
   ]
  },
  {
   "cell_type": "code",
   "execution_count": 69,
   "id": "424970a0",
   "metadata": {},
   "outputs": [
    {
     "data": {
      "text/plain": [
       "'Hello5'"
      ]
     },
     "execution_count": 69,
     "metadata": {},
     "output_type": "execute_result"
    }
   ],
   "source": [
    "\"Hello\" + str(5)"
   ]
  },
  {
   "cell_type": "markdown",
   "id": "f44f424d",
   "metadata": {},
   "source": [
    "### Input"
   ]
  },
  {
   "cell_type": "code",
   "execution_count": 74,
   "id": "3391970d",
   "metadata": {},
   "outputs": [
    {
     "name": "stdout",
     "output_type": "stream",
     "text": [
      "Class\n"
     ]
    }
   ],
   "source": [
    "name = input()"
   ]
  },
  {
   "cell_type": "code",
   "execution_count": 75,
   "id": "a56dbf20",
   "metadata": {},
   "outputs": [
    {
     "name": "stdout",
     "output_type": "stream",
     "text": [
      "Hi Class\n"
     ]
    }
   ],
   "source": [
    "print(\"Hi \" + name)"
   ]
  },
  {
   "cell_type": "code",
   "execution_count": 76,
   "id": "133e1cdf",
   "metadata": {},
   "outputs": [
    {
     "name": "stdout",
     "output_type": "stream",
     "text": [
      "<class 'str'>\n"
     ]
    }
   ],
   "source": [
    "print(type(name))"
   ]
  },
  {
   "cell_type": "code",
   "execution_count": 79,
   "id": "a7f954b1",
   "metadata": {},
   "outputs": [
    {
     "name": "stdout",
     "output_type": "stream",
     "text": [
      "89\n",
      "90\n"
     ]
    }
   ],
   "source": [
    "# Input returns a string, you need to typecast it into a number\n",
    "number = int(input())\n",
    "print(number + 1)"
   ]
  },
  {
   "cell_type": "code",
   "execution_count": 90,
   "id": "d440f342",
   "metadata": {},
   "outputs": [
    {
     "name": "stdout",
     "output_type": "stream",
     "text": [
      "10\n",
      "1\n",
      "1\n",
      "Simple interest is 0.1\n"
     ]
    }
   ],
   "source": [
    "### Program P, R, T\n",
    "\n",
    "P = int(input())\n",
    "R = float(input())\n",
    "T = float(input())\n",
    "\n",
    "Si = (P*R*T)/100\n",
    "print(f'Simple interest is {Si}')"
   ]
  },
  {
   "cell_type": "markdown",
   "id": "c450f643",
   "metadata": {},
   "source": [
    "# Markdown Basics \n",
    "## Smaller Heading\n",
    "    - apple\n",
    "    - mango\n",
    "    - guava\n",
    "    \n",
    "### 3x Smaller Heading\n",
    "\n",
    "- bullet point\n",
    "\n",
    "_italic text_\n",
    "\n",
    "```python\n",
    "print(\"hello world\")\n",
    "a = 10\n",
    "```\n",
    "\n",
    "**Java code**\n",
    "\n",
    "```java\n",
    "System.out.println(\"Coding in java\")\n",
    "```\n",
    "\n",
    "## Image\n",
    "![](http://localhost:8888/kernelspecs/python3/logo-64x64.png)\n",
    "\n",
    "```\n",
    "                                            Something in the Middle\n",
    "```\n",
    "\n",
    "**bold text** "
   ]
  },
  {
   "cell_type": "code",
   "execution_count": null,
   "id": "48341317",
   "metadata": {},
   "outputs": [],
   "source": []
  }
 ],
 "metadata": {
  "kernelspec": {
   "display_name": "Python 3 (ipykernel)",
   "language": "python",
   "name": "python3"
  },
  "language_info": {
   "codemirror_mode": {
    "name": "ipython",
    "version": 3
   },
   "file_extension": ".py",
   "mimetype": "text/x-python",
   "name": "python",
   "nbconvert_exporter": "python",
   "pygments_lexer": "ipython3",
   "version": "3.8.2"
  }
 },
 "nbformat": 4,
 "nbformat_minor": 5
}

{
 "cells": [
  {
   "cell_type": "code",
   "execution_count": null,
   "id": "eea15b4d",
   "metadata": {},
   "outputs": [],
   "source": [
    "# Shortcuts\n",
    "# Shift + Enter to run a cell\n"
   ]
  },
  {
   "cell_type": "code",
   "execution_count": 16,
   "id": "d1375867",
   "metadata": {},
   "outputs": [
    {
     "name": "stdout",
     "output_type": "stream",
     "text": [
      "10\n",
      "a\n",
      "Hello World\n"
     ]
    }
   ],
   "source": [
    "a = 10\n",
    "print(a)\n",
    "print(\"a\")\n",
    "print(\"Hello World\")\n",
    "#print(b)"
   ]
  },
  {
   "cell_type": "code",
   "execution_count": 14,
   "id": "0cffb77a",
   "metadata": {},
   "outputs": [],
   "source": [
    "a = 12"
   ]
  },
  {
   "cell_type": "code",
   "execution_count": 23,
   "id": "0ed41e1d",
   "metadata": {},
   "outputs": [],
   "source": [
    "b = 20\n",
    "#del b"
   ]
  },
  {
   "cell_type": "code",
   "execution_count": 24,
   "id": "6b07226d",
   "metadata": {},
   "outputs": [
    {
     "name": "stdout",
     "output_type": "stream",
     "text": [
      "10\n",
      "20\n"
     ]
    }
   ],
   "source": [
    "print(a)\n",
    "print(b)"
   ]
  },
  {
   "cell_type": "code",
   "execution_count": null,
   "id": "1a780d26",
   "metadata": {},
   "outputs": [],
   "source": []
  },
  {
   "cell_type": "code",
   "execution_count": null,
   "id": "2f3d1030",
   "metadata": {},
   "outputs": [],
   "source": []
  }
 ],
 "metadata": {
  "kernelspec": {
   "display_name": "Python 3 (ipykernel)",
   "language": "python",
   "name": "python3"
  },
  "language_info": {
   "codemirror_mode": {
    "name": "ipython",
    "version": 3
   },
   "file_extension": ".py",
   "mimetype": "text/x-python",
   "name": "python",
   "nbconvert_exporter": "python",
   "pygments_lexer": "ipython3",
   "version": "3.8.2"
  }
 },
 "nbformat": 4,
 "nbformat_minor": 5
}

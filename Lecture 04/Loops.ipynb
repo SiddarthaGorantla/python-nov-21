{
 "cells": [
  {
   "cell_type": "markdown",
   "id": "c6e9cc41",
   "metadata": {},
   "source": [
    "### While Loop Example"
   ]
  },
  {
   "cell_type": "code",
   "execution_count": 3,
   "id": "7ad9f61f",
   "metadata": {},
   "outputs": [
    {
     "name": "stdout",
     "output_type": "stream",
     "text": [
      "Running & burning 1\n",
      "Running & burning 2\n",
      "Running & burning 3\n",
      "Running & burning 4\n",
      "Running & burning 5\n",
      "Running & burning 6\n",
      "Running & burning 7\n",
      "Running & burning 8\n",
      "Running & burning 9\n",
      "Running & burning 10\n",
      "Workout Complete\n"
     ]
    }
   ],
   "source": [
    "#Init Starting Value\n",
    "calories = 0\n",
    "\n",
    "# Stopping Criteria\n",
    "while calories < 10:\n",
    "    print(\"Running & burning \" + str(calories + 1))\n",
    "    calories = calories + 1\n",
    "    \n",
    "print(\"Workout Complete\") "
   ]
  },
  {
   "cell_type": "code",
   "execution_count": 9,
   "id": "8e2be39b",
   "metadata": {},
   "outputs": [
    {
     "name": "stdout",
     "output_type": "stream",
     "text": [
      "Running & burning 2\n",
      "Running & burning 4\n",
      "Running & burning 6\n",
      "Running & burning 8\n",
      "Running & burning 10\n",
      "Workout Complete\n"
     ]
    }
   ],
   "source": [
    "#Init Starting Value\n",
    "calories = 0\n",
    "\n",
    "# Stopping Criteria\n",
    "while calories < 10:\n",
    "    print(\"Running & burning \" + str(calories + 2))\n",
    "    calories = calories + 2\n",
    "    \n",
    "print(\"Workout Complete\") "
   ]
  },
  {
   "cell_type": "markdown",
   "id": "a338dc64",
   "metadata": {},
   "source": [
    "## LIVE Assignment : Write a loop to find sum of numbers from 1 to N"
   ]
  },
  {
   "cell_type": "code",
   "execution_count": 4,
   "id": "f06ffdbf",
   "metadata": {},
   "outputs": [
    {
     "name": "stdout",
     "output_type": "stream",
     "text": [
      "5\n",
      "15\n"
     ]
    }
   ],
   "source": [
    "N = int(input())\n",
    "\n",
    "i = 1\n",
    "Sum = 0\n",
    "\n",
    "while i<=N:\n",
    "    Sum = Sum + i\n",
    "    i = i + 1\n",
    "\n",
    "print(Sum)"
   ]
  },
  {
   "cell_type": "markdown",
   "id": "34d0d0fa",
   "metadata": {},
   "source": [
    "## For Loop"
   ]
  },
  {
   "cell_type": "code",
   "execution_count": 6,
   "id": "1c19cf5c",
   "metadata": {},
   "outputs": [
    {
     "name": "stdout",
     "output_type": "stream",
     "text": [
      "1\n",
      "2\n",
      "3\n",
      "4\n",
      "5\n"
     ]
    }
   ],
   "source": [
    "# start, stop + 1\n",
    "for i in range(1,N+1):\n",
    "    print(i)"
   ]
  },
  {
   "cell_type": "code",
   "execution_count": 7,
   "id": "29d39de6",
   "metadata": {},
   "outputs": [
    {
     "name": "stdout",
     "output_type": "stream",
     "text": [
      "0\n",
      "1\n",
      "2\n",
      "3\n",
      "4\n",
      "5\n"
     ]
    }
   ],
   "source": [
    "# stop + 1\n",
    "for i in range(N+1):\n",
    "    print(i)"
   ]
  },
  {
   "cell_type": "code",
   "execution_count": 12,
   "id": "11af4d98",
   "metadata": {},
   "outputs": [
    {
     "name": "stdout",
     "output_type": "stream",
     "text": [
      "Running & Burning 2\n",
      "Running & Burning 4\n",
      "Running & Burning 6\n",
      "Running & Burning 8\n",
      "Running & Burning 10\n"
     ]
    }
   ],
   "source": [
    "# start, stop + 1, increment\n",
    "for calories in range(2,11,2):\n",
    "    print(\"Running & Burning \" + str(calories))"
   ]
  },
  {
   "cell_type": "code",
   "execution_count": 15,
   "id": "83574a53",
   "metadata": {},
   "outputs": [
    {
     "name": "stdout",
     "output_type": "stream",
     "text": [
      "5\n",
      "4\n",
      "3\n",
      "2\n",
      "1\n"
     ]
    }
   ],
   "source": [
    "# Negative Loop\n",
    "for number in range(5,0,-1):\n",
    "    print(number)"
   ]
  },
  {
   "cell_type": "code",
   "execution_count": 16,
   "id": "91419433",
   "metadata": {},
   "outputs": [
    {
     "name": "stdout",
     "output_type": "stream",
     "text": [
      "5\n",
      "4\n",
      "3\n",
      "2\n",
      "1\n",
      "0\n"
     ]
    }
   ],
   "source": [
    "# Negative Loop\n",
    "for number in range(5,-1,-1):\n",
    "    print(number)"
   ]
  },
  {
   "cell_type": "markdown",
   "id": "5817734e",
   "metadata": {},
   "source": [
    "### LIVE Assignment : Take input N, followed by N integers you have to \n",
    "- print the sum of all integers\n",
    "- print the sum of negative integers.\n",
    "\n",
    "\n",
    "```\n",
    "N = 5\n",
    "-5 \n",
    "3 \n",
    "2\n",
    "5\n",
    "-8\n",
    "```"
   ]
  },
  {
   "cell_type": "code",
   "execution_count": 17,
   "id": "52f05393",
   "metadata": {},
   "outputs": [
    {
     "name": "stdout",
     "output_type": "stream",
     "text": [
      "4\n",
      "10\n",
      "20\n",
      "30\n",
      "35\n",
      "95\n"
     ]
    }
   ],
   "source": [
    "N = int(input())\n",
    "\n",
    "times = 1\n",
    "Sum = 0\n",
    "while times <= N:\n",
    "    no = int(input())\n",
    "    Sum = Sum + no\n",
    "    times = times + 1\n",
    "    \n",
    "print(Sum)\n",
    "    \n"
   ]
  },
  {
   "cell_type": "code",
   "execution_count": 20,
   "id": "cd176f9b",
   "metadata": {},
   "outputs": [
    {
     "name": "stdout",
     "output_type": "stream",
     "text": [
      "4\n",
      "10\n",
      "20\n",
      "30\n",
      "35\n",
      "95\n"
     ]
    }
   ],
   "source": [
    "N = int(input())\n",
    "Sum = 0\n",
    "for times in range(N):\n",
    "    no = int(input())\n",
    "    Sum = Sum + no\n",
    "    \n",
    "print(Sum)"
   ]
  },
  {
   "cell_type": "markdown",
   "id": "b4ee3ae4",
   "metadata": {},
   "source": [
    "## An Additional Check for Negative Numbers"
   ]
  },
  {
   "cell_type": "code",
   "execution_count": 22,
   "id": "6e80bed5",
   "metadata": {},
   "outputs": [
    {
     "name": "stdout",
     "output_type": "stream",
     "text": [
      "3\n",
      "-10\n",
      "4\n",
      "-2\n",
      "-12\n"
     ]
    }
   ],
   "source": [
    "N = int(input())\n",
    "Sum = 0\n",
    "\n",
    "for times in range(N):\n",
    "    no = int(input())\n",
    "    if no < 0:\n",
    "        Sum = Sum + no\n",
    "    \n",
    "print(Sum)"
   ]
  },
  {
   "cell_type": "markdown",
   "id": "50c2d3c9",
   "metadata": {},
   "source": [
    "### Read all numbers at once"
   ]
  },
  {
   "cell_type": "code",
   "execution_count": 29,
   "id": "57dea541",
   "metadata": {},
   "outputs": [
    {
     "name": "stdout",
     "output_type": "stream",
     "text": [
      "10 20 30 40\n",
      "[10, 20, 30, 40]\n",
      "<class 'list'>\n"
     ]
    }
   ],
   "source": [
    "# List Comprehension (will cover later in detail)\n",
    "numbers = [int(x) for x in input().split()]\n",
    "print(numbers)\n",
    "print(type(numbers))"
   ]
  },
  {
   "cell_type": "markdown",
   "id": "2576eb9a",
   "metadata": {},
   "source": [
    "### Sum of Digits of a Given Number\n",
    "N = 2348\n",
    "\n",
    "Output : 2 + 3 + 4 + 8 = 17"
   ]
  },
  {
   "cell_type": "code",
   "execution_count": 35,
   "id": "c6b5a751",
   "metadata": {},
   "outputs": [
    {
     "name": "stdout",
     "output_type": "stream",
     "text": [
      "12543\n",
      "15\n"
     ]
    }
   ],
   "source": [
    "N = int(input())\n",
    "Sum = 0\n",
    "\n",
    "while N > 0:\n",
    "    rem = N%10\n",
    "    # print(rem)\n",
    "    Sum = Sum + rem\n",
    "    # print(N)\n",
    "    N = N//10\n",
    "    \n",
    "print(Sum)"
   ]
  },
  {
   "cell_type": "markdown",
   "id": "e6d7afd3",
   "metadata": {},
   "source": [
    "### Stair Pattern \n",
    "```\n",
    "N = 4\n",
    "\n",
    "1\n",
    "1 2\n",
    "1 2 3\n",
    "1 2 3 4\n",
    "```"
   ]
  },
  {
   "cell_type": "markdown",
   "id": "0fde8119",
   "metadata": {},
   "source": [
    "Observations\n",
    "=============\n",
    "- Print N Rows\n",
    "- In Each Row, we have no of columns equal to the no of row\n",
    "- In row starts with value one and increments by 1"
   ]
  },
  {
   "cell_type": "code",
   "execution_count": 40,
   "id": "b624e84f",
   "metadata": {},
   "outputs": [
    {
     "name": "stdout",
     "output_type": "stream",
     "text": [
      "4\n",
      "1 \n",
      "1 2 \n",
      "1 2 3 \n",
      "1 2 3 4 \n"
     ]
    }
   ],
   "source": [
    "N = int(input())\n",
    "\n",
    "for row in range(1, N + 1):\n",
    "    for col in range(1,row + 1):\n",
    "        print(col,end=\" \")\n",
    "    print()"
   ]
  },
  {
   "cell_type": "code",
   "execution_count": 45,
   "id": "260f3b19",
   "metadata": {},
   "outputs": [
    {
     "name": "stdout",
     "output_type": "stream",
     "text": [
      "1 \n",
      "1 2 \n",
      "1 2 3 \n",
      "1 2 3 4 \n"
     ]
    }
   ],
   "source": [
    "# While Loop\n",
    "N = 4\n",
    "rows = 1\n",
    "while rows <= N:\n",
    "    \n",
    "    col = 1\n",
    "    while col <= rows:\n",
    "        print(col,end=\" \")\n",
    "        col = col + 1\n",
    "    \n",
    "    print()\n",
    "    rows = rows + 1\n",
    "    "
   ]
  },
  {
   "cell_type": "markdown",
   "id": "19c733de",
   "metadata": {},
   "source": [
    "### Assignments will come on Dashboard!"
   ]
  },
  {
   "cell_type": "code",
   "execution_count": null,
   "id": "d2fdec3b",
   "metadata": {},
   "outputs": [],
   "source": []
  }
 ],
 "metadata": {
  "kernelspec": {
   "display_name": "Python 3 (ipykernel)",
   "language": "python",
   "name": "python3"
  },
  "language_info": {
   "codemirror_mode": {
    "name": "ipython",
    "version": 3
   },
   "file_extension": ".py",
   "mimetype": "text/x-python",
   "name": "python",
   "nbconvert_exporter": "python",
   "pygments_lexer": "ipython3",
   "version": "3.8.2"
  }
 },
 "nbformat": 4,
 "nbformat_minor": 5
}

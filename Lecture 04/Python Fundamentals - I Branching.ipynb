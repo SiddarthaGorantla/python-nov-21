{
 "cells": [
  {
   "cell_type": "markdown",
   "id": "590435a6",
   "metadata": {},
   "source": [
    "### Recap of Basics"
   ]
  },
  {
   "cell_type": "code",
   "execution_count": 10,
   "id": "5148e0d8",
   "metadata": {},
   "outputs": [
    {
     "name": "stdout",
     "output_type": "stream",
     "text": [
      "<class 'int'>\n"
     ]
    }
   ],
   "source": [
    "marks = 80\n",
    "print(type(marks))"
   ]
  },
  {
   "cell_type": "code",
   "execution_count": 8,
   "id": "d98a71f4",
   "metadata": {},
   "outputs": [],
   "source": [
    "# del marks"
   ]
  },
  {
   "cell_type": "code",
   "execution_count": 11,
   "id": "74385ae1",
   "metadata": {},
   "outputs": [
    {
     "name": "stdout",
     "output_type": "stream",
     "text": [
      "Marks 80\n"
     ]
    }
   ],
   "source": [
    "print(\"Marks \" + str(marks))"
   ]
  },
  {
   "cell_type": "code",
   "execution_count": 12,
   "id": "dd3ae12c",
   "metadata": {},
   "outputs": [],
   "source": [
    "x = 5 * 3 + 8"
   ]
  },
  {
   "cell_type": "code",
   "execution_count": 13,
   "id": "1be17fd2",
   "metadata": {},
   "outputs": [
    {
     "name": "stdout",
     "output_type": "stream",
     "text": [
      "23\n"
     ]
    }
   ],
   "source": [
    "print(x)"
   ]
  },
  {
   "cell_type": "markdown",
   "id": "aae0ba04",
   "metadata": {},
   "source": [
    "### Conditional Statements"
   ]
  },
  {
   "cell_type": "markdown",
   "id": "730bede2",
   "metadata": {},
   "source": [
    "**Single If Block**"
   ]
  },
  {
   "cell_type": "code",
   "execution_count": 16,
   "id": "d4b455fa",
   "metadata": {},
   "outputs": [
    {
     "name": "stdout",
     "output_type": "stream",
     "text": [
      "That's it - we are of if block\n"
     ]
    }
   ],
   "source": [
    "marks = 70\n",
    "\n",
    "if marks > 80:\n",
    "    print(\"Let's Party\")\n",
    "    print(\"Hurray\")\n",
    "    \n",
    "# Always gets executed\n",
    "print(\"That's it - we are of if block\")"
   ]
  },
  {
   "cell_type": "markdown",
   "id": "c5f0ae86",
   "metadata": {},
   "source": [
    "**If-else Block**"
   ]
  },
  {
   "cell_type": "code",
   "execution_count": 21,
   "id": "b794c38d",
   "metadata": {},
   "outputs": [
    {
     "name": "stdout",
     "output_type": "stream",
     "text": [
      "let's Party\n"
     ]
    }
   ],
   "source": [
    "marks = 80.01\n",
    "\n",
    "if marks > 80:\n",
    "    print(\"let's Party\")\n",
    "else:\n",
    "    print(\"Work hard next time\")\n",
    "    "
   ]
  },
  {
   "cell_type": "markdown",
   "id": "56bcb47c",
   "metadata": {},
   "source": [
    "**if-elif-else Block**\n",
    "When you use elif together with if-else block, only one the blocks get executed (where the condition become true for first time)"
   ]
  },
  {
   "cell_type": "code",
   "execution_count": 25,
   "id": "7da8dbd5",
   "metadata": {},
   "outputs": [
    {
     "name": "stdout",
     "output_type": "stream",
     "text": [
      "Good Job\n"
     ]
    }
   ],
   "source": [
    "marks = 75\n",
    "\n",
    "if marks > 80:\n",
    "    print(\"Lets Party\")\n",
    "elif marks > 70:\n",
    "    print(\"Good Job\")\n",
    "elif marks > 60:\n",
    "    print(\"Keep going\")\n",
    "else:\n",
    "    print(\"Work Hard\")"
   ]
  },
  {
   "cell_type": "markdown",
   "id": "14b09f5c",
   "metadata": {},
   "source": [
    "**Multiple If Blocks**\n",
    "Multiple if blocks behave like independent blocks, only the last if-else is connected."
   ]
  },
  {
   "cell_type": "code",
   "execution_count": 26,
   "id": "26d240e1",
   "metadata": {},
   "outputs": [
    {
     "name": "stdout",
     "output_type": "stream",
     "text": [
      "lets party\n",
      "Good Job\n",
      "Keep going\n"
     ]
    }
   ],
   "source": [
    "marks = 84\n",
    "\n",
    "if marks > 80:\n",
    "    print(\"lets party\")\n",
    "\n",
    "if marks > 70:\n",
    "    print(\"Good Job\")\n",
    "    \n",
    "if marks > 60:\n",
    "    print(\"Keep going\")\n",
    "    \n",
    "else:\n",
    "    print(\"work hard\")"
   ]
  },
  {
   "cell_type": "markdown",
   "id": "09b0657c",
   "metadata": {},
   "source": [
    " **Example** - Updating Values inside Blocks (again second condition is true but it will not get executed)"
   ]
  },
  {
   "cell_type": "code",
   "execution_count": 28,
   "id": "1050716e",
   "metadata": {},
   "outputs": [
    {
     "name": "stdout",
     "output_type": "stream",
     "text": [
      "85\n"
     ]
    }
   ],
   "source": [
    "\n",
    "marks = 75 \n",
    "if marks > 70:\n",
    "    marks = marks + 10\n",
    "    \n",
    "elif marks > 80:\n",
    "    marks = marks + 5\n",
    "    \n",
    "else:\n",
    "    print(\"Work hard\")\n",
    "    \n",
    "print(marks)"
   ]
  },
  {
   "cell_type": "markdown",
   "id": "711a77b6",
   "metadata": {},
   "source": [
    "### Electricity Bill Calculator\n",
    "\n",
    "```\n",
    "Units        Slabs\n",
    "0 - 100      Free\n",
    "100 - 200    Rs. 5/unit\n",
    "200 - 300    Rs. 10/unit\n",
    "300+ Units   Rs. 12/unit\n",
    "```"
   ]
  },
  {
   "cell_type": "code",
   "execution_count": 43,
   "id": "fbed2a95",
   "metadata": {},
   "outputs": [
    {
     "name": "stdout",
     "output_type": "stream",
     "text": [
      "254\n",
      "1040\n"
     ]
    }
   ],
   "source": [
    "# Electricity Bill\n",
    "units = int(input())\n",
    "total_bill = None\n",
    "\n",
    "if units <= 100:\n",
    "    total_bill = 0\n",
    "elif units <= 200: # units > 100 and units <= 200\n",
    "    total_bill = 0 + (units - 100)*5\n",
    "elif units <= 300:\n",
    "    total_bill = 0 + 100*5 + (units - 200)*10\n",
    "else:\n",
    "    total_bill = 0 + 100*5 + 100*10 + (units - 300)*12\n",
    "\n",
    "#Print the total bill     \n",
    "print(total_bill)\n"
   ]
  },
  {
   "cell_type": "markdown",
   "id": "36a5c737",
   "metadata": {},
   "source": [
    "### In-line if-else"
   ]
  },
  {
   "cell_type": "code",
   "execution_count": 73,
   "id": "f36ba296",
   "metadata": {},
   "outputs": [
    {
     "name": "stdout",
     "output_type": "stream",
     "text": [
      "2\n"
     ]
    }
   ],
   "source": [
    "a = 10\n",
    "b = 2\n",
    "\n",
    "small = a if a < b else b\n",
    "print(small)"
   ]
  },
  {
   "cell_type": "code",
   "execution_count": 74,
   "id": "8750c5aa",
   "metadata": {},
   "outputs": [
    {
     "name": "stdout",
     "output_type": "stream",
     "text": [
      "10\n"
     ]
    }
   ],
   "source": [
    "print(a) if a > b  else print(b) "
   ]
  },
  {
   "cell_type": "markdown",
   "id": "fb182603",
   "metadata": {},
   "source": [
    "### Nested if-else"
   ]
  },
  {
   "cell_type": "code",
   "execution_count": 75,
   "id": "a558b91a",
   "metadata": {},
   "outputs": [
    {
     "name": "stdout",
     "output_type": "stream",
     "text": [
      "let's party\n",
      "Order Burgers\n"
     ]
    }
   ],
   "source": [
    "marks = 81\n",
    "budget = 100\n",
    "    \n",
    "if marks > 80:\n",
    "    print(\"let's party\")\n",
    "    if budget > 100:\n",
    "        print(\"Order Pizzas\")\n",
    "    else:\n",
    "        print(\"Order Burgers\")\n",
    "        \n",
    "else:\n",
    "    print(\"Work Hard\")\n"
   ]
  },
  {
   "cell_type": "code",
   "execution_count": 77,
   "id": "525701da",
   "metadata": {},
   "outputs": [
    {
     "name": "stdout",
     "output_type": "stream",
     "text": [
      "Work Hard\n"
     ]
    }
   ],
   "source": [
    "# Shows that if condition can be little complex.\n",
    "\n",
    "\n",
    "print(\"Pizzas\") if marks > 80 and budget > 100 else print(\"Work Hard\")"
   ]
  },
  {
   "cell_type": "code",
   "execution_count": null,
   "id": "f407119d",
   "metadata": {},
   "outputs": [],
   "source": []
  },
  {
   "cell_type": "code",
   "execution_count": null,
   "id": "96eb27aa",
   "metadata": {},
   "outputs": [],
   "source": []
  },
  {
   "cell_type": "code",
   "execution_count": null,
   "id": "819a3e74",
   "metadata": {},
   "outputs": [],
   "source": []
  },
  {
   "cell_type": "code",
   "execution_count": null,
   "id": "9c2d9c75",
   "metadata": {},
   "outputs": [],
   "source": []
  },
  {
   "cell_type": "code",
   "execution_count": null,
   "id": "54374ae9",
   "metadata": {},
   "outputs": [],
   "source": []
  },
  {
   "cell_type": "code",
   "execution_count": null,
   "id": "3d2d1c7d",
   "metadata": {},
   "outputs": [],
   "source": []
  },
  {
   "cell_type": "markdown",
   "id": "d6816b2a",
   "metadata": {},
   "source": [
    "### Basic Mathematical Operators"
   ]
  },
  {
   "cell_type": "code",
   "execution_count": null,
   "id": "341b0223",
   "metadata": {},
   "outputs": [],
   "source": []
  },
  {
   "cell_type": "code",
   "execution_count": null,
   "id": "e6d383be",
   "metadata": {},
   "outputs": [],
   "source": [
    "Modulo a%b gives us the remainder when a is divided by b.  "
   ]
  },
  {
   "cell_type": "code",
   "execution_count": 44,
   "id": "3fbb8980",
   "metadata": {},
   "outputs": [
    {
     "data": {
      "text/plain": [
       "2"
      ]
     },
     "execution_count": 44,
     "metadata": {},
     "output_type": "execute_result"
    }
   ],
   "source": [
    "5%3"
   ]
  },
  {
   "cell_type": "code",
   "execution_count": 45,
   "id": "f7fc3c79",
   "metadata": {},
   "outputs": [
    {
     "data": {
      "text/plain": [
       "5"
      ]
     },
     "execution_count": 45,
     "metadata": {},
     "output_type": "execute_result"
    }
   ],
   "source": [
    "17%6"
   ]
  },
  {
   "cell_type": "markdown",
   "id": "0506ffea",
   "metadata": {},
   "source": [
    "**Floor Divison vs Regular Division**"
   ]
  },
  {
   "cell_type": "code",
   "execution_count": 47,
   "id": "38d74962",
   "metadata": {},
   "outputs": [
    {
     "data": {
      "text/plain": [
       "1.6666666666666667"
      ]
     },
     "execution_count": 47,
     "metadata": {},
     "output_type": "execute_result"
    }
   ],
   "source": [
    "5/3"
   ]
  },
  {
   "cell_type": "code",
   "execution_count": 48,
   "id": "c9c4003f",
   "metadata": {},
   "outputs": [
    {
     "data": {
      "text/plain": [
       "1"
      ]
     },
     "execution_count": 48,
     "metadata": {},
     "output_type": "execute_result"
    }
   ],
   "source": [
    "5//3 #floor division"
   ]
  },
  {
   "cell_type": "code",
   "execution_count": 49,
   "id": "717e51af",
   "metadata": {},
   "outputs": [
    {
     "data": {
      "text/plain": [
       "3.6666666666666665"
      ]
     },
     "execution_count": 49,
     "metadata": {},
     "output_type": "execute_result"
    }
   ],
   "source": [
    "11/3"
   ]
  },
  {
   "cell_type": "code",
   "execution_count": 50,
   "id": "3ece7320",
   "metadata": {},
   "outputs": [
    {
     "data": {
      "text/plain": [
       "3"
      ]
     },
     "execution_count": 50,
     "metadata": {},
     "output_type": "execute_result"
    }
   ],
   "source": [
    "11//3"
   ]
  },
  {
   "cell_type": "code",
   "execution_count": 51,
   "id": "ac530e5a",
   "metadata": {},
   "outputs": [],
   "source": [
    "result = 11/3"
   ]
  },
  {
   "cell_type": "code",
   "execution_count": 53,
   "id": "bd11a42f",
   "metadata": {},
   "outputs": [
    {
     "name": "stdout",
     "output_type": "stream",
     "text": [
      "3.667\n"
     ]
    }
   ],
   "source": [
    "# Rounding Off (Correct Approach)\n",
    "print(\"%.3f\" % result)"
   ]
  },
  {
   "cell_type": "markdown",
   "id": "c398e137",
   "metadata": {},
   "source": [
    "**Power Function**"
   ]
  },
  {
   "cell_type": "code",
   "execution_count": 66,
   "id": "34120dc7",
   "metadata": {},
   "outputs": [
    {
     "data": {
      "text/plain": [
       "125"
      ]
     },
     "execution_count": 66,
     "metadata": {},
     "output_type": "execute_result"
    }
   ],
   "source": [
    "5**3"
   ]
  },
  {
   "cell_type": "code",
   "execution_count": 67,
   "id": "ecc77992",
   "metadata": {},
   "outputs": [
    {
     "data": {
      "text/plain": [
       "1024"
      ]
     },
     "execution_count": 67,
     "metadata": {},
     "output_type": "execute_result"
    }
   ],
   "source": [
    "2**10"
   ]
  },
  {
   "cell_type": "markdown",
   "id": "4f625ecb",
   "metadata": {},
   "source": [
    "There is no limit on the size of the number you can store."
   ]
  },
  {
   "cell_type": "code",
   "execution_count": 71,
   "id": "efc5efb8",
   "metadata": {},
   "outputs": [
    {
     "data": {
      "text/plain": [
       "44469555777733314282606206055999999998364363658021997817957995797980"
      ]
     },
     "execution_count": 71,
     "metadata": {},
     "output_type": "execute_result"
    }
   ],
   "source": [
    "1999999999998*22234777888888891919191991919919191991102101021002101010"
   ]
  },
  {
   "cell_type": "code",
   "execution_count": null,
   "id": "d408efd1",
   "metadata": {},
   "outputs": [],
   "source": []
  }
 ],
 "metadata": {
  "kernelspec": {
   "display_name": "Python 3 (ipykernel)",
   "language": "python",
   "name": "python3"
  },
  "language_info": {
   "codemirror_mode": {
    "name": "ipython",
    "version": 3
   },
   "file_extension": ".py",
   "mimetype": "text/x-python",
   "name": "python",
   "nbconvert_exporter": "python",
   "pygments_lexer": "ipython3",
   "version": "3.8.2"
  }
 },
 "nbformat": 4,
 "nbformat_minor": 5
}

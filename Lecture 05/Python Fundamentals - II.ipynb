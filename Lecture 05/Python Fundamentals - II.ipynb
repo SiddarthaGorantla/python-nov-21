{
 "cells": [
  {
   "cell_type": "markdown",
   "id": "fe76bae1",
   "metadata": {},
   "source": [
    "### Break Statement"
   ]
  },
  {
   "cell_type": "code",
   "execution_count": 3,
   "id": "95c560ca",
   "metadata": {},
   "outputs": [
    {
     "name": "stdout",
     "output_type": "stream",
     "text": [
      "0\n",
      "5\n",
      "10\n",
      "15\n",
      "20\n",
      "25\n",
      "30\n",
      "35\n",
      "40\n",
      "45\n",
      "50\n",
      "55\n",
      "60\n",
      "65\n",
      "70\n",
      "75\n",
      "out of the loop\n"
     ]
    }
   ],
   "source": [
    "calories = 0\n",
    "\n",
    "while calories <= 100:\n",
    "    print(calories)\n",
    "    # At 75 Calories, I should Stop\n",
    "    if calories == 75:\n",
    "        break\n",
    "    calories = calories + 5\n",
    "    \n",
    "    \n",
    "print(\"out of the loop\")\n"
   ]
  },
  {
   "cell_type": "code",
   "execution_count": 7,
   "id": "797f33fc",
   "metadata": {},
   "outputs": [
    {
     "name": "stdout",
     "output_type": "stream",
     "text": [
      "0\n",
      "5\n",
      "10\n",
      "15\n",
      "20\n",
      "25\n",
      "30\n",
      "35\n",
      "40\n",
      "45\n",
      "50\n",
      "55\n",
      "60\n",
      "65\n",
      "70\n",
      "75\n",
      "out of for loop\n"
     ]
    }
   ],
   "source": [
    "for calories in range(0,101,5):\n",
    "    print(calories)\n",
    "    if calories == 75:\n",
    "        break\n",
    "        \n",
    "print(\"out of for loop\")"
   ]
  },
  {
   "cell_type": "markdown",
   "id": "e1b896d5",
   "metadata": {},
   "source": [
    "### Prime or Not?"
   ]
  },
  {
   "cell_type": "code",
   "execution_count": 19,
   "id": "cd68603c",
   "metadata": {},
   "outputs": [
    {
     "name": "stdout",
     "output_type": "stream",
     "text": [
      "12\n",
      "Not Prime\n"
     ]
    }
   ],
   "source": [
    "n = int(input())\n",
    "\n",
    "i = 2\n",
    "while i < n:\n",
    "    #print(\"dividing by \" + str(i))\n",
    "    if n%i == 0:\n",
    "        print(\"Not Prime\")\n",
    "        break\n",
    "    i = i + 1\n",
    "\n",
    "#outside the loop\n",
    "if i==n:\n",
    "    print(\"Prime\")"
   ]
  },
  {
   "cell_type": "markdown",
   "id": "f693f059",
   "metadata": {},
   "source": [
    "**Prime Number using a For Loop**"
   ]
  },
  {
   "cell_type": "code",
   "execution_count": 31,
   "id": "920f9bb9",
   "metadata": {},
   "outputs": [
    {
     "name": "stdout",
     "output_type": "stream",
     "text": [
      "12\n",
      "Not Prime\n"
     ]
    }
   ],
   "source": [
    "n = int(input())\n",
    "isPrime = True\n",
    "\n",
    "for i in range(2,n):\n",
    "    if n%i==0:\n",
    "        isPrime = False\n",
    "        print(\"Not Prime\")\n",
    "        break\n",
    "\n",
    "if isPrime:\n",
    "    print(\"Prime\")\n"
   ]
  },
  {
   "cell_type": "markdown",
   "id": "00568882",
   "metadata": {},
   "source": [
    "#### Square Root Optimisation"
   ]
  },
  {
   "cell_type": "code",
   "execution_count": 52,
   "id": "0ed15366",
   "metadata": {},
   "outputs": [
    {
     "name": "stdout",
     "output_type": "stream",
     "text": [
      "8\n",
      "Not Prime\n"
     ]
    }
   ],
   "source": [
    "n = int(input())\n",
    "i = 2\n",
    "while i*i <= n:\n",
    "    if n%i==0:\n",
    "        print(\"Not Prime\")\n",
    "        break\n",
    "    i = i + 1\n",
    "        \n",
    "if i*i>n:\n",
    "    print(\"Prime\")"
   ]
  },
  {
   "cell_type": "markdown",
   "id": "6264e6f9",
   "metadata": {},
   "source": [
    "**LIVE Assignment : Take input two numbers, print all primes in the range A to B.**"
   ]
  },
  {
   "cell_type": "markdown",
   "id": "3f41fc1a",
   "metadata": {},
   "source": [
    "```\n",
    "a = 10\n",
    "b = 20\n",
    "\n",
    "output = 11, 13, 17, 19\n",
    "```"
   ]
  },
  {
   "cell_type": "code",
   "execution_count": 57,
   "id": "1b80eeee",
   "metadata": {},
   "outputs": [
    {
     "name": "stdout",
     "output_type": "stream",
     "text": [
      "20\n",
      "10\n",
      "11 13 17 19 "
     ]
    }
   ],
   "source": [
    "a = int(input())\n",
    "b = int(input())\n",
    "\n",
    "if a > b:\n",
    "    b,a = a,b\n",
    "\n",
    "for n in range(a,b+1):\n",
    "    # print n if it is prime\n",
    "    i = 2\n",
    "    while i*i <= n:\n",
    "        if n%i == 0:\n",
    "            break\n",
    "        i = i + 1\n",
    "    \n",
    "    if i*i > n:\n",
    "        print(n,end=\" \")"
   ]
  },
  {
   "cell_type": "markdown",
   "id": "73aba1ed",
   "metadata": {},
   "source": [
    "## Continue Statement"
   ]
  },
  {
   "cell_type": "code",
   "execution_count": 62,
   "id": "a19ecbd6",
   "metadata": {},
   "outputs": [
    {
     "name": "stdout",
     "output_type": "stream",
     "text": [
      "2\n",
      "3\n",
      "4\n",
      "5\n",
      "6\n",
      "7\n",
      "9\n",
      "10\n"
     ]
    }
   ],
   "source": [
    "i = 2\n",
    "while i <= 10:\n",
    "    print(i)\n",
    "    if i==7:\n",
    "        #update is important to avoid infinite loop\n",
    "        i = i + 2\n",
    "        continue\n",
    "    i = i + 1"
   ]
  },
  {
   "cell_type": "code",
   "execution_count": 75,
   "id": "12902896",
   "metadata": {},
   "outputs": [
    {
     "name": "stdout",
     "output_type": "stream",
     "text": [
      "0\n",
      "5\n",
      "10\n",
      "15\n",
      "20\n",
      "25\n",
      "30\n",
      "35\n",
      "40\n",
      "41\n",
      "42\n",
      "43\n",
      "44\n",
      "45\n",
      "46\n",
      "47\n",
      "48\n",
      "49\n",
      "50\n"
     ]
    }
   ],
   "source": [
    "shopping_cart = 0\n",
    "while shopping_cart <= 50:\n",
    "    print(shopping_cart)\n",
    "    if shopping_cart>=40:\n",
    "        shopping_cart = shopping_cart + 1\n",
    "        continue\n",
    "    \n",
    "    shopping_cart = shopping_cart + 5"
   ]
  },
  {
   "cell_type": "code",
   "execution_count": 69,
   "id": "0ae74fbd",
   "metadata": {},
   "outputs": [
    {
     "name": "stdout",
     "output_type": "stream",
     "text": [
      "0\n",
      "5\n",
      "10\n",
      "15\n",
      "20\n",
      "25\n",
      "30\n",
      "35\n",
      "40\n",
      "41\n",
      "42\n",
      "43\n",
      "44\n",
      "45\n",
      "46\n",
      "47\n",
      "48\n",
      "49\n",
      "50\n"
     ]
    }
   ],
   "source": [
    "shopping_cart = 0\n",
    "while shopping_cart <= 50:\n",
    "    print(shopping_cart)\n",
    "    \n",
    "    if shopping_cart>=40:\n",
    "        shopping_cart = shopping_cart + 1\n",
    "    \n",
    "    else:\n",
    "        shopping_cart = shopping_cart + 5"
   ]
  },
  {
   "cell_type": "markdown",
   "id": "6d0f8040",
   "metadata": {},
   "source": [
    "### Pass Statement \n",
    "Null statement in python"
   ]
  },
  {
   "cell_type": "code",
   "execution_count": 82,
   "id": "653bdee0",
   "metadata": {},
   "outputs": [],
   "source": [
    "a = 20\n",
    "b = 10\n",
    "\n",
    "if a > b:\n",
    "    # later on i will add some code\n",
    "    # a = a + b (Comment if you want to skip a particular line)\n",
    "    pass\n",
    "else:\n",
    "    print(a-b)"
   ]
  },
  {
   "cell_type": "code",
   "execution_count": 74,
   "id": "0e4100ec",
   "metadata": {},
   "outputs": [],
   "source": [
    "if a > b:\n",
    "    pass\n",
    "else:\n",
    "    print(a-b)"
   ]
  },
  {
   "cell_type": "code",
   "execution_count": 77,
   "id": "cbbb9f9d",
   "metadata": {},
   "outputs": [],
   "source": [
    "for x in range(1,10):\n",
    "    pass"
   ]
  },
  {
   "cell_type": "code",
   "execution_count": 83,
   "id": "f69f0eec",
   "metadata": {},
   "outputs": [
    {
     "name": "stdout",
     "output_type": "stream",
     "text": [
      "Hi Before Pass\n",
      "Hi after Pass\n"
     ]
    }
   ],
   "source": [
    "if True:\n",
    "    print(\"Hi Before Pass\")\n",
    "    pass\n",
    "    print(\"Hi after Pass\")"
   ]
  },
  {
   "cell_type": "markdown",
   "id": "db05fb4d",
   "metadata": {},
   "source": [
    "### Return Statement\n",
    "(Cover in the functions class)"
   ]
  },
  {
   "cell_type": "code",
   "execution_count": 87,
   "id": "2bca3016",
   "metadata": {},
   "outputs": [
    {
     "name": "stdout",
     "output_type": "stream",
     "text": [
      "rainy day\n"
     ]
    }
   ],
   "source": [
    "weather = 0\n",
    "\n",
    "if weather==0:\n",
    "    print(\"rainy day\")\n",
    "elif weather==1:\n",
    "    print(\"Sunny day\") \n",
    "else:\n",
    "    print(\"Cloud day\")"
   ]
  },
  {
   "cell_type": "markdown",
   "id": "64e0add2",
   "metadata": {},
   "source": [
    "### But from Python 3.10, there match case introduced in Python"
   ]
  },
  {
   "cell_type": "code",
   "execution_count": null,
   "id": "7f5bed5c",
   "metadata": {},
   "outputs": [],
   "source": []
  },
  {
   "cell_type": "markdown",
   "id": "206a3310",
   "metadata": {},
   "source": [
    "## We don't really have a do while loop but...."
   ]
  },
  {
   "cell_type": "code",
   "execution_count": 95,
   "id": "d487c6e1",
   "metadata": {},
   "outputs": [],
   "source": [
    "x = 1\n",
    "while x < 0:\n",
    "    print(x)\n",
    "    x = x + 1"
   ]
  },
  {
   "cell_type": "code",
   "execution_count": 94,
   "id": "c8ceade6",
   "metadata": {},
   "outputs": [
    {
     "name": "stdout",
     "output_type": "stream",
     "text": [
      "1\n"
     ]
    }
   ],
   "source": [
    "x = 1\n",
    "\n",
    "while True:\n",
    "    print(x)\n",
    "    x = x + 1\n",
    "    if x >= 0:\n",
    "        break"
   ]
  },
  {
   "cell_type": "markdown",
   "id": "4de0ffb3",
   "metadata": {},
   "source": [
    "### LIVE Assignment : Given a number you need to reverse it!"
   ]
  },
  {
   "cell_type": "markdown",
   "id": "4d1881dc",
   "metadata": {},
   "source": [
    "```\n",
    "n = 312\n",
    "n = 45600\n",
    "output = 213\n",
    "```"
   ]
  },
  {
   "cell_type": "code",
   "execution_count": 102,
   "id": "9418c380",
   "metadata": {},
   "outputs": [
    {
     "name": "stdout",
     "output_type": "stream",
     "text": [
      "650040\n",
      "040056"
     ]
    }
   ],
   "source": [
    "# Jugaad based Approach \n",
    "n = int(input())\n",
    "\n",
    "while n!=0 :\n",
    "    print(n%10,end=\"\")\n",
    "    n = n//10"
   ]
  },
  {
   "cell_type": "code",
   "execution_count": 103,
   "id": "210f77d4",
   "metadata": {},
   "outputs": [],
   "source": [
    "# Actual Reveresing of a Number"
   ]
  },
  {
   "cell_type": "code",
   "execution_count": 106,
   "id": "1de40be5",
   "metadata": {},
   "outputs": [
    {
     "name": "stdout",
     "output_type": "stream",
     "text": [
      "7890\n",
      "987\n"
     ]
    }
   ],
   "source": [
    "n = int(input())\n",
    "ans = 0\n",
    "\n",
    "while n!=0:\n",
    "    rem = n%10\n",
    "    ans = ans*10 + rem\n",
    "    n = n//10\n",
    "    \n",
    "print(ans)"
   ]
  },
  {
   "cell_type": "markdown",
   "id": "f9d5fb83",
   "metadata": {},
   "source": [
    "### Table of Number (HW)"
   ]
  },
  {
   "cell_type": "code",
   "execution_count": 109,
   "id": "b386b2e7",
   "metadata": {},
   "outputs": [],
   "source": [
    "# .format()"
   ]
  },
  {
   "cell_type": "code",
   "execution_count": 108,
   "id": "6094d88f",
   "metadata": {},
   "outputs": [
    {
     "name": "stdout",
     "output_type": "stream",
     "text": [
      "6\n",
      "6 * 1 = 6\n",
      "6 * 2 = 12\n",
      "6 * 3 = 18\n",
      "6 * 4 = 24\n",
      "6 * 5 = 30\n",
      "6 * 6 = 36\n",
      "6 * 7 = 42\n",
      "6 * 8 = 48\n",
      "6 * 9 = 54\n",
      "6 * 10 = 60\n"
     ]
    }
   ],
   "source": [
    "N = int(input())\n",
    "i = 1\n",
    "while i <= 10:\n",
    "    print(f\"{N} * {i} = {N * i}\")\n",
    "    i += 1"
   ]
  },
  {
   "cell_type": "code",
   "execution_count": null,
   "id": "809e8182",
   "metadata": {},
   "outputs": [],
   "source": []
  }
 ],
 "metadata": {
  "kernelspec": {
   "display_name": "Python 3 (ipykernel)",
   "language": "python",
   "name": "python3"
  },
  "language_info": {
   "codemirror_mode": {
    "name": "ipython",
    "version": 3
   },
   "file_extension": ".py",
   "mimetype": "text/x-python",
   "name": "python",
   "nbconvert_exporter": "python",
   "pygments_lexer": "ipython3",
   "version": "3.8.2"
  }
 },
 "nbformat": 4,
 "nbformat_minor": 5
}

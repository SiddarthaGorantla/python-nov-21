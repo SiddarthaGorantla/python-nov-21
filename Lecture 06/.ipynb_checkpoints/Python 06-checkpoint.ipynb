{
 "cells": [
  {
   "cell_type": "code",
   "execution_count": 1,
   "id": "ae9ec58c",
   "metadata": {},
   "outputs": [
    {
     "name": "stdout",
     "output_type": "stream",
     "text": [
      "10\n"
     ]
    }
   ],
   "source": [
    "x = 10\n",
    "\n",
    "print(x)"
   ]
  },
  {
   "cell_type": "code",
   "execution_count": 3,
   "id": "237d126d",
   "metadata": {},
   "outputs": [
    {
     "name": "stdout",
     "output_type": "stream",
     "text": [
      "4314554920\n"
     ]
    }
   ],
   "source": [
    "# location of the object\n",
    "print(id(x))"
   ]
  },
  {
   "cell_type": "code",
   "execution_count": 4,
   "id": "09c0f629",
   "metadata": {},
   "outputs": [
    {
     "name": "stdout",
     "output_type": "stream",
     "text": [
      "4314554920\n"
     ]
    }
   ],
   "source": [
    "y = 10\n",
    "print(id(y))\n"
   ]
  },
  {
   "cell_type": "code",
   "execution_count": 5,
   "id": "c5c0762c",
   "metadata": {},
   "outputs": [
    {
     "name": "stdout",
     "output_type": "stream",
     "text": [
      "Objects are same\n"
     ]
    }
   ],
   "source": [
    "if id(x) == id(y):\n",
    "    print(\"Objects are same\")\n",
    "else:\n",
    "    print(\"Two different objects\")"
   ]
  },
  {
   "cell_type": "code",
   "execution_count": 6,
   "id": "e797a521",
   "metadata": {},
   "outputs": [
    {
     "data": {
      "text/plain": [
       "True"
      ]
     },
     "execution_count": 6,
     "metadata": {},
     "output_type": "execute_result"
    }
   ],
   "source": [
    "x = 244\n",
    "y = 244\n",
    "\n",
    "id(x) == id(y)"
   ]
  },
  {
   "cell_type": "code",
   "execution_count": 7,
   "id": "ae1434ac",
   "metadata": {},
   "outputs": [
    {
     "data": {
      "text/plain": [
       "False"
      ]
     },
     "execution_count": 7,
     "metadata": {},
     "output_type": "execute_result"
    }
   ],
   "source": [
    "x = 2444678\n",
    "y = 2444678\n",
    "\n",
    "id(x) == id(y)"
   ]
  },
  {
   "cell_type": "code",
   "execution_count": 10,
   "id": "88a2e2d0",
   "metadata": {},
   "outputs": [
    {
     "data": {
      "text/plain": [
       "4352410128"
      ]
     },
     "execution_count": 10,
     "metadata": {},
     "output_type": "execute_result"
    }
   ],
   "source": [
    "id(x)"
   ]
  },
  {
   "cell_type": "code",
   "execution_count": 9,
   "id": "44a61c90",
   "metadata": {},
   "outputs": [
    {
     "data": {
      "text/plain": [
       "4352411984"
      ]
     },
     "execution_count": 9,
     "metadata": {},
     "output_type": "execute_result"
    }
   ],
   "source": [
    "id(y)"
   ]
  },
  {
   "cell_type": "markdown",
   "id": "78f61304",
   "metadata": {},
   "source": [
    "## Dynamically Typed Language"
   ]
  },
  {
   "cell_type": "code",
   "execution_count": 11,
   "id": "defbafb2",
   "metadata": {},
   "outputs": [],
   "source": [
    "# x is referencing to integer object\n",
    "x = 10"
   ]
  },
  {
   "cell_type": "code",
   "execution_count": 14,
   "id": "c98c01f7",
   "metadata": {},
   "outputs": [
    {
     "name": "stdout",
     "output_type": "stream",
     "text": [
      "Hello\n"
     ]
    }
   ],
   "source": [
    "# later, x is referencing to a string object\n",
    "x = input()"
   ]
  },
  {
   "cell_type": "code",
   "execution_count": 15,
   "id": "60089699",
   "metadata": {},
   "outputs": [],
   "source": [
    "# Garbage Collector, it will clear out the memory claimed by object 10"
   ]
  },
  {
   "cell_type": "code",
   "execution_count": 16,
   "id": "ba81f527",
   "metadata": {},
   "outputs": [
    {
     "name": "stdout",
     "output_type": "stream",
     "text": [
      "4314554920\n",
      "4314554952\n"
     ]
    }
   ],
   "source": [
    "x = 10\n",
    "print(id(x))\n",
    "x = x + 1\n",
    "print(id(x))"
   ]
  },
  {
   "cell_type": "code",
   "execution_count": 19,
   "id": "eb7210d4",
   "metadata": {},
   "outputs": [
    {
     "name": "stdout",
     "output_type": "stream",
     "text": [
      "4314554952\n"
     ]
    }
   ],
   "source": [
    "y = 11\n",
    "print(id(y))"
   ]
  },
  {
   "cell_type": "markdown",
   "id": "d48cdfa9",
   "metadata": {},
   "source": [
    "### Functions"
   ]
  },
  {
   "cell_type": "code",
   "execution_count": 20,
   "id": "9abb8238",
   "metadata": {},
   "outputs": [],
   "source": [
    "def sayHi():\n",
    "    print(\"Hi everyone\")"
   ]
  },
  {
   "cell_type": "code",
   "execution_count": 21,
   "id": "24c8b021",
   "metadata": {},
   "outputs": [],
   "source": [
    "x = 5"
   ]
  },
  {
   "cell_type": "code",
   "execution_count": 22,
   "id": "fb2f548a",
   "metadata": {},
   "outputs": [
    {
     "name": "stdout",
     "output_type": "stream",
     "text": [
      "Hi everyone\n"
     ]
    }
   ],
   "source": [
    "# Function Call\n",
    "sayHi()"
   ]
  },
  {
   "cell_type": "code",
   "execution_count": 23,
   "id": "33e064a8",
   "metadata": {},
   "outputs": [
    {
     "name": "stdout",
     "output_type": "stream",
     "text": [
      "Hi everyone\n"
     ]
    }
   ],
   "source": [
    "sayHi()"
   ]
  },
  {
   "cell_type": "code",
   "execution_count": 24,
   "id": "f21ffb93",
   "metadata": {},
   "outputs": [
    {
     "name": "stdout",
     "output_type": "stream",
     "text": [
      "Hi everyone\n",
      "Hi everyone\n"
     ]
    }
   ],
   "source": [
    "sayHi()\n",
    "sayHi()"
   ]
  },
  {
   "cell_type": "markdown",
   "id": "6aada743",
   "metadata": {},
   "source": [
    "**First define the function before calling it**\n",
    "\n",
    "This will give an error\n",
    "```python\n",
    "sayBye()\n",
    "\n",
    "def sayBye():\n",
    "    print(\"Bye\")\n",
    "```\n"
   ]
  },
  {
   "cell_type": "code",
   "execution_count": 39,
   "id": "1dc50edb",
   "metadata": {},
   "outputs": [],
   "source": [
    "# Functions can also accept values\n",
    "def welcomeToHotel(name):\n",
    "    if isinstance(name,str):\n",
    "        print(\"Welcome to Hotel\")\n",
    "        print(name + \", how are you\")\n",
    "    else:\n",
    "        print(\"Enter a valid name\")"
   ]
  },
  {
   "cell_type": "code",
   "execution_count": 40,
   "id": "3890770e",
   "metadata": {},
   "outputs": [
    {
     "name": "stdout",
     "output_type": "stream",
     "text": [
      "Welcome to Hotel\n",
      "Prateek, how are you\n"
     ]
    }
   ],
   "source": [
    "welcomeToHotel(\"Prateek\")"
   ]
  },
  {
   "cell_type": "code",
   "execution_count": 41,
   "id": "d6d6e0ee",
   "metadata": {},
   "outputs": [
    {
     "name": "stdout",
     "output_type": "stream",
     "text": [
      "Welcome to Hotel\n",
      "Akhil, how are you\n"
     ]
    }
   ],
   "source": [
    "welcomeToHotel(\"Akhil\")"
   ]
  },
  {
   "cell_type": "code",
   "execution_count": 43,
   "id": "444fa030",
   "metadata": {},
   "outputs": [
    {
     "name": "stdout",
     "output_type": "stream",
     "text": [
      "Enter a valid name\n"
     ]
    }
   ],
   "source": [
    "welcomeToHotel(10)"
   ]
  },
  {
   "cell_type": "code",
   "execution_count": 42,
   "id": "2b6fe5f6",
   "metadata": {},
   "outputs": [
    {
     "data": {
      "text/plain": [
       "True"
      ]
     },
     "execution_count": 42,
     "metadata": {},
     "output_type": "execute_result"
    }
   ],
   "source": [
    "# Functions can also return values\n",
    "name = \"Hello\"\n",
    "isinstance(name,str)"
   ]
  },
  {
   "cell_type": "code",
   "execution_count": 45,
   "id": "e26803cc",
   "metadata": {},
   "outputs": [],
   "source": [
    "def areaOfCircle(radius):\n",
    "    return 3.14*radius*radius"
   ]
  },
  {
   "cell_type": "code",
   "execution_count": 49,
   "id": "40a02f51",
   "metadata": {},
   "outputs": [],
   "source": [
    "circle5 = areaOfCircle(5)"
   ]
  },
  {
   "cell_type": "code",
   "execution_count": 56,
   "id": "c88fa573",
   "metadata": {},
   "outputs": [],
   "source": [
    "# Function \n",
    "def videoUpload(videoId):\n",
    "    print(\"Video uploaded Successfully \" + str(videoId))"
   ]
  },
  {
   "cell_type": "code",
   "execution_count": 57,
   "id": "40432b90",
   "metadata": {},
   "outputs": [
    {
     "name": "stdout",
     "output_type": "stream",
     "text": [
      "Video uploaded Successfully 5\n"
     ]
    }
   ],
   "source": [
    "videoUpload(5)"
   ]
  },
  {
   "cell_type": "code",
   "execution_count": 62,
   "id": "485f933e",
   "metadata": {},
   "outputs": [],
   "source": [
    "import random \n",
    "\n",
    "def videoUploadWithTime(videoId):\n",
    "    print(\"Video uploaded Successfully \" + str(videoId))\n",
    "    time_taken = random.random()\n",
    "    return time_taken"
   ]
  },
  {
   "cell_type": "code",
   "execution_count": 64,
   "id": "1b3f0c31",
   "metadata": {},
   "outputs": [
    {
     "name": "stdout",
     "output_type": "stream",
     "text": [
      "Video uploaded Successfully 5\n",
      "0.6393318337390759\n"
     ]
    }
   ],
   "source": [
    "timeTaken = videoUploadWithTime(5)\n",
    "print(timeTaken)"
   ]
  },
  {
   "cell_type": "markdown",
   "id": "70092ab6",
   "metadata": {},
   "source": [
    "### Problem: Prime Numbers (Reusability + Return values)"
   ]
  },
  {
   "cell_type": "code",
   "execution_count": 66,
   "id": "57571238",
   "metadata": {},
   "outputs": [],
   "source": [
    "def prime(N):\n",
    "    i = 2\n",
    "    while i*i <= N:\n",
    "        if N%i == 0:\n",
    "            return False\n",
    "        i = i + 1\n",
    "    return True"
   ]
  },
  {
   "cell_type": "code",
   "execution_count": 79,
   "id": "4eb1bc78",
   "metadata": {},
   "outputs": [],
   "source": [
    "def printPrimes(A,B):\n",
    "    \n",
    "    for n in range(A,B+1):\n",
    "        print(\"Making a function call \" + str(n))\n",
    "        success = prime(n)\n",
    "        if success:\n",
    "            print(n,end=\",\")\n",
    "    "
   ]
  },
  {
   "cell_type": "code",
   "execution_count": 80,
   "id": "f405221f",
   "metadata": {},
   "outputs": [
    {
     "name": "stdout",
     "output_type": "stream",
     "text": [
      "Making a function call 10\n",
      "Making a function call 11\n",
      "11,Making a function call 12\n",
      "Making a function call 13\n",
      "13,Making a function call 14\n",
      "Making a function call 15\n",
      "Making a function call 16\n",
      "Making a function call 17\n",
      "17,Making a function call 18\n",
      "Making a function call 19\n",
      "19,Making a function call 20\n"
     ]
    }
   ],
   "source": [
    "printPrimes(10,20)"
   ]
  },
  {
   "cell_type": "markdown",
   "id": "2a89e857",
   "metadata": {},
   "source": [
    "**LIVE Assignment : Write a function to return GCD of two numbers A and B**"
   ]
  },
  {
   "cell_type": "code",
   "execution_count": 81,
   "id": "42c3b099",
   "metadata": {},
   "outputs": [],
   "source": [
    "def func():\n",
    "    return 5"
   ]
  },
  {
   "cell_type": "code",
   "execution_count": 82,
   "id": "b7042fd1",
   "metadata": {},
   "outputs": [
    {
     "data": {
      "text/plain": [
       "5"
      ]
     },
     "execution_count": 82,
     "metadata": {},
     "output_type": "execute_result"
    }
   ],
   "source": [
    "func()"
   ]
  },
  {
   "cell_type": "code",
   "execution_count": 84,
   "id": "f0cd0dd7",
   "metadata": {},
   "outputs": [
    {
     "name": "stdout",
     "output_type": "stream",
     "text": [
      "5\n"
     ]
    }
   ],
   "source": [
    "print(func())\n",
    "# True Output"
   ]
  },
  {
   "cell_type": "code",
   "execution_count": 89,
   "id": "6d60e229",
   "metadata": {},
   "outputs": [],
   "source": [
    "def GCD(A,B):\n",
    "    ans = 1\n",
    "    i = 1\n",
    "    while i <= min(A,B):\n",
    "        if A%i==0 and B%i==0:\n",
    "            ans = i\n",
    "        i = i + 1\n",
    "    return ans"
   ]
  },
  {
   "cell_type": "code",
   "execution_count": 91,
   "id": "f37b82c6",
   "metadata": {},
   "outputs": [
    {
     "data": {
      "text/plain": [
       "10"
      ]
     },
     "execution_count": 91,
     "metadata": {},
     "output_type": "execute_result"
    }
   ],
   "source": [
    "GCD(20,30)"
   ]
  },
  {
   "cell_type": "code",
   "execution_count": 92,
   "id": "7674f64f",
   "metadata": {},
   "outputs": [
    {
     "data": {
      "text/plain": [
       "5"
      ]
     },
     "execution_count": 92,
     "metadata": {},
     "output_type": "execute_result"
    }
   ],
   "source": [
    "GCD(20,35)"
   ]
  },
  {
   "cell_type": "code",
   "execution_count": 93,
   "id": "f66d532e",
   "metadata": {},
   "outputs": [
    {
     "data": {
      "text/plain": [
       "15"
      ]
     },
     "execution_count": 93,
     "metadata": {},
     "output_type": "execute_result"
    }
   ],
   "source": [
    "GCD(15,30)"
   ]
  },
  {
   "cell_type": "markdown",
   "id": "04e55529",
   "metadata": {},
   "source": [
    "### Parameters can have default values"
   ]
  },
  {
   "cell_type": "code",
   "execution_count": 100,
   "id": "fd28c04b",
   "metadata": {},
   "outputs": [],
   "source": [
    "# default value for the parameter \n",
    "def greet(name=\"everyone\"):\n",
    "    return \"Hello \" + name"
   ]
  },
  {
   "cell_type": "code",
   "execution_count": 101,
   "id": "a4c8a6ce",
   "metadata": {},
   "outputs": [
    {
     "data": {
      "text/plain": [
       "'Hello Prateek'"
      ]
     },
     "execution_count": 101,
     "metadata": {},
     "output_type": "execute_result"
    }
   ],
   "source": [
    "greet(\"Prateek\") # 1 parameter"
   ]
  },
  {
   "cell_type": "code",
   "execution_count": 99,
   "id": "970658ef",
   "metadata": {},
   "outputs": [
    {
     "data": {
      "text/plain": [
       "'Hello everyone'"
      ]
     },
     "execution_count": 99,
     "metadata": {},
     "output_type": "execute_result"
    }
   ],
   "source": [
    "greet() # 0 paramters"
   ]
  },
  {
   "cell_type": "code",
   "execution_count": 105,
   "id": "36d089dd",
   "metadata": {},
   "outputs": [],
   "source": [
    "def areaOfRectangle(side1, side2=None):\n",
    "    if side2==None:\n",
    "        return side1*side1\n",
    "    else:\n",
    "        return side1*side2"
   ]
  },
  {
   "cell_type": "code",
   "execution_count": 106,
   "id": "d6cf20b5",
   "metadata": {},
   "outputs": [
    {
     "data": {
      "text/plain": [
       "25"
      ]
     },
     "execution_count": 106,
     "metadata": {},
     "output_type": "execute_result"
    }
   ],
   "source": [
    "areaOfRectangle(5)"
   ]
  },
  {
   "cell_type": "code",
   "execution_count": 107,
   "id": "0311a208",
   "metadata": {},
   "outputs": [
    {
     "data": {
      "text/plain": [
       "15"
      ]
     },
     "execution_count": 107,
     "metadata": {},
     "output_type": "execute_result"
    }
   ],
   "source": [
    "areaOfRectangle(5,3)"
   ]
  },
  {
   "cell_type": "code",
   "execution_count": 109,
   "id": "abd7f733",
   "metadata": {},
   "outputs": [
    {
     "data": {
      "text/plain": [
       "15"
      ]
     },
     "execution_count": 109,
     "metadata": {},
     "output_type": "execute_result"
    }
   ],
   "source": [
    "areaOfRectangle(side1=5,side2=3)"
   ]
  },
  {
   "cell_type": "code",
   "execution_count": 111,
   "id": "2aade904",
   "metadata": {},
   "outputs": [
    {
     "data": {
      "text/plain": [
       "15"
      ]
     },
     "execution_count": 111,
     "metadata": {},
     "output_type": "execute_result"
    }
   ],
   "source": [
    "areaOfRectangle(5,side2=3)"
   ]
  },
  {
   "cell_type": "code",
   "execution_count": 118,
   "id": "c8a5d56e",
   "metadata": {},
   "outputs": [],
   "source": [
    "def add(a=0,b=0,c=0):\n",
    "    return a + b + c"
   ]
  },
  {
   "cell_type": "code",
   "execution_count": 119,
   "id": "15c49991",
   "metadata": {},
   "outputs": [
    {
     "data": {
      "text/plain": [
       "0"
      ]
     },
     "execution_count": 119,
     "metadata": {},
     "output_type": "execute_result"
    }
   ],
   "source": [
    "add()"
   ]
  },
  {
   "cell_type": "code",
   "execution_count": 113,
   "id": "8b8bdf95",
   "metadata": {},
   "outputs": [
    {
     "data": {
      "text/plain": [
       "1"
      ]
     },
     "execution_count": 113,
     "metadata": {},
     "output_type": "execute_result"
    }
   ],
   "source": [
    "add(1)"
   ]
  },
  {
   "cell_type": "code",
   "execution_count": 114,
   "id": "534cfc90",
   "metadata": {},
   "outputs": [
    {
     "data": {
      "text/plain": [
       "5"
      ]
     },
     "execution_count": 114,
     "metadata": {},
     "output_type": "execute_result"
    }
   ],
   "source": [
    "add(2,3)"
   ]
  },
  {
   "cell_type": "code",
   "execution_count": 115,
   "id": "7d7e1c7f",
   "metadata": {},
   "outputs": [
    {
     "data": {
      "text/plain": [
       "10"
      ]
     },
     "execution_count": 115,
     "metadata": {},
     "output_type": "execute_result"
    }
   ],
   "source": [
    "add(2,3,5)"
   ]
  },
  {
   "cell_type": "code",
   "execution_count": 117,
   "id": "2484cea3",
   "metadata": {},
   "outputs": [
    {
     "data": {
      "text/plain": [
       "11"
      ]
     },
     "execution_count": 117,
     "metadata": {},
     "output_type": "execute_result"
    }
   ],
   "source": [
    "add(2,4,c=5)"
   ]
  },
  {
   "cell_type": "code",
   "execution_count": 121,
   "id": "778dcba8",
   "metadata": {},
   "outputs": [
    {
     "data": {
      "text/plain": [
       "10"
      ]
     },
     "execution_count": 121,
     "metadata": {},
     "output_type": "execute_result"
    }
   ],
   "source": [
    "add(a=2,b=3,c=5)"
   ]
  },
  {
   "cell_type": "code",
   "execution_count": 125,
   "id": "b563fb56",
   "metadata": {},
   "outputs": [
    {
     "data": {
      "text/plain": [
       "builtin_function_or_method"
      ]
     },
     "execution_count": 125,
     "metadata": {},
     "output_type": "execute_result"
    }
   ],
   "source": [
    "type(print)"
   ]
  },
  {
   "cell_type": "code",
   "execution_count": 129,
   "id": "9444d1c3",
   "metadata": {},
   "outputs": [
    {
     "name": "stdout",
     "output_type": "stream",
     "text": [
      "\n"
     ]
    },
    {
     "data": {
      "text/plain": [
       "NoneType"
      ]
     },
     "execution_count": 129,
     "metadata": {},
     "output_type": "execute_result"
    }
   ],
   "source": [
    "type(print())"
   ]
  },
  {
   "cell_type": "code",
   "execution_count": 127,
   "id": "b04cfef3",
   "metadata": {},
   "outputs": [
    {
     "data": {
      "text/plain": [
       "4314414008"
      ]
     },
     "execution_count": 127,
     "metadata": {},
     "output_type": "execute_result"
    }
   ],
   "source": [
    "x = None\n",
    "id(x)"
   ]
  },
  {
   "cell_type": "code",
   "execution_count": 128,
   "id": "e7c930f8",
   "metadata": {},
   "outputs": [
    {
     "name": "stdout",
     "output_type": "stream",
     "text": [
      "\n",
      "4314414008\n"
     ]
    }
   ],
   "source": [
    "print(id(print()))"
   ]
  },
  {
   "cell_type": "markdown",
   "id": "2799137a",
   "metadata": {},
   "source": [
    "### Concept Demo"
   ]
  },
  {
   "cell_type": "code",
   "execution_count": 138,
   "id": "84b5531d",
   "metadata": {},
   "outputs": [],
   "source": [
    "def getMoney(money):\n",
    "    print(money, id(money))\n",
    "    print(\"In Function \", str(money), id(money))\n",
    "    money = money + 1\n",
    "    print(\"Update : In Function \", str(money), id(money))\n",
    "    \n",
    "def main():\n",
    "    money = 10\n",
    "    print(\"Im Main \", str(money), id(money))\n",
    "    getMoney(money)\n",
    "    print(\"Update : In Main \", str(money), id(money))"
   ]
  },
  {
   "cell_type": "code",
   "execution_count": 139,
   "id": "1c995311",
   "metadata": {},
   "outputs": [
    {
     "name": "stdout",
     "output_type": "stream",
     "text": [
      "Im Main  10 4314554920\n",
      "10 4314554920\n",
      "In Function  10 4314554920\n",
      "Update : In Function  11 4314554952\n",
      "Update : In Main  10 4314554920\n"
     ]
    }
   ],
   "source": [
    "main()"
   ]
  },
  {
   "cell_type": "code",
   "execution_count": null,
   "id": "86418627",
   "metadata": {},
   "outputs": [],
   "source": []
  }
 ],
 "metadata": {
  "kernelspec": {
   "display_name": "Python 3 (ipykernel)",
   "language": "python",
   "name": "python3"
  },
  "language_info": {
   "codemirror_mode": {
    "name": "ipython",
    "version": 3
   },
   "file_extension": ".py",
   "mimetype": "text/x-python",
   "name": "python",
   "nbconvert_exporter": "python",
   "pygments_lexer": "ipython3",
   "version": "3.8.2"
  }
 },
 "nbformat": 4,
 "nbformat_minor": 5
}

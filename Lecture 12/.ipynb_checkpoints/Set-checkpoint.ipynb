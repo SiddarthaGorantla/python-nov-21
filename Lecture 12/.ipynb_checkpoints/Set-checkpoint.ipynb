{
 "cells": [
  {
   "cell_type": "markdown",
   "id": "78b1a5f9",
   "metadata": {},
   "source": [
    "### Set\n",
    "- contains only unique elements\n",
    "- mutable \n",
    "- unordered \n",
    "- non-indexable "
   ]
  },
  {
   "cell_type": "code",
   "execution_count": 2,
   "id": "f5f3f89a",
   "metadata": {},
   "outputs": [],
   "source": [
    "s = set()"
   ]
  },
  {
   "cell_type": "code",
   "execution_count": 3,
   "id": "81612b7a",
   "metadata": {},
   "outputs": [
    {
     "data": {
      "text/plain": [
       "set"
      ]
     },
     "execution_count": 3,
     "metadata": {},
     "output_type": "execute_result"
    }
   ],
   "source": [
    "type(s)"
   ]
  },
  {
   "cell_type": "code",
   "execution_count": 4,
   "id": "ef026cf5",
   "metadata": {},
   "outputs": [],
   "source": [
    "s = {5,1,2,3,5,8,8}"
   ]
  },
  {
   "cell_type": "code",
   "execution_count": 5,
   "id": "c0b6f5a8",
   "metadata": {},
   "outputs": [
    {
     "data": {
      "text/plain": [
       "{1, 2, 3, 5, 8}"
      ]
     },
     "execution_count": 5,
     "metadata": {},
     "output_type": "execute_result"
    }
   ],
   "source": [
    "s #unique entries"
   ]
  },
  {
   "cell_type": "code",
   "execution_count": 9,
   "id": "27e4201e",
   "metadata": {},
   "outputs": [],
   "source": [
    "s.add(10) #modify the existing set as it is mutable"
   ]
  },
  {
   "cell_type": "code",
   "execution_count": 8,
   "id": "248f47d2",
   "metadata": {},
   "outputs": [],
   "source": [
    "# s = s.add(10)"
   ]
  },
  {
   "cell_type": "code",
   "execution_count": 10,
   "id": "ec170459",
   "metadata": {},
   "outputs": [
    {
     "data": {
      "text/plain": [
       "{1, 2, 3, 5, 8, 10}"
      ]
     },
     "execution_count": 10,
     "metadata": {},
     "output_type": "execute_result"
    }
   ],
   "source": [
    "s"
   ]
  },
  {
   "cell_type": "code",
   "execution_count": 11,
   "id": "817d638f",
   "metadata": {},
   "outputs": [],
   "source": [
    "s.add(\"hello\")"
   ]
  },
  {
   "cell_type": "code",
   "execution_count": 12,
   "id": "8268bde8",
   "metadata": {},
   "outputs": [
    {
     "data": {
      "text/plain": [
       "{1, 10, 2, 3, 5, 8, 'hello'}"
      ]
     },
     "execution_count": 12,
     "metadata": {},
     "output_type": "execute_result"
    }
   ],
   "source": [
    "s\n"
   ]
  },
  {
   "cell_type": "code",
   "execution_count": 13,
   "id": "da2dac20",
   "metadata": {},
   "outputs": [],
   "source": [
    "# Addition, Deletion, Searching"
   ]
  },
  {
   "cell_type": "code",
   "execution_count": 15,
   "id": "8f0f26bd",
   "metadata": {},
   "outputs": [],
   "source": [
    "s.remove(8)"
   ]
  },
  {
   "cell_type": "code",
   "execution_count": 16,
   "id": "f50d31a2",
   "metadata": {},
   "outputs": [
    {
     "data": {
      "text/plain": [
       "{1, 10, 2, 3, 5, 'hello'}"
      ]
     },
     "execution_count": 16,
     "metadata": {},
     "output_type": "execute_result"
    }
   ],
   "source": [
    "s"
   ]
  },
  {
   "cell_type": "code",
   "execution_count": 17,
   "id": "1bfddc09",
   "metadata": {},
   "outputs": [
    {
     "ename": "KeyError",
     "evalue": "15",
     "output_type": "error",
     "traceback": [
      "\u001b[0;31m---------------------------------------------------------------------------\u001b[0m",
      "\u001b[0;31mKeyError\u001b[0m                                  Traceback (most recent call last)",
      "\u001b[0;32m/var/folders/mc/6ky12ls54x347xnny8wjxk6r0000gn/T/ipykernel_11927/724836230.py\u001b[0m in \u001b[0;36m<module>\u001b[0;34m\u001b[0m\n\u001b[0;32m----> 1\u001b[0;31m \u001b[0ms\u001b[0m\u001b[0;34m.\u001b[0m\u001b[0mremove\u001b[0m\u001b[0;34m(\u001b[0m\u001b[0;36m15\u001b[0m\u001b[0;34m)\u001b[0m\u001b[0;34m\u001b[0m\u001b[0;34m\u001b[0m\u001b[0m\n\u001b[0m",
      "\u001b[0;31mKeyError\u001b[0m: 15"
     ]
    }
   ],
   "source": [
    "s.remove(15)"
   ]
  },
  {
   "cell_type": "code",
   "execution_count": 19,
   "id": "fe4d6e23",
   "metadata": {},
   "outputs": [],
   "source": [
    "s.discard(10)"
   ]
  },
  {
   "cell_type": "code",
   "execution_count": null,
   "id": "fb6d465e",
   "metadata": {},
   "outputs": [],
   "source": []
  }
 ],
 "metadata": {
  "kernelspec": {
   "display_name": "Python 3 (ipykernel)",
   "language": "python",
   "name": "python3"
  },
  "language_info": {
   "codemirror_mode": {
    "name": "ipython",
    "version": 3
   },
   "file_extension": ".py",
   "mimetype": "text/x-python",
   "name": "python",
   "nbconvert_exporter": "python",
   "pygments_lexer": "ipython3",
   "version": "3.8.2"
  }
 },
 "nbformat": 4,
 "nbformat_minor": 5
}

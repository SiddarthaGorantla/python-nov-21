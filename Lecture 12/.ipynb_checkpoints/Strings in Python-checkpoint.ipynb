{
 "cells": [
  {
   "cell_type": "markdown",
   "id": "b02d468b",
   "metadata": {},
   "source": [
    "# String "
   ]
  },
  {
   "cell_type": "markdown",
   "id": "e58f92f3",
   "metadata": {},
   "source": [
    "- sequence of unicode characters\n",
    "- single quotes or double quotes to represent strings\n",
    "- triple quotes are used for multiline strings\n",
    "- sequence of characters, letters, numbers etc\n",
    "- indexing in strings, and the index from 0"
   ]
  },
  {
   "cell_type": "code",
   "execution_count": 1,
   "id": "cd8d2afc",
   "metadata": {},
   "outputs": [],
   "source": [
    "s = \"hello\""
   ]
  },
  {
   "cell_type": "code",
   "execution_count": 2,
   "id": "d1df1368",
   "metadata": {},
   "outputs": [],
   "source": [
    "s = \"नमस्ते\""
   ]
  },
  {
   "cell_type": "code",
   "execution_count": 3,
   "id": "8b4ef6df",
   "metadata": {},
   "outputs": [
    {
     "name": "stdout",
     "output_type": "stream",
     "text": [
      "नमस्ते\n"
     ]
    }
   ],
   "source": [
    "print(s)"
   ]
  },
  {
   "cell_type": "code",
   "execution_count": 4,
   "id": "a177c519",
   "metadata": {},
   "outputs": [],
   "source": [
    "s = 'a' # C++ this would be char data type"
   ]
  },
  {
   "cell_type": "code",
   "execution_count": 5,
   "id": "325e126c",
   "metadata": {},
   "outputs": [
    {
     "data": {
      "text/plain": [
       "str"
      ]
     },
     "execution_count": 5,
     "metadata": {},
     "output_type": "execute_result"
    }
   ],
   "source": [
    "type(s)"
   ]
  },
  {
   "cell_type": "code",
   "execution_count": 10,
   "id": "902ad5f1",
   "metadata": {},
   "outputs": [],
   "source": [
    "document = '''hey this is me, and i \n",
    "am looking for a cab to Delhi'''"
   ]
  },
  {
   "cell_type": "code",
   "execution_count": 11,
   "id": "f64d75a8",
   "metadata": {},
   "outputs": [
    {
     "name": "stdout",
     "output_type": "stream",
     "text": [
      "hey this is me, and i \n",
      "am looking for a cab to Delhi\n"
     ]
    }
   ],
   "source": [
    "print(document)"
   ]
  },
  {
   "cell_type": "code",
   "execution_count": 13,
   "id": "c45f0784",
   "metadata": {},
   "outputs": [],
   "source": [
    "# this is a single line comment"
   ]
  },
  {
   "cell_type": "code",
   "execution_count": 14,
   "id": "6a3a6eee",
   "metadata": {},
   "outputs": [],
   "source": [
    "# this is a multi\n",
    "# line comment"
   ]
  },
  {
   "cell_type": "code",
   "execution_count": 15,
   "id": "222d9b44",
   "metadata": {},
   "outputs": [
    {
     "data": {
      "text/plain": [
       "'this is a \\nmultiline comment'"
      ]
     },
     "execution_count": 15,
     "metadata": {},
     "output_type": "execute_result"
    }
   ],
   "source": [
    "'''this is a \n",
    "multiline comment'''"
   ]
  },
  {
   "cell_type": "code",
   "execution_count": 16,
   "id": "53f8badd",
   "metadata": {},
   "outputs": [],
   "source": [
    "numbers = \"10 20 30 40\""
   ]
  },
  {
   "cell_type": "code",
   "execution_count": 17,
   "id": "1b65a9ba",
   "metadata": {},
   "outputs": [
    {
     "data": {
      "text/plain": [
       "['10', '20', '30', '40']"
      ]
     },
     "execution_count": 17,
     "metadata": {},
     "output_type": "execute_result"
    }
   ],
   "source": [
    "numbers.split()"
   ]
  },
  {
   "cell_type": "code",
   "execution_count": 19,
   "id": "b1e8cb8e",
   "metadata": {},
   "outputs": [],
   "source": [
    "s = \"hello\""
   ]
  },
  {
   "cell_type": "code",
   "execution_count": 20,
   "id": "a788c953",
   "metadata": {},
   "outputs": [
    {
     "data": {
      "text/plain": [
       "'h'"
      ]
     },
     "execution_count": 20,
     "metadata": {},
     "output_type": "execute_result"
    }
   ],
   "source": [
    "s[0]"
   ]
  },
  {
   "cell_type": "code",
   "execution_count": 21,
   "id": "abfb949d",
   "metadata": {},
   "outputs": [
    {
     "data": {
      "text/plain": [
       "'e'"
      ]
     },
     "execution_count": 21,
     "metadata": {},
     "output_type": "execute_result"
    }
   ],
   "source": [
    "s[1]"
   ]
  },
  {
   "cell_type": "code",
   "execution_count": 22,
   "id": "fda05f5b",
   "metadata": {},
   "outputs": [
    {
     "data": {
      "text/plain": [
       "5"
      ]
     },
     "execution_count": 22,
     "metadata": {},
     "output_type": "execute_result"
    }
   ],
   "source": [
    "len(s)"
   ]
  },
  {
   "cell_type": "code",
   "execution_count": 23,
   "id": "dfc80c7a",
   "metadata": {},
   "outputs": [
    {
     "data": {
      "text/plain": [
       "'o'"
      ]
     },
     "execution_count": 23,
     "metadata": {},
     "output_type": "execute_result"
    }
   ],
   "source": [
    "idx = len(s) - 1\n",
    "s[idx]"
   ]
  },
  {
   "cell_type": "code",
   "execution_count": 24,
   "id": "64b3cdc5",
   "metadata": {},
   "outputs": [
    {
     "data": {
      "text/plain": [
       "'o'"
      ]
     },
     "execution_count": 24,
     "metadata": {},
     "output_type": "execute_result"
    }
   ],
   "source": [
    "s[-1]"
   ]
  },
  {
   "cell_type": "markdown",
   "id": "75ef5f50",
   "metadata": {},
   "source": [
    "- String Slicing"
   ]
  },
  {
   "cell_type": "code",
   "execution_count": 25,
   "id": "5cd25972",
   "metadata": {},
   "outputs": [],
   "source": [
    "s = \"helloworld\"\n"
   ]
  },
  {
   "cell_type": "code",
   "execution_count": 26,
   "id": "26e2d05f",
   "metadata": {},
   "outputs": [
    {
     "data": {
      "text/plain": [
       "'elloworld'"
      ]
     },
     "execution_count": 26,
     "metadata": {},
     "output_type": "execute_result"
    }
   ],
   "source": [
    "s[1:]"
   ]
  },
  {
   "cell_type": "code",
   "execution_count": 27,
   "id": "bb7659e5",
   "metadata": {},
   "outputs": [
    {
     "data": {
      "text/plain": [
       "'helloworl'"
      ]
     },
     "execution_count": 27,
     "metadata": {},
     "output_type": "execute_result"
    }
   ],
   "source": [
    "s[ :-1]"
   ]
  },
  {
   "cell_type": "code",
   "execution_count": 28,
   "id": "f3e33cce",
   "metadata": {},
   "outputs": [
    {
     "data": {
      "text/plain": [
       "'llowor'"
      ]
     },
     "execution_count": 28,
     "metadata": {},
     "output_type": "execute_result"
    }
   ],
   "source": [
    "s[2:-2]"
   ]
  },
  {
   "cell_type": "code",
   "execution_count": 29,
   "id": "886c9909",
   "metadata": {},
   "outputs": [
    {
     "data": {
      "text/plain": [
       "'loo'"
      ]
     },
     "execution_count": 29,
     "metadata": {},
     "output_type": "execute_result"
    }
   ],
   "source": [
    "s[2:-2:2]"
   ]
  },
  {
   "cell_type": "markdown",
   "id": "3209c569",
   "metadata": {},
   "source": [
    "### Reverse a string using String Slicing"
   ]
  },
  {
   "cell_type": "code",
   "execution_count": 39,
   "id": "a5af5a77",
   "metadata": {},
   "outputs": [],
   "source": [
    "s = s[: :-1]"
   ]
  },
  {
   "cell_type": "code",
   "execution_count": 40,
   "id": "c4a00ff1",
   "metadata": {},
   "outputs": [
    {
     "data": {
      "text/plain": [
       "'helloworld'"
      ]
     },
     "execution_count": 40,
     "metadata": {},
     "output_type": "execute_result"
    }
   ],
   "source": [
    "s"
   ]
  },
  {
   "cell_type": "code",
   "execution_count": 41,
   "id": "10426ec1",
   "metadata": {},
   "outputs": [
    {
     "data": {
      "text/plain": [
       "0"
      ]
     },
     "execution_count": 41,
     "metadata": {},
     "output_type": "execute_result"
    }
   ],
   "source": [
    "s.find(\"hello\")"
   ]
  },
  {
   "cell_type": "code",
   "execution_count": 42,
   "id": "37b8c75f",
   "metadata": {},
   "outputs": [
    {
     "data": {
      "text/plain": [
       "'helloworld'"
      ]
     },
     "execution_count": 42,
     "metadata": {},
     "output_type": "execute_result"
    }
   ],
   "source": [
    "s"
   ]
  },
  {
   "cell_type": "code",
   "execution_count": 43,
   "id": "73d2d27c",
   "metadata": {},
   "outputs": [
    {
     "data": {
      "text/plain": [
       "'HELLOWORLD'"
      ]
     },
     "execution_count": 43,
     "metadata": {},
     "output_type": "execute_result"
    }
   ],
   "source": [
    "s.upper()"
   ]
  },
  {
   "cell_type": "code",
   "execution_count": 45,
   "id": "48f64ed9",
   "metadata": {},
   "outputs": [],
   "source": [
    "sentence = \"i love eating apples\""
   ]
  },
  {
   "cell_type": "code",
   "execution_count": 46,
   "id": "4e0b8399",
   "metadata": {},
   "outputs": [
    {
     "data": {
      "text/plain": [
       "'I Love Eating Apples'"
      ]
     },
     "execution_count": 46,
     "metadata": {},
     "output_type": "execute_result"
    }
   ],
   "source": [
    "sentence.title()"
   ]
  },
  {
   "cell_type": "code",
   "execution_count": 47,
   "id": "293bbb88",
   "metadata": {},
   "outputs": [],
   "source": [
    "sentence = \"i love eating apples, an apple a day keeps the doctor away\""
   ]
  },
  {
   "cell_type": "code",
   "execution_count": 49,
   "id": "efea04d2",
   "metadata": {},
   "outputs": [
    {
     "data": {
      "text/plain": [
       "14"
      ]
     },
     "execution_count": 49,
     "metadata": {},
     "output_type": "execute_result"
    }
   ],
   "source": [
    "sentence.find(\"apple\")"
   ]
  },
  {
   "cell_type": "code",
   "execution_count": 50,
   "id": "f2c1b587",
   "metadata": {},
   "outputs": [
    {
     "data": {
      "text/plain": [
       "-1"
      ]
     },
     "execution_count": 50,
     "metadata": {},
     "output_type": "execute_result"
    }
   ],
   "source": [
    "sentence.find(\"dog\")"
   ]
  },
  {
   "cell_type": "markdown",
   "id": "99914ffc",
   "metadata": {},
   "source": [
    "# Live Assignment"
   ]
  },
  {
   "cell_type": "code",
   "execution_count": 52,
   "id": "02e01283",
   "metadata": {},
   "outputs": [],
   "source": [
    "def findAllIndices(sentence,word):\n",
    "    occ = sentence.find(word)\n",
    "    \n",
    "    while occ!= -1:\n",
    "        print(occ)\n",
    "        occ = sentence.find(word,occ+1)\n",
    "    "
   ]
  },
  {
   "cell_type": "code",
   "execution_count": 54,
   "id": "bef709a5",
   "metadata": {},
   "outputs": [
    {
     "name": "stdout",
     "output_type": "stream",
     "text": [
      "14\n",
      "25\n"
     ]
    }
   ],
   "source": [
    "findAllIndices(sentence,\"apple\")"
   ]
  },
  {
   "cell_type": "markdown",
   "id": "63fe34ca",
   "metadata": {},
   "source": [
    "** HW : Try using the replace function by yourself**"
   ]
  },
  {
   "cell_type": "code",
   "execution_count": 55,
   "id": "c7093009",
   "metadata": {},
   "outputs": [
    {
     "name": "stdout",
     "output_type": "stream",
     "text": [
      "The Zen of Python, by Tim Peters\n",
      "\n",
      "Beautiful is better than ugly.\n",
      "Explicit is better than implicit.\n",
      "Simple is better than complex.\n",
      "Complex is better than complicated.\n",
      "Flat is better than nested.\n",
      "Sparse is better than dense.\n",
      "Readability counts.\n",
      "Special cases aren't special enough to break the rules.\n",
      "Although practicality beats purity.\n",
      "Errors should never pass silently.\n",
      "Unless explicitly silenced.\n",
      "In the face of ambiguity, refuse the temptation to guess.\n",
      "There should be one-- and preferably only one --obvious way to do it.\n",
      "Although that way may not be obvious at first unless you're Dutch.\n",
      "Now is better than never.\n",
      "Although never is often better than *right* now.\n",
      "If the implementation is hard to explain, it's a bad idea.\n",
      "If the implementation is easy to explain, it may be a good idea.\n",
      "Namespaces are one honking great idea -- let's do more of those!\n"
     ]
    }
   ],
   "source": [
    "import this"
   ]
  },
  {
   "cell_type": "markdown",
   "id": "881bd736",
   "metadata": {},
   "source": [
    "## Case-sensitivity"
   ]
  },
  {
   "cell_type": "code",
   "execution_count": 56,
   "id": "0cbbc4f1",
   "metadata": {},
   "outputs": [],
   "source": [
    "s = \"i love eating Apples, an appLES a day keeps the doctor away\""
   ]
  },
  {
   "cell_type": "code",
   "execution_count": 60,
   "id": "b54c6dfd",
   "metadata": {},
   "outputs": [
    {
     "data": {
      "text/plain": [
       "14"
      ]
     },
     "execution_count": 60,
     "metadata": {},
     "output_type": "execute_result"
    }
   ],
   "source": [
    "s.lower().find(\"apple\")"
   ]
  },
  {
   "cell_type": "code",
   "execution_count": 59,
   "id": "8dfc6a4f",
   "metadata": {},
   "outputs": [
    {
     "data": {
      "text/plain": [
       "'i love eating Apples, an appLES a day keeps the doctor away'"
      ]
     },
     "execution_count": 59,
     "metadata": {},
     "output_type": "execute_result"
    }
   ],
   "source": [
    "s"
   ]
  },
  {
   "cell_type": "code",
   "execution_count": 61,
   "id": "3c48d79a",
   "metadata": {},
   "outputs": [
    {
     "data": {
      "text/plain": [
       "'i love eating apples, an apples a day keeps the doctor away'"
      ]
     },
     "execution_count": 61,
     "metadata": {},
     "output_type": "execute_result"
    }
   ],
   "source": [
    "s.lower()"
   ]
  },
  {
   "cell_type": "code",
   "execution_count": 62,
   "id": "a0f01c25",
   "metadata": {},
   "outputs": [
    {
     "data": {
      "text/plain": [
       "'i love eating Apples, an appLES a day keeps the doctor away'"
      ]
     },
     "execution_count": 62,
     "metadata": {},
     "output_type": "execute_result"
    }
   ],
   "source": [
    "s"
   ]
  },
  {
   "cell_type": "code",
   "execution_count": 63,
   "id": "76adf2d3",
   "metadata": {},
   "outputs": [],
   "source": [
    "# String in Python - they are immutable"
   ]
  },
  {
   "cell_type": "code",
   "execution_count": 68,
   "id": "8acfe596",
   "metadata": {},
   "outputs": [
    {
     "data": {
      "text/plain": [
       "4370333168"
      ]
     },
     "execution_count": 68,
     "metadata": {},
     "output_type": "execute_result"
    }
   ],
   "source": [
    "a = \"hello\"\n",
    "a.upper()\n",
    "id(a)"
   ]
  },
  {
   "cell_type": "code",
   "execution_count": 65,
   "id": "b160a912",
   "metadata": {},
   "outputs": [
    {
     "data": {
      "text/plain": [
       "'hello'"
      ]
     },
     "execution_count": 65,
     "metadata": {},
     "output_type": "execute_result"
    }
   ],
   "source": [
    "a"
   ]
  },
  {
   "cell_type": "code",
   "execution_count": 70,
   "id": "c503940a",
   "metadata": {},
   "outputs": [
    {
     "data": {
      "text/plain": [
       "4457175408"
      ]
     },
     "execution_count": 70,
     "metadata": {},
     "output_type": "execute_result"
    }
   ],
   "source": [
    "a = \"bye\"\n",
    "id(a)"
   ]
  },
  {
   "cell_type": "code",
   "execution_count": 67,
   "id": "b5041d0a",
   "metadata": {},
   "outputs": [
    {
     "data": {
      "text/plain": [
       "'bye'"
      ]
     },
     "execution_count": 67,
     "metadata": {},
     "output_type": "execute_result"
    }
   ],
   "source": [
    "a"
   ]
  },
  {
   "cell_type": "markdown",
   "id": "a0770fe8",
   "metadata": {},
   "source": [
    "## Live Assignment"
   ]
  },
  {
   "cell_type": "code",
   "execution_count": 72,
   "id": "194338fd",
   "metadata": {},
   "outputs": [],
   "source": [
    "filenames = [\"Documents\",\"nikon01.jpg\",\"landscape.jpg\",\"Files\",\"Home\",\"sheet.xls\",\"x.jpg.pdf\"]"
   ]
  },
  {
   "cell_type": "code",
   "execution_count": 74,
   "id": "d3e103e8",
   "metadata": {},
   "outputs": [],
   "source": [
    "# Find out the pictures in this folder (.jpg)"
   ]
  },
  {
   "cell_type": "code",
   "execution_count": 75,
   "id": "76747d02",
   "metadata": {},
   "outputs": [
    {
     "data": {
      "text/plain": [
       "['image.jpg']"
      ]
     },
     "execution_count": 75,
     "metadata": {},
     "output_type": "execute_result"
    }
   ],
   "source": [
    "file = \"image.jpg\"\n",
    "file.split()"
   ]
  },
  {
   "cell_type": "code",
   "execution_count": 78,
   "id": "8bb19e32",
   "metadata": {},
   "outputs": [
    {
     "data": {
      "text/plain": [
       "True"
      ]
     },
     "execution_count": 78,
     "metadata": {},
     "output_type": "execute_result"
    }
   ],
   "source": [
    "file.split(\".\")[-1] == \"jpg\""
   ]
  },
  {
   "cell_type": "code",
   "execution_count": 81,
   "id": "ced9a2a0",
   "metadata": {},
   "outputs": [
    {
     "data": {
      "text/plain": [
       "True"
      ]
     },
     "execution_count": 81,
     "metadata": {},
     "output_type": "execute_result"
    }
   ],
   "source": [
    "file.endswith(\".jpg\")"
   ]
  },
  {
   "cell_type": "code",
   "execution_count": 80,
   "id": "d1142634",
   "metadata": {},
   "outputs": [
    {
     "data": {
      "text/plain": [
       "False"
      ]
     },
     "execution_count": 80,
     "metadata": {},
     "output_type": "execute_result"
    }
   ],
   "source": [
    "file.endswith(\".pdf\")"
   ]
  },
  {
   "cell_type": "code",
   "execution_count": 82,
   "id": "481d1a7b",
   "metadata": {},
   "outputs": [],
   "source": [
    "def searchImgFiles(filenames):\n",
    "    return [f for f in filenames if f.endswith(\".jpg\")]"
   ]
  },
  {
   "cell_type": "code",
   "execution_count": 83,
   "id": "d6663580",
   "metadata": {},
   "outputs": [
    {
     "data": {
      "text/plain": [
       "['nikon01.jpg', 'landscape.jpg']"
      ]
     },
     "execution_count": 83,
     "metadata": {},
     "output_type": "execute_result"
    }
   ],
   "source": [
    "searchImgFiles(filenames)"
   ]
  },
  {
   "cell_type": "markdown",
   "id": "fae4a4c3",
   "metadata": {},
   "source": [
    "### HW : Try to play with other functions inside string"
   ]
  },
  {
   "cell_type": "code",
   "execution_count": 93,
   "id": "fa4ef3d6",
   "metadata": {},
   "outputs": [
    {
     "name": "stdout",
     "output_type": "stream",
     "text": [
      "i love eating apples, and apples are sweet\n"
     ]
    }
   ],
   "source": [
    "s = \"i love eating apples, and apples are sweet\"\n",
    "s = s.lower()\n",
    "print(s)"
   ]
  },
  {
   "cell_type": "code",
   "execution_count": 94,
   "id": "781109fe",
   "metadata": {},
   "outputs": [
    {
     "data": {
      "text/plain": [
       "'i love eating mangoes, and mangoes are sweet'"
      ]
     },
     "execution_count": 94,
     "metadata": {},
     "output_type": "execute_result"
    }
   ],
   "source": [
    "s.replace(\"apples\",\"mangoes\")"
   ]
  },
  {
   "cell_type": "code",
   "execution_count": 92,
   "id": "ce3d98ba",
   "metadata": {},
   "outputs": [
    {
     "data": {
      "text/plain": [
       "0"
      ]
     },
     "execution_count": 92,
     "metadata": {},
     "output_type": "execute_result"
    }
   ],
   "source": [
    "s.count(\"apples\")"
   ]
  },
  {
   "cell_type": "code",
   "execution_count": 89,
   "id": "f1882096",
   "metadata": {},
   "outputs": [
    {
     "data": {
      "text/plain": [
       "2"
      ]
     },
     "execution_count": 89,
     "metadata": {},
     "output_type": "execute_result"
    }
   ],
   "source": [
    "s = \"tatatata\"\n",
    "s.count(\"tata\")"
   ]
  },
  {
   "cell_type": "code",
   "execution_count": 90,
   "id": "d2297eff",
   "metadata": {},
   "outputs": [
    {
     "data": {
      "text/plain": [
       "'byebye'"
      ]
     },
     "execution_count": 90,
     "metadata": {},
     "output_type": "execute_result"
    }
   ],
   "source": [
    "s.replace(\"tata\",\"bye\")"
   ]
  },
  {
   "cell_type": "markdown",
   "id": "5f5035ef",
   "metadata": {},
   "source": [
    "# Split & Join"
   ]
  },
  {
   "cell_type": "code",
   "execution_count": 95,
   "id": "fbddad10",
   "metadata": {},
   "outputs": [
    {
     "data": {
      "text/plain": [
       "'i love eating apples, and apples are sweet'"
      ]
     },
     "execution_count": 95,
     "metadata": {},
     "output_type": "execute_result"
    }
   ],
   "source": [
    "s"
   ]
  },
  {
   "cell_type": "code",
   "execution_count": 99,
   "id": "416aa8b7",
   "metadata": {},
   "outputs": [
    {
     "name": "stdout",
     "output_type": "stream",
     "text": [
      "['i', 'love', 'eating', 'apples,', 'and', 'apples', 'are', 'sweet']\n"
     ]
    }
   ],
   "source": [
    "l = s.split()\n",
    "print(l)"
   ]
  },
  {
   "cell_type": "code",
   "execution_count": 101,
   "id": "de975f8e",
   "metadata": {},
   "outputs": [
    {
     "data": {
      "text/plain": [
       "'i_love_eating_apples,_and_apples_are_sweet'"
      ]
     },
     "execution_count": 101,
     "metadata": {},
     "output_type": "execute_result"
    }
   ],
   "source": [
    "'_'.join(l)"
   ]
  },
  {
   "cell_type": "code",
   "execution_count": 106,
   "id": "208f0da7",
   "metadata": {},
   "outputs": [],
   "source": [
    "numbers=\"10_20_30_40_and hello\""
   ]
  },
  {
   "cell_type": "code",
   "execution_count": 107,
   "id": "d5ff8523",
   "metadata": {},
   "outputs": [
    {
     "data": {
      "text/plain": [
       "['10', '20', '30', '40', 'and hello']"
      ]
     },
     "execution_count": 107,
     "metadata": {},
     "output_type": "execute_result"
    }
   ],
   "source": [
    "numbers.split(\"_\")"
   ]
  },
  {
   "cell_type": "markdown",
   "id": "64622114",
   "metadata": {},
   "source": [
    "## Live Assignment"
   ]
  },
  {
   "cell_type": "markdown",
   "id": "39df3f12",
   "metadata": {},
   "source": [
    "https://www.google.com/search?q=strings+in+python"
   ]
  },
  {
   "cell_type": "code",
   "execution_count": 111,
   "id": "1460bf64",
   "metadata": {},
   "outputs": [],
   "source": [
    "# query = \"strings in python\"\n",
    "def searchUrl(query):\n",
    "    baseString = \"https://www.google.com/search?q=\"\n",
    "    print())\n",
    "    return baseString + '+'.join(query.split()\n",
    "    \n",
    "    \n",
    "    \n",
    "    \n",
    "    "
   ]
  },
  {
   "cell_type": "code",
   "execution_count": 112,
   "id": "f5c0c95a",
   "metadata": {},
   "outputs": [
    {
     "name": "stdout",
     "output_type": "stream",
     "text": [
      "hello+world+python\n"
     ]
    },
    {
     "data": {
      "text/plain": [
       "'https://www.google.com/search?q='"
      ]
     },
     "execution_count": 112,
     "metadata": {},
     "output_type": "execute_result"
    }
   ],
   "source": [
    "searchUrl(\"hello world python\")"
   ]
  },
  {
   "cell_type": "code",
   "execution_count": null,
   "id": "58c11d55",
   "metadata": {},
   "outputs": [],
   "source": []
  }
 ],
 "metadata": {
  "kernelspec": {
   "display_name": "Python 3 (ipykernel)",
   "language": "python",
   "name": "python3"
  },
  "language_info": {
   "codemirror_mode": {
    "name": "ipython",
    "version": 3
   },
   "file_extension": ".py",
   "mimetype": "text/x-python",
   "name": "python",
   "nbconvert_exporter": "python",
   "pygments_lexer": "ipython3",
   "version": "3.8.2"
  }
 },
 "nbformat": 4,
 "nbformat_minor": 5
}

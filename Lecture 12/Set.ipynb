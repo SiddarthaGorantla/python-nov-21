{
 "cells": [
  {
   "cell_type": "markdown",
   "id": "e3f3e8c4",
   "metadata": {},
   "source": [
    "### Set\n",
    "- contains only unique elements\n",
    "- mutable \n",
    "- unordered \n",
    "- non-indexable "
   ]
  },
  {
   "cell_type": "code",
   "execution_count": 2,
   "id": "141d2e07",
   "metadata": {},
   "outputs": [],
   "source": [
    "s = set()"
   ]
  },
  {
   "cell_type": "code",
   "execution_count": 3,
   "id": "a36ff2fa",
   "metadata": {},
   "outputs": [
    {
     "data": {
      "text/plain": [
       "set"
      ]
     },
     "execution_count": 3,
     "metadata": {},
     "output_type": "execute_result"
    }
   ],
   "source": [
    "type(s)"
   ]
  },
  {
   "cell_type": "code",
   "execution_count": 4,
   "id": "48d53c26",
   "metadata": {},
   "outputs": [],
   "source": [
    "s = {5,1,2,3,5,8,8}"
   ]
  },
  {
   "cell_type": "code",
   "execution_count": 5,
   "id": "0cf08aa2",
   "metadata": {},
   "outputs": [
    {
     "data": {
      "text/plain": [
       "{1, 2, 3, 5, 8}"
      ]
     },
     "execution_count": 5,
     "metadata": {},
     "output_type": "execute_result"
    }
   ],
   "source": [
    "s #unique entries"
   ]
  },
  {
   "cell_type": "code",
   "execution_count": 9,
   "id": "447aeb5e",
   "metadata": {},
   "outputs": [],
   "source": [
    "s.add(10) #modify the existing set as it is mutable"
   ]
  },
  {
   "cell_type": "code",
   "execution_count": 8,
   "id": "ca7ddf7d",
   "metadata": {},
   "outputs": [],
   "source": [
    "# s = s.add(10)"
   ]
  },
  {
   "cell_type": "code",
   "execution_count": 10,
   "id": "e241ed90",
   "metadata": {},
   "outputs": [
    {
     "data": {
      "text/plain": [
       "{1, 2, 3, 5, 8, 10}"
      ]
     },
     "execution_count": 10,
     "metadata": {},
     "output_type": "execute_result"
    }
   ],
   "source": [
    "s"
   ]
  },
  {
   "cell_type": "code",
   "execution_count": 11,
   "id": "cf439719",
   "metadata": {},
   "outputs": [],
   "source": [
    "s.add(\"hello\")"
   ]
  },
  {
   "cell_type": "code",
   "execution_count": 12,
   "id": "665d4049",
   "metadata": {},
   "outputs": [
    {
     "data": {
      "text/plain": [
       "{1, 10, 2, 3, 5, 8, 'hello'}"
      ]
     },
     "execution_count": 12,
     "metadata": {},
     "output_type": "execute_result"
    }
   ],
   "source": [
    "s\n"
   ]
  },
  {
   "cell_type": "code",
   "execution_count": 13,
   "id": "00d0d756",
   "metadata": {},
   "outputs": [],
   "source": [
    "# Addition, Deletion, Searching"
   ]
  },
  {
   "cell_type": "code",
   "execution_count": 15,
   "id": "c742c491",
   "metadata": {},
   "outputs": [],
   "source": [
    "s.remove(8)"
   ]
  },
  {
   "cell_type": "code",
   "execution_count": 16,
   "id": "43c04481",
   "metadata": {},
   "outputs": [
    {
     "data": {
      "text/plain": [
       "{1, 10, 2, 3, 5, 'hello'}"
      ]
     },
     "execution_count": 16,
     "metadata": {},
     "output_type": "execute_result"
    }
   ],
   "source": [
    "s"
   ]
  },
  {
   "cell_type": "code",
   "execution_count": 17,
   "id": "04879cd8",
   "metadata": {},
   "outputs": [
    {
     "ename": "KeyError",
     "evalue": "15",
     "output_type": "error",
     "traceback": [
      "\u001b[0;31m---------------------------------------------------------------------------\u001b[0m",
      "\u001b[0;31mKeyError\u001b[0m                                  Traceback (most recent call last)",
      "\u001b[0;32m/var/folders/mc/6ky12ls54x347xnny8wjxk6r0000gn/T/ipykernel_11927/724836230.py\u001b[0m in \u001b[0;36m<module>\u001b[0;34m\u001b[0m\n\u001b[0;32m----> 1\u001b[0;31m \u001b[0ms\u001b[0m\u001b[0;34m.\u001b[0m\u001b[0mremove\u001b[0m\u001b[0;34m(\u001b[0m\u001b[0;36m15\u001b[0m\u001b[0;34m)\u001b[0m\u001b[0;34m\u001b[0m\u001b[0;34m\u001b[0m\u001b[0m\n\u001b[0m",
      "\u001b[0;31mKeyError\u001b[0m: 15"
     ]
    }
   ],
   "source": [
    "s.remove(15)"
   ]
  },
  {
   "cell_type": "code",
   "execution_count": 19,
   "id": "5951e1f3",
   "metadata": {},
   "outputs": [],
   "source": [
    "s.discard(10)"
   ]
  },
  {
   "cell_type": "code",
   "execution_count": 20,
   "id": "64659c90",
   "metadata": {},
   "outputs": [
    {
     "data": {
      "text/plain": [
       "{1, 2, 3, 5, 'hello'}"
      ]
     },
     "execution_count": 20,
     "metadata": {},
     "output_type": "execute_result"
    }
   ],
   "source": [
    "s"
   ]
  },
  {
   "cell_type": "code",
   "execution_count": 25,
   "id": "b0126445",
   "metadata": {},
   "outputs": [],
   "source": [
    "s.discard(15) #do nothing"
   ]
  },
  {
   "cell_type": "code",
   "execution_count": 26,
   "id": "e0c322c3",
   "metadata": {},
   "outputs": [],
   "source": [
    "def sayHi():\n",
    "    print(\"Hi\")"
   ]
  },
  {
   "cell_type": "code",
   "execution_count": 27,
   "id": "93ec68e2",
   "metadata": {},
   "outputs": [
    {
     "name": "stdout",
     "output_type": "stream",
     "text": [
      "Hi\n",
      "None\n"
     ]
    }
   ],
   "source": [
    "print(sayHi())"
   ]
  },
  {
   "cell_type": "code",
   "execution_count": 28,
   "id": "51642f09",
   "metadata": {},
   "outputs": [
    {
     "ename": "TypeError",
     "evalue": "'set' object is not subscriptable",
     "output_type": "error",
     "traceback": [
      "\u001b[0;31m---------------------------------------------------------------------------\u001b[0m",
      "\u001b[0;31mTypeError\u001b[0m                                 Traceback (most recent call last)",
      "\u001b[0;32m/var/folders/mc/6ky12ls54x347xnny8wjxk6r0000gn/T/ipykernel_11927/878419959.py\u001b[0m in \u001b[0;36m<module>\u001b[0;34m\u001b[0m\n\u001b[0;32m----> 1\u001b[0;31m \u001b[0ms\u001b[0m\u001b[0;34m[\u001b[0m\u001b[0;36m1\u001b[0m\u001b[0;34m]\u001b[0m\u001b[0;34m\u001b[0m\u001b[0;34m\u001b[0m\u001b[0m\n\u001b[0m",
      "\u001b[0;31mTypeError\u001b[0m: 'set' object is not subscriptable"
     ]
    }
   ],
   "source": [
    "s[1]"
   ]
  },
  {
   "cell_type": "code",
   "execution_count": 29,
   "id": "06f02052",
   "metadata": {},
   "outputs": [],
   "source": [
    "# update"
   ]
  },
  {
   "cell_type": "code",
   "execution_count": 30,
   "id": "6405b487",
   "metadata": {},
   "outputs": [],
   "source": [
    "s.update([20,30,40])"
   ]
  },
  {
   "cell_type": "code",
   "execution_count": 31,
   "id": "afe7c554",
   "metadata": {},
   "outputs": [
    {
     "data": {
      "text/plain": [
       "{1, 2, 20, 3, 30, 40, 5, 'hello'}"
      ]
     },
     "execution_count": 31,
     "metadata": {},
     "output_type": "execute_result"
    }
   ],
   "source": [
    "s"
   ]
  },
  {
   "cell_type": "markdown",
   "id": "8d112562",
   "metadata": {},
   "source": [
    "### Membership 'in'"
   ]
  },
  {
   "cell_type": "code",
   "execution_count": 32,
   "id": "8f796d36",
   "metadata": {},
   "outputs": [
    {
     "data": {
      "text/plain": [
       "True"
      ]
     },
     "execution_count": 32,
     "metadata": {},
     "output_type": "execute_result"
    }
   ],
   "source": [
    "2 in s"
   ]
  },
  {
   "cell_type": "code",
   "execution_count": 33,
   "id": "0aac7566",
   "metadata": {},
   "outputs": [
    {
     "data": {
      "text/plain": [
       "False"
      ]
     },
     "execution_count": 33,
     "metadata": {},
     "output_type": "execute_result"
    }
   ],
   "source": [
    "21 in s"
   ]
  },
  {
   "cell_type": "code",
   "execution_count": 35,
   "id": "1a2a0e77",
   "metadata": {},
   "outputs": [
    {
     "data": {
      "text/plain": [
       "True"
      ]
     },
     "execution_count": 35,
     "metadata": {},
     "output_type": "execute_result"
    }
   ],
   "source": [
    "s.issuperset({2})"
   ]
  },
  {
   "cell_type": "code",
   "execution_count": 38,
   "id": "007a2dc2",
   "metadata": {},
   "outputs": [
    {
     "data": {
      "text/plain": [
       "True"
      ]
     },
     "execution_count": 38,
     "metadata": {},
     "output_type": "execute_result"
    }
   ],
   "source": [
    "s.issuperset({40,20,30})"
   ]
  },
  {
   "cell_type": "code",
   "execution_count": 37,
   "id": "7b8fd2ce",
   "metadata": {},
   "outputs": [
    {
     "data": {
      "text/plain": [
       "False"
      ]
     },
     "execution_count": 37,
     "metadata": {},
     "output_type": "execute_result"
    }
   ],
   "source": [
    "s.issuperset({20,30,80})"
   ]
  },
  {
   "cell_type": "markdown",
   "id": "11101430",
   "metadata": {},
   "source": [
    "# Live Assignment"
   ]
  },
  {
   "cell_type": "code",
   "execution_count": null,
   "id": "57e1f5ab",
   "metadata": {},
   "outputs": [],
   "source": []
  },
  {
   "cell_type": "code",
   "execution_count": 42,
   "id": "fef55593",
   "metadata": {},
   "outputs": [],
   "source": [
    "def removeDuplicates(l):\n",
    "    s = set(l)\n",
    "    return list(s) # list without duplicates\n",
    "    \n",
    "l = [1,4,3,2,1,3,4,5]"
   ]
  },
  {
   "cell_type": "code",
   "execution_count": 57,
   "id": "78cdaa76",
   "metadata": {},
   "outputs": [],
   "source": [
    "def removeDuplicatesSaveOrdering(l):\n",
    "    d = {}\n",
    "    output = []\n",
    "    for x in l:\n",
    "        # instant search\n",
    "        if d.get(x) == None:\n",
    "            d[x] = True\n",
    "            output.append(x)\n",
    "        \n",
    "    return output\n",
    "    "
   ]
  },
  {
   "cell_type": "code",
   "execution_count": 58,
   "id": "80c1b1fe",
   "metadata": {},
   "outputs": [],
   "source": [
    "def removeDuplicatesUsingList(l):\n",
    "    d = {}\n",
    "    output = []\n",
    "    for x in l:\n",
    "        #linear search\n",
    "        if x not in output:\n",
    "            output.append(x)\n",
    "        \n",
    "    return output"
   ]
  },
  {
   "cell_type": "code",
   "execution_count": 59,
   "id": "a0aa2c88",
   "metadata": {},
   "outputs": [
    {
     "data": {
      "text/plain": [
       "[1, 4, 3, 2, 5]"
      ]
     },
     "execution_count": 59,
     "metadata": {},
     "output_type": "execute_result"
    }
   ],
   "source": [
    "removeDuplicatesSaveOrdering(l)"
   ]
  },
  {
   "cell_type": "markdown",
   "id": "aa0e608a",
   "metadata": {},
   "source": [
    "# Set Operations"
   ]
  },
  {
   "cell_type": "code",
   "execution_count": null,
   "id": "c1d27327",
   "metadata": {},
   "outputs": [],
   "source": [
    "- union \n",
    "- intersection"
   ]
  },
  {
   "cell_type": "code",
   "execution_count": 67,
   "id": "53510f23",
   "metadata": {},
   "outputs": [],
   "source": [
    "a = {10,2,3,4}\n",
    "b = {3,4,5,6,\"Hello\"}"
   ]
  },
  {
   "cell_type": "code",
   "execution_count": 68,
   "id": "152155ed",
   "metadata": {},
   "outputs": [
    {
     "data": {
      "text/plain": [
       "{10, 2, 3, 4, 5, 6, 'Hello'}"
      ]
     },
     "execution_count": 68,
     "metadata": {},
     "output_type": "execute_result"
    }
   ],
   "source": [
    "a.union(b)"
   ]
  },
  {
   "cell_type": "code",
   "execution_count": 69,
   "id": "2edcb8b4",
   "metadata": {},
   "outputs": [
    {
     "data": {
      "text/plain": [
       "{3, 4}"
      ]
     },
     "execution_count": 69,
     "metadata": {},
     "output_type": "execute_result"
    }
   ],
   "source": [
    "a.intersection(b)"
   ]
  },
  {
   "cell_type": "code",
   "execution_count": 70,
   "id": "d0ff4bd8",
   "metadata": {},
   "outputs": [
    {
     "data": {
      "text/plain": [
       "{10, 2, 3, 4, 5, 6, 'Hello'}"
      ]
     },
     "execution_count": 70,
     "metadata": {},
     "output_type": "execute_result"
    }
   ],
   "source": [
    "a|b"
   ]
  },
  {
   "cell_type": "code",
   "execution_count": 71,
   "id": "9047c2c2",
   "metadata": {},
   "outputs": [
    {
     "data": {
      "text/plain": [
       "{3, 4}"
      ]
     },
     "execution_count": 71,
     "metadata": {},
     "output_type": "execute_result"
    }
   ],
   "source": [
    "a & b"
   ]
  },
  {
   "cell_type": "code",
   "execution_count": 73,
   "id": "4e4d8175",
   "metadata": {},
   "outputs": [
    {
     "data": {
      "text/plain": [
       "{2, 10}"
      ]
     },
     "execution_count": 73,
     "metadata": {},
     "output_type": "execute_result"
    }
   ],
   "source": [
    "a - b"
   ]
  },
  {
   "cell_type": "code",
   "execution_count": 74,
   "id": "8389ac58",
   "metadata": {},
   "outputs": [],
   "source": [
    "# symmetric diff"
   ]
  },
  {
   "cell_type": "code",
   "execution_count": 76,
   "id": "7e917d87",
   "metadata": {},
   "outputs": [
    {
     "data": {
      "text/plain": [
       "{10, 2, 5, 6, 'Hello'}"
      ]
     },
     "execution_count": 76,
     "metadata": {},
     "output_type": "execute_result"
    }
   ],
   "source": [
    "a.symmetric_difference(b) #elements that are exactly in 1 set"
   ]
  },
  {
   "cell_type": "code",
   "execution_count": 78,
   "id": "5f3a49ba",
   "metadata": {},
   "outputs": [
    {
     "data": {
      "text/plain": [
       "{10, 2, 5, 6, 'Hello'}"
      ]
     },
     "execution_count": 78,
     "metadata": {},
     "output_type": "execute_result"
    }
   ],
   "source": [
    "(a | b) - (a & b)"
   ]
  },
  {
   "cell_type": "code",
   "execution_count": null,
   "id": "9d3b6485",
   "metadata": {},
   "outputs": [],
   "source": []
  },
  {
   "cell_type": "code",
   "execution_count": 60,
   "id": "80380dc8",
   "metadata": {},
   "outputs": [
    {
     "data": {
      "text/plain": [
       "4300929976"
      ]
     },
     "execution_count": 60,
     "metadata": {},
     "output_type": "execute_result"
    }
   ],
   "source": [
    "id(None)"
   ]
  },
  {
   "cell_type": "code",
   "execution_count": 61,
   "id": "e34373d3",
   "metadata": {},
   "outputs": [
    {
     "name": "stdout",
     "output_type": "stream",
     "text": [
      "Hi\n",
      "None\n"
     ]
    },
    {
     "data": {
      "text/plain": [
       "4300929976"
      ]
     },
     "execution_count": 61,
     "metadata": {},
     "output_type": "execute_result"
    }
   ],
   "source": [
    "id(print(sayHi()))"
   ]
  },
  {
   "cell_type": "code",
   "execution_count": null,
   "id": "a51a7a30",
   "metadata": {},
   "outputs": [],
   "source": []
  }
 ],
 "metadata": {
  "kernelspec": {
   "display_name": "Python 3 (ipykernel)",
   "language": "python",
   "name": "python3"
  },
  "language_info": {
   "codemirror_mode": {
    "name": "ipython",
    "version": 3
   },
   "file_extension": ".py",
   "mimetype": "text/x-python",
   "name": "python",
   "nbconvert_exporter": "python",
   "pygments_lexer": "ipython3",
   "version": "3.8.2"
  }
 },
 "nbformat": 4,
 "nbformat_minor": 5
}

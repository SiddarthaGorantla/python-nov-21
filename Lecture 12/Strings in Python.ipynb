{
 "cells": [
  {
   "cell_type": "markdown",
   "id": "925fd508",
   "metadata": {},
   "source": [
    "# String "
   ]
  },
  {
   "cell_type": "markdown",
   "id": "b1c577b6",
   "metadata": {},
   "source": [
    "- sequence of unicode characters\n",
    "- single quotes or double quotes to represent strings\n",
    "- triple quotes are used for multiline strings\n",
    "- sequence of characters, letters, numbers etc\n",
    "- indexing in strings, and the index from 0"
   ]
  },
  {
   "cell_type": "code",
   "execution_count": 1,
   "id": "737a8ded",
   "metadata": {},
   "outputs": [],
   "source": [
    "s = \"hello\""
   ]
  },
  {
   "cell_type": "code",
   "execution_count": 2,
   "id": "43915bf6",
   "metadata": {},
   "outputs": [],
   "source": [
    "s = \"नमस्ते\""
   ]
  },
  {
   "cell_type": "code",
   "execution_count": 3,
   "id": "130c4f3e",
   "metadata": {},
   "outputs": [
    {
     "name": "stdout",
     "output_type": "stream",
     "text": [
      "नमस्ते\n"
     ]
    }
   ],
   "source": [
    "print(s)"
   ]
  },
  {
   "cell_type": "code",
   "execution_count": 4,
   "id": "170de813",
   "metadata": {},
   "outputs": [],
   "source": [
    "s = 'a' # C++ this would be char data type"
   ]
  },
  {
   "cell_type": "code",
   "execution_count": 5,
   "id": "771811fc",
   "metadata": {},
   "outputs": [
    {
     "data": {
      "text/plain": [
       "str"
      ]
     },
     "execution_count": 5,
     "metadata": {},
     "output_type": "execute_result"
    }
   ],
   "source": [
    "type(s)"
   ]
  },
  {
   "cell_type": "code",
   "execution_count": 10,
   "id": "65ef6fd8",
   "metadata": {},
   "outputs": [],
   "source": [
    "document = '''hey this is me, and i \n",
    "am looking for a cab to Delhi'''"
   ]
  },
  {
   "cell_type": "code",
   "execution_count": 11,
   "id": "bb6c3c50",
   "metadata": {},
   "outputs": [
    {
     "name": "stdout",
     "output_type": "stream",
     "text": [
      "hey this is me, and i \n",
      "am looking for a cab to Delhi\n"
     ]
    }
   ],
   "source": [
    "print(document)"
   ]
  },
  {
   "cell_type": "code",
   "execution_count": 13,
   "id": "aff198b0",
   "metadata": {},
   "outputs": [],
   "source": [
    "# this is a single line comment"
   ]
  },
  {
   "cell_type": "code",
   "execution_count": 14,
   "id": "e1930f1c",
   "metadata": {},
   "outputs": [],
   "source": [
    "# this is a multi\n",
    "# line comment"
   ]
  },
  {
   "cell_type": "code",
   "execution_count": 15,
   "id": "12e791ef",
   "metadata": {},
   "outputs": [
    {
     "data": {
      "text/plain": [
       "'this is a \\nmultiline comment'"
      ]
     },
     "execution_count": 15,
     "metadata": {},
     "output_type": "execute_result"
    }
   ],
   "source": [
    "'''this is a \n",
    "multiline comment'''"
   ]
  },
  {
   "cell_type": "code",
   "execution_count": 16,
   "id": "bdc69667",
   "metadata": {},
   "outputs": [],
   "source": [
    "numbers = \"10 20 30 40\""
   ]
  },
  {
   "cell_type": "code",
   "execution_count": 17,
   "id": "275bbf99",
   "metadata": {},
   "outputs": [
    {
     "data": {
      "text/plain": [
       "['10', '20', '30', '40']"
      ]
     },
     "execution_count": 17,
     "metadata": {},
     "output_type": "execute_result"
    }
   ],
   "source": [
    "numbers.split()"
   ]
  },
  {
   "cell_type": "code",
   "execution_count": 19,
   "id": "03d57339",
   "metadata": {},
   "outputs": [],
   "source": [
    "s = \"hello\""
   ]
  },
  {
   "cell_type": "code",
   "execution_count": 20,
   "id": "ce2fb1a5",
   "metadata": {},
   "outputs": [
    {
     "data": {
      "text/plain": [
       "'h'"
      ]
     },
     "execution_count": 20,
     "metadata": {},
     "output_type": "execute_result"
    }
   ],
   "source": [
    "s[0]"
   ]
  },
  {
   "cell_type": "code",
   "execution_count": 21,
   "id": "7b6ac669",
   "metadata": {},
   "outputs": [
    {
     "data": {
      "text/plain": [
       "'e'"
      ]
     },
     "execution_count": 21,
     "metadata": {},
     "output_type": "execute_result"
    }
   ],
   "source": [
    "s[1]"
   ]
  },
  {
   "cell_type": "code",
   "execution_count": 22,
   "id": "40593083",
   "metadata": {},
   "outputs": [
    {
     "data": {
      "text/plain": [
       "5"
      ]
     },
     "execution_count": 22,
     "metadata": {},
     "output_type": "execute_result"
    }
   ],
   "source": [
    "len(s)"
   ]
  },
  {
   "cell_type": "code",
   "execution_count": 23,
   "id": "dcb2ca5e",
   "metadata": {},
   "outputs": [
    {
     "data": {
      "text/plain": [
       "'o'"
      ]
     },
     "execution_count": 23,
     "metadata": {},
     "output_type": "execute_result"
    }
   ],
   "source": [
    "idx = len(s) - 1\n",
    "s[idx]"
   ]
  },
  {
   "cell_type": "code",
   "execution_count": 24,
   "id": "fcfa9d26",
   "metadata": {},
   "outputs": [
    {
     "data": {
      "text/plain": [
       "'o'"
      ]
     },
     "execution_count": 24,
     "metadata": {},
     "output_type": "execute_result"
    }
   ],
   "source": [
    "s[-1]"
   ]
  },
  {
   "cell_type": "markdown",
   "id": "b838f109",
   "metadata": {},
   "source": [
    "- String Slicing"
   ]
  },
  {
   "cell_type": "code",
   "execution_count": 25,
   "id": "6aa74a0e",
   "metadata": {},
   "outputs": [],
   "source": [
    "s = \"helloworld\"\n"
   ]
  },
  {
   "cell_type": "code",
   "execution_count": 26,
   "id": "78a842df",
   "metadata": {},
   "outputs": [
    {
     "data": {
      "text/plain": [
       "'elloworld'"
      ]
     },
     "execution_count": 26,
     "metadata": {},
     "output_type": "execute_result"
    }
   ],
   "source": [
    "s[1:]"
   ]
  },
  {
   "cell_type": "code",
   "execution_count": 27,
   "id": "e1dee63d",
   "metadata": {},
   "outputs": [
    {
     "data": {
      "text/plain": [
       "'helloworl'"
      ]
     },
     "execution_count": 27,
     "metadata": {},
     "output_type": "execute_result"
    }
   ],
   "source": [
    "s[ :-1]"
   ]
  },
  {
   "cell_type": "code",
   "execution_count": 28,
   "id": "be66af1a",
   "metadata": {},
   "outputs": [
    {
     "data": {
      "text/plain": [
       "'llowor'"
      ]
     },
     "execution_count": 28,
     "metadata": {},
     "output_type": "execute_result"
    }
   ],
   "source": [
    "s[2:-2]"
   ]
  },
  {
   "cell_type": "code",
   "execution_count": 29,
   "id": "24a34fe0",
   "metadata": {},
   "outputs": [
    {
     "data": {
      "text/plain": [
       "'loo'"
      ]
     },
     "execution_count": 29,
     "metadata": {},
     "output_type": "execute_result"
    }
   ],
   "source": [
    "s[2:-2:2]"
   ]
  },
  {
   "cell_type": "markdown",
   "id": "d8cd0442",
   "metadata": {},
   "source": [
    "### Reverse a string using String Slicing"
   ]
  },
  {
   "cell_type": "code",
   "execution_count": 39,
   "id": "2ec58a0b",
   "metadata": {},
   "outputs": [],
   "source": [
    "s = s[: :-1]"
   ]
  },
  {
   "cell_type": "code",
   "execution_count": 40,
   "id": "baacd2e9",
   "metadata": {},
   "outputs": [
    {
     "data": {
      "text/plain": [
       "'helloworld'"
      ]
     },
     "execution_count": 40,
     "metadata": {},
     "output_type": "execute_result"
    }
   ],
   "source": [
    "s"
   ]
  },
  {
   "cell_type": "code",
   "execution_count": 41,
   "id": "d7472a4f",
   "metadata": {},
   "outputs": [
    {
     "data": {
      "text/plain": [
       "0"
      ]
     },
     "execution_count": 41,
     "metadata": {},
     "output_type": "execute_result"
    }
   ],
   "source": [
    "s.find(\"hello\")"
   ]
  },
  {
   "cell_type": "code",
   "execution_count": 42,
   "id": "43327cbf",
   "metadata": {},
   "outputs": [
    {
     "data": {
      "text/plain": [
       "'helloworld'"
      ]
     },
     "execution_count": 42,
     "metadata": {},
     "output_type": "execute_result"
    }
   ],
   "source": [
    "s"
   ]
  },
  {
   "cell_type": "code",
   "execution_count": 43,
   "id": "993fd893",
   "metadata": {},
   "outputs": [
    {
     "data": {
      "text/plain": [
       "'HELLOWORLD'"
      ]
     },
     "execution_count": 43,
     "metadata": {},
     "output_type": "execute_result"
    }
   ],
   "source": [
    "s.upper()"
   ]
  },
  {
   "cell_type": "code",
   "execution_count": 45,
   "id": "56c9370f",
   "metadata": {},
   "outputs": [],
   "source": [
    "sentence = \"i love eating apples\""
   ]
  },
  {
   "cell_type": "code",
   "execution_count": 46,
   "id": "cea26870",
   "metadata": {},
   "outputs": [
    {
     "data": {
      "text/plain": [
       "'I Love Eating Apples'"
      ]
     },
     "execution_count": 46,
     "metadata": {},
     "output_type": "execute_result"
    }
   ],
   "source": [
    "sentence.title()"
   ]
  },
  {
   "cell_type": "code",
   "execution_count": 47,
   "id": "41e6e01e",
   "metadata": {},
   "outputs": [],
   "source": [
    "sentence = \"i love eating apples, an apple a day keeps the doctor away\""
   ]
  },
  {
   "cell_type": "code",
   "execution_count": 49,
   "id": "b8214178",
   "metadata": {},
   "outputs": [
    {
     "data": {
      "text/plain": [
       "14"
      ]
     },
     "execution_count": 49,
     "metadata": {},
     "output_type": "execute_result"
    }
   ],
   "source": [
    "sentence.find(\"apple\")"
   ]
  },
  {
   "cell_type": "code",
   "execution_count": 50,
   "id": "05e8aa8e",
   "metadata": {},
   "outputs": [
    {
     "data": {
      "text/plain": [
       "-1"
      ]
     },
     "execution_count": 50,
     "metadata": {},
     "output_type": "execute_result"
    }
   ],
   "source": [
    "sentence.find(\"dog\")"
   ]
  },
  {
   "cell_type": "markdown",
   "id": "0d9dec53",
   "metadata": {},
   "source": [
    "# Live Assignment"
   ]
  },
  {
   "cell_type": "code",
   "execution_count": 52,
   "id": "259108a0",
   "metadata": {},
   "outputs": [],
   "source": [
    "def findAllIndices(sentence,word):\n",
    "    occ = sentence.find(word)\n",
    "    \n",
    "    while occ!= -1:\n",
    "        print(occ)\n",
    "        occ = sentence.find(word,occ+1)\n",
    "    "
   ]
  },
  {
   "cell_type": "code",
   "execution_count": 54,
   "id": "479bd5a7",
   "metadata": {},
   "outputs": [
    {
     "name": "stdout",
     "output_type": "stream",
     "text": [
      "14\n",
      "25\n"
     ]
    }
   ],
   "source": [
    "findAllIndices(sentence,\"apple\")"
   ]
  },
  {
   "cell_type": "markdown",
   "id": "8c5a1728",
   "metadata": {},
   "source": [
    "** HW : Try using the replace function by yourself**"
   ]
  },
  {
   "cell_type": "code",
   "execution_count": 55,
   "id": "d5df72dd",
   "metadata": {},
   "outputs": [
    {
     "name": "stdout",
     "output_type": "stream",
     "text": [
      "The Zen of Python, by Tim Peters\n",
      "\n",
      "Beautiful is better than ugly.\n",
      "Explicit is better than implicit.\n",
      "Simple is better than complex.\n",
      "Complex is better than complicated.\n",
      "Flat is better than nested.\n",
      "Sparse is better than dense.\n",
      "Readability counts.\n",
      "Special cases aren't special enough to break the rules.\n",
      "Although practicality beats purity.\n",
      "Errors should never pass silently.\n",
      "Unless explicitly silenced.\n",
      "In the face of ambiguity, refuse the temptation to guess.\n",
      "There should be one-- and preferably only one --obvious way to do it.\n",
      "Although that way may not be obvious at first unless you're Dutch.\n",
      "Now is better than never.\n",
      "Although never is often better than *right* now.\n",
      "If the implementation is hard to explain, it's a bad idea.\n",
      "If the implementation is easy to explain, it may be a good idea.\n",
      "Namespaces are one honking great idea -- let's do more of those!\n"
     ]
    }
   ],
   "source": [
    "import this"
   ]
  },
  {
   "cell_type": "markdown",
   "id": "e85e3110",
   "metadata": {},
   "source": [
    "## Case-sensitivity"
   ]
  },
  {
   "cell_type": "code",
   "execution_count": 56,
   "id": "fa42ccc3",
   "metadata": {},
   "outputs": [],
   "source": [
    "s = \"i love eating Apples, an appLES a day keeps the doctor away\""
   ]
  },
  {
   "cell_type": "code",
   "execution_count": 60,
   "id": "db77b444",
   "metadata": {},
   "outputs": [
    {
     "data": {
      "text/plain": [
       "14"
      ]
     },
     "execution_count": 60,
     "metadata": {},
     "output_type": "execute_result"
    }
   ],
   "source": [
    "s.lower().find(\"apple\")"
   ]
  },
  {
   "cell_type": "code",
   "execution_count": 59,
   "id": "a6f6d567",
   "metadata": {},
   "outputs": [
    {
     "data": {
      "text/plain": [
       "'i love eating Apples, an appLES a day keeps the doctor away'"
      ]
     },
     "execution_count": 59,
     "metadata": {},
     "output_type": "execute_result"
    }
   ],
   "source": [
    "s"
   ]
  },
  {
   "cell_type": "code",
   "execution_count": 61,
   "id": "a5eb1461",
   "metadata": {},
   "outputs": [
    {
     "data": {
      "text/plain": [
       "'i love eating apples, an apples a day keeps the doctor away'"
      ]
     },
     "execution_count": 61,
     "metadata": {},
     "output_type": "execute_result"
    }
   ],
   "source": [
    "s.lower()"
   ]
  },
  {
   "cell_type": "code",
   "execution_count": 62,
   "id": "102f8556",
   "metadata": {},
   "outputs": [
    {
     "data": {
      "text/plain": [
       "'i love eating Apples, an appLES a day keeps the doctor away'"
      ]
     },
     "execution_count": 62,
     "metadata": {},
     "output_type": "execute_result"
    }
   ],
   "source": [
    "s"
   ]
  },
  {
   "cell_type": "code",
   "execution_count": 63,
   "id": "c16aa1a0",
   "metadata": {},
   "outputs": [],
   "source": [
    "# String in Python - they are immutable"
   ]
  },
  {
   "cell_type": "code",
   "execution_count": 68,
   "id": "12b9b801",
   "metadata": {},
   "outputs": [
    {
     "data": {
      "text/plain": [
       "4370333168"
      ]
     },
     "execution_count": 68,
     "metadata": {},
     "output_type": "execute_result"
    }
   ],
   "source": [
    "a = \"hello\"\n",
    "a.upper()\n",
    "id(a)"
   ]
  },
  {
   "cell_type": "code",
   "execution_count": 65,
   "id": "0a11a791",
   "metadata": {},
   "outputs": [
    {
     "data": {
      "text/plain": [
       "'hello'"
      ]
     },
     "execution_count": 65,
     "metadata": {},
     "output_type": "execute_result"
    }
   ],
   "source": [
    "a"
   ]
  },
  {
   "cell_type": "code",
   "execution_count": 70,
   "id": "e08fc91b",
   "metadata": {},
   "outputs": [
    {
     "data": {
      "text/plain": [
       "4457175408"
      ]
     },
     "execution_count": 70,
     "metadata": {},
     "output_type": "execute_result"
    }
   ],
   "source": [
    "a = \"bye\"\n",
    "id(a)"
   ]
  },
  {
   "cell_type": "code",
   "execution_count": 67,
   "id": "2d541342",
   "metadata": {},
   "outputs": [
    {
     "data": {
      "text/plain": [
       "'bye'"
      ]
     },
     "execution_count": 67,
     "metadata": {},
     "output_type": "execute_result"
    }
   ],
   "source": [
    "a"
   ]
  },
  {
   "cell_type": "markdown",
   "id": "2395ab8b",
   "metadata": {},
   "source": [
    "## Live Assignment"
   ]
  },
  {
   "cell_type": "code",
   "execution_count": 72,
   "id": "2a0dfd54",
   "metadata": {},
   "outputs": [],
   "source": [
    "filenames = [\"Documents\",\"nikon01.jpg\",\"landscape.jpg\",\"Files\",\"Home\",\"sheet.xls\",\"x.jpg.pdf\"]"
   ]
  },
  {
   "cell_type": "code",
   "execution_count": 74,
   "id": "4acd9e98",
   "metadata": {},
   "outputs": [],
   "source": [
    "# Find out the pictures in this folder (.jpg)"
   ]
  },
  {
   "cell_type": "code",
   "execution_count": 75,
   "id": "32f919cd",
   "metadata": {},
   "outputs": [
    {
     "data": {
      "text/plain": [
       "['image.jpg']"
      ]
     },
     "execution_count": 75,
     "metadata": {},
     "output_type": "execute_result"
    }
   ],
   "source": [
    "file = \"image.jpg\"\n",
    "file.split()"
   ]
  },
  {
   "cell_type": "code",
   "execution_count": 78,
   "id": "449f24e3",
   "metadata": {},
   "outputs": [
    {
     "data": {
      "text/plain": [
       "True"
      ]
     },
     "execution_count": 78,
     "metadata": {},
     "output_type": "execute_result"
    }
   ],
   "source": [
    "file.split(\".\")[-1] == \"jpg\""
   ]
  },
  {
   "cell_type": "code",
   "execution_count": 81,
   "id": "dc4750c2",
   "metadata": {},
   "outputs": [
    {
     "data": {
      "text/plain": [
       "True"
      ]
     },
     "execution_count": 81,
     "metadata": {},
     "output_type": "execute_result"
    }
   ],
   "source": [
    "file.endswith(\".jpg\")"
   ]
  },
  {
   "cell_type": "code",
   "execution_count": 80,
   "id": "8166f3e8",
   "metadata": {},
   "outputs": [
    {
     "data": {
      "text/plain": [
       "False"
      ]
     },
     "execution_count": 80,
     "metadata": {},
     "output_type": "execute_result"
    }
   ],
   "source": [
    "file.endswith(\".pdf\")"
   ]
  },
  {
   "cell_type": "code",
   "execution_count": 82,
   "id": "6a517c64",
   "metadata": {},
   "outputs": [],
   "source": [
    "def searchImgFiles(filenames):\n",
    "    return [f for f in filenames if f.endswith(\".jpg\")]"
   ]
  },
  {
   "cell_type": "code",
   "execution_count": 83,
   "id": "9c193dec",
   "metadata": {},
   "outputs": [
    {
     "data": {
      "text/plain": [
       "['nikon01.jpg', 'landscape.jpg']"
      ]
     },
     "execution_count": 83,
     "metadata": {},
     "output_type": "execute_result"
    }
   ],
   "source": [
    "searchImgFiles(filenames)"
   ]
  },
  {
   "cell_type": "markdown",
   "id": "214a7cec",
   "metadata": {},
   "source": [
    "### HW : Try to play with other functions inside string"
   ]
  },
  {
   "cell_type": "code",
   "execution_count": 93,
   "id": "f3aefd90",
   "metadata": {},
   "outputs": [
    {
     "name": "stdout",
     "output_type": "stream",
     "text": [
      "i love eating apples, and apples are sweet\n"
     ]
    }
   ],
   "source": [
    "s = \"i love eating apples, and apples are sweet\"\n",
    "s = s.lower()\n",
    "print(s)"
   ]
  },
  {
   "cell_type": "code",
   "execution_count": 94,
   "id": "e4a2661d",
   "metadata": {},
   "outputs": [
    {
     "data": {
      "text/plain": [
       "'i love eating mangoes, and mangoes are sweet'"
      ]
     },
     "execution_count": 94,
     "metadata": {},
     "output_type": "execute_result"
    }
   ],
   "source": [
    "s.replace(\"apples\",\"mangoes\")"
   ]
  },
  {
   "cell_type": "code",
   "execution_count": 92,
   "id": "25a1b08a",
   "metadata": {},
   "outputs": [
    {
     "data": {
      "text/plain": [
       "0"
      ]
     },
     "execution_count": 92,
     "metadata": {},
     "output_type": "execute_result"
    }
   ],
   "source": [
    "s.count(\"apples\")"
   ]
  },
  {
   "cell_type": "code",
   "execution_count": 89,
   "id": "409c6e40",
   "metadata": {},
   "outputs": [
    {
     "data": {
      "text/plain": [
       "2"
      ]
     },
     "execution_count": 89,
     "metadata": {},
     "output_type": "execute_result"
    }
   ],
   "source": [
    "s = \"tatatata\"\n",
    "s.count(\"tata\")"
   ]
  },
  {
   "cell_type": "code",
   "execution_count": 90,
   "id": "f50dc846",
   "metadata": {},
   "outputs": [
    {
     "data": {
      "text/plain": [
       "'byebye'"
      ]
     },
     "execution_count": 90,
     "metadata": {},
     "output_type": "execute_result"
    }
   ],
   "source": [
    "s.replace(\"tata\",\"bye\")"
   ]
  },
  {
   "cell_type": "markdown",
   "id": "ef3c018c",
   "metadata": {},
   "source": [
    "# Split & Join"
   ]
  },
  {
   "cell_type": "code",
   "execution_count": 95,
   "id": "958e2ad3",
   "metadata": {},
   "outputs": [
    {
     "data": {
      "text/plain": [
       "'i love eating apples, and apples are sweet'"
      ]
     },
     "execution_count": 95,
     "metadata": {},
     "output_type": "execute_result"
    }
   ],
   "source": [
    "s"
   ]
  },
  {
   "cell_type": "code",
   "execution_count": 99,
   "id": "0612de22",
   "metadata": {},
   "outputs": [
    {
     "name": "stdout",
     "output_type": "stream",
     "text": [
      "['i', 'love', 'eating', 'apples,', 'and', 'apples', 'are', 'sweet']\n"
     ]
    }
   ],
   "source": [
    "l = s.split()\n",
    "print(l)"
   ]
  },
  {
   "cell_type": "code",
   "execution_count": 101,
   "id": "f7beefeb",
   "metadata": {},
   "outputs": [
    {
     "data": {
      "text/plain": [
       "'i_love_eating_apples,_and_apples_are_sweet'"
      ]
     },
     "execution_count": 101,
     "metadata": {},
     "output_type": "execute_result"
    }
   ],
   "source": [
    "'_'.join(l)"
   ]
  },
  {
   "cell_type": "code",
   "execution_count": 106,
   "id": "44a5f457",
   "metadata": {},
   "outputs": [],
   "source": [
    "numbers=\"10_20_30_40_and hello\""
   ]
  },
  {
   "cell_type": "code",
   "execution_count": 107,
   "id": "0b6ccecb",
   "metadata": {},
   "outputs": [
    {
     "data": {
      "text/plain": [
       "['10', '20', '30', '40', 'and hello']"
      ]
     },
     "execution_count": 107,
     "metadata": {},
     "output_type": "execute_result"
    }
   ],
   "source": [
    "numbers.split(\"_\")"
   ]
  },
  {
   "cell_type": "markdown",
   "id": "ec2d18a7",
   "metadata": {},
   "source": [
    "## Live Assignment"
   ]
  },
  {
   "cell_type": "markdown",
   "id": "19d2ed84",
   "metadata": {},
   "source": [
    "https://www.google.com/search?q=strings+in+python"
   ]
  },
  {
   "cell_type": "code",
   "execution_count": 117,
   "id": "b6918a80",
   "metadata": {},
   "outputs": [],
   "source": [
    "# query = \"strings in python\"\n",
    "def searchUrl(query):\n",
    "    baseString = \"https://www.google.com/search?q=\"\n",
    "    return baseString + '+'.join(query.split())"
   ]
  },
  {
   "cell_type": "code",
   "execution_count": 118,
   "id": "dfee52d9",
   "metadata": {},
   "outputs": [
    {
     "data": {
      "text/plain": [
       "'https://www.google.com/search?q=hello+world+python'"
      ]
     },
     "execution_count": 118,
     "metadata": {},
     "output_type": "execute_result"
    }
   ],
   "source": [
    "searchUrl(\"hello world python\")"
   ]
  },
  {
   "cell_type": "code",
   "execution_count": null,
   "id": "2cff2ec9",
   "metadata": {},
   "outputs": [],
   "source": [
    "# Iterating over a string"
   ]
  },
  {
   "cell_type": "code",
   "execution_count": 125,
   "id": "664416e1",
   "metadata": {},
   "outputs": [
    {
     "name": "stdout",
     "output_type": "stream",
     "text": [
      "hellO\n"
     ]
    }
   ],
   "source": [
    "l = []\n",
    "# find & replace --> hint\n",
    "for x in \"hello\":\n",
    "    if x == \"o\":\n",
    "        l.append(\"O\")\n",
    "    else:\n",
    "        l.append(x)\n",
    "        \n",
    "print(\"\".join(l))"
   ]
  },
  {
   "cell_type": "code",
   "execution_count": null,
   "id": "feb02318",
   "metadata": {},
   "outputs": [],
   "source": []
  },
  {
   "cell_type": "code",
   "execution_count": 131,
   "id": "3ac088c6",
   "metadata": {},
   "outputs": [],
   "source": [
    "s = \" hello world   \""
   ]
  },
  {
   "cell_type": "code",
   "execution_count": 132,
   "id": "72f2f2f1",
   "metadata": {},
   "outputs": [
    {
     "data": {
      "text/plain": [
       "15"
      ]
     },
     "execution_count": 132,
     "metadata": {},
     "output_type": "execute_result"
    }
   ],
   "source": [
    "len(s)"
   ]
  },
  {
   "cell_type": "code",
   "execution_count": 133,
   "id": "6de2cced",
   "metadata": {},
   "outputs": [
    {
     "data": {
      "text/plain": [
       "'hello world'"
      ]
     },
     "execution_count": 133,
     "metadata": {},
     "output_type": "execute_result"
    }
   ],
   "source": [
    "s.strip()"
   ]
  },
  {
   "cell_type": "code",
   "execution_count": 134,
   "id": "296d7515",
   "metadata": {},
   "outputs": [
    {
     "data": {
      "text/plain": [
       "' hello world'"
      ]
     },
     "execution_count": 134,
     "metadata": {},
     "output_type": "execute_result"
    }
   ],
   "source": [
    "s.rstrip()"
   ]
  },
  {
   "cell_type": "code",
   "execution_count": 135,
   "id": "ee1eadc7",
   "metadata": {},
   "outputs": [
    {
     "data": {
      "text/plain": [
       "'hello world   '"
      ]
     },
     "execution_count": 135,
     "metadata": {},
     "output_type": "execute_result"
    }
   ],
   "source": [
    "s.lstrip()"
   ]
  },
  {
   "cell_type": "code",
   "execution_count": 136,
   "id": "db69ff08",
   "metadata": {},
   "outputs": [
    {
     "data": {
      "text/plain": [
       "'abcd'"
      ]
     },
     "execution_count": 136,
     "metadata": {},
     "output_type": "execute_result"
    }
   ],
   "source": [
    "\"ab\" + \"cd\""
   ]
  },
  {
   "cell_type": "code",
   "execution_count": 138,
   "id": "d0470438",
   "metadata": {},
   "outputs": [
    {
     "data": {
      "text/plain": [
       "'ab3'"
      ]
     },
     "execution_count": 138,
     "metadata": {},
     "output_type": "execute_result"
    }
   ],
   "source": [
    "\"ab\" + str(3)"
   ]
  },
  {
   "cell_type": "code",
   "execution_count": 139,
   "id": "79161789",
   "metadata": {},
   "outputs": [
    {
     "data": {
      "text/plain": [
       "'ababab'"
      ]
     },
     "execution_count": 139,
     "metadata": {},
     "output_type": "execute_result"
    }
   ],
   "source": [
    "\"ab\"*3"
   ]
  },
  {
   "cell_type": "code",
   "execution_count": 140,
   "id": "b5399610",
   "metadata": {},
   "outputs": [],
   "source": [
    "# Break Time ;)\n",
    "\n",
    "# Till 10.35\n",
    "\n"
   ]
  },
  {
   "cell_type": "code",
   "execution_count": null,
   "id": "8b099f22",
   "metadata": {},
   "outputs": [],
   "source": []
  }
 ],
 "metadata": {
  "kernelspec": {
   "display_name": "Python 3 (ipykernel)",
   "language": "python",
   "name": "python3"
  },
  "language_info": {
   "codemirror_mode": {
    "name": "ipython",
    "version": 3
   },
   "file_extension": ".py",
   "mimetype": "text/x-python",
   "name": "python",
   "nbconvert_exporter": "python",
   "pygments_lexer": "ipython3",
   "version": "3.8.2"
  }
 },
 "nbformat": 4,
 "nbformat_minor": 5
}

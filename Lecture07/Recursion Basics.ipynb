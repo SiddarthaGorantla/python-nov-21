{
 "cells": [
  {
   "cell_type": "markdown",
   "id": "e2182496",
   "metadata": {},
   "source": [
    "### Factorial"
   ]
  },
  {
   "cell_type": "code",
   "execution_count": 1,
   "id": "9edc50ff",
   "metadata": {},
   "outputs": [],
   "source": [
    "def fact(n):\n",
    "    if n==0:\n",
    "        return 1\n",
    "    ans = n * fact(n-1)\n",
    "    return ans"
   ]
  },
  {
   "cell_type": "code",
   "execution_count": 3,
   "id": "71791a63",
   "metadata": {},
   "outputs": [
    {
     "name": "stdout",
     "output_type": "stream",
     "text": [
      "120\n"
     ]
    }
   ],
   "source": [
    "print(fact(5))"
   ]
  },
  {
   "cell_type": "markdown",
   "id": "af585a75",
   "metadata": {},
   "source": [
    "### Multiply "
   ]
  },
  {
   "cell_type": "code",
   "execution_count": 4,
   "id": "cda2deac",
   "metadata": {},
   "outputs": [],
   "source": [
    "def multiply(a,n):\n",
    "    if n==0:\n",
    "        return 0\n",
    "    ans = a + multiply(a,n-1)\n",
    "    return ans"
   ]
  },
  {
   "cell_type": "code",
   "execution_count": 6,
   "id": "73325d41",
   "metadata": {},
   "outputs": [
    {
     "data": {
      "text/plain": [
       "30"
      ]
     },
     "execution_count": 6,
     "metadata": {},
     "output_type": "execute_result"
    }
   ],
   "source": [
    "multiply(5,6)"
   ]
  },
  {
   "cell_type": "markdown",
   "id": "abfa635d",
   "metadata": {},
   "source": [
    "### Power"
   ]
  },
  {
   "cell_type": "code",
   "execution_count": 7,
   "id": "ee89e70f",
   "metadata": {},
   "outputs": [],
   "source": [
    "def power(a,n):\n",
    "    if n==0:\n",
    "        return 1\n",
    "    ans = a * power(a,n-1)\n",
    "    return ans"
   ]
  },
  {
   "cell_type": "code",
   "execution_count": 8,
   "id": "bb8d135d",
   "metadata": {},
   "outputs": [
    {
     "data": {
      "text/plain": [
       "625"
      ]
     },
     "execution_count": 8,
     "metadata": {},
     "output_type": "execute_result"
    }
   ],
   "source": [
    "power(5,4)"
   ]
  },
  {
   "cell_type": "markdown",
   "id": "a52b2daa",
   "metadata": {},
   "source": [
    "## LIVE Assignment"
   ]
  },
  {
   "cell_type": "code",
   "execution_count": 12,
   "id": "c92ebcea",
   "metadata": {},
   "outputs": [],
   "source": [
    "def inc(n):\n",
    "    if n==0:\n",
    "        return \n",
    "    inc(n-1)\n",
    "    print(n,end=\",\")\n",
    "    \n",
    "    \n",
    "def dec(n):\n",
    "    if n==0:\n",
    "        return\n",
    "    \n",
    "    print(n,end=\",\")\n",
    "    dec(n-1)"
   ]
  },
  {
   "cell_type": "code",
   "execution_count": 13,
   "id": "905ac8db",
   "metadata": {},
   "outputs": [
    {
     "name": "stdout",
     "output_type": "stream",
     "text": [
      "5,4,3,2,1,"
     ]
    }
   ],
   "source": [
    "dec(5)"
   ]
  },
  {
   "cell_type": "code",
   "execution_count": 14,
   "id": "9ef5551b",
   "metadata": {},
   "outputs": [
    {
     "name": "stdout",
     "output_type": "stream",
     "text": [
      "1,2,3,4,5,"
     ]
    }
   ],
   "source": [
    "inc(5)"
   ]
  },
  {
   "cell_type": "markdown",
   "id": "0901f677",
   "metadata": {},
   "source": [
    "## Test "
   ]
  },
  {
   "cell_type": "code",
   "execution_count": 15,
   "id": "e445d5b0",
   "metadata": {},
   "outputs": [],
   "source": [
    "def test(n):\n",
    "    if n==0:\n",
    "        return\n",
    "    print(\"Before \",str(n))\n",
    "    test(n-1)\n",
    "    print(\"After \",str(n))"
   ]
  },
  {
   "cell_type": "code",
   "execution_count": 16,
   "id": "096197d8",
   "metadata": {},
   "outputs": [
    {
     "name": "stdout",
     "output_type": "stream",
     "text": [
      "Before  3\n",
      "Before  2\n",
      "Before  1\n",
      "After  1\n",
      "After  2\n",
      "After  3\n"
     ]
    }
   ],
   "source": [
    "test(3)"
   ]
  },
  {
   "cell_type": "markdown",
   "id": "ef539afe",
   "metadata": {},
   "source": [
    "### Tiling Problem\n",
    "Given a N x 2 bathroom floor, you want to place some tiles on it.\n",
    "Tile size is 1X2 which can be used 1X2 or 2X1 tile. \n",
    "Number of ways to make the bathroom floor."
   ]
  },
  {
   "cell_type": "code",
   "execution_count": 21,
   "id": "09b4bff9",
   "metadata": {},
   "outputs": [],
   "source": [
    "def tiles(n):\n",
    "    if n==1 or n==2:\n",
    "        return n\n",
    "    return tiles(n-1) + tiles(n-2)"
   ]
  },
  {
   "cell_type": "code",
   "execution_count": 22,
   "id": "e45c91ff",
   "metadata": {},
   "outputs": [
    {
     "data": {
      "text/plain": [
       "13"
      ]
     },
     "execution_count": 22,
     "metadata": {},
     "output_type": "execute_result"
    }
   ],
   "source": [
    "tiles(6)"
   ]
  },
  {
   "cell_type": "code",
   "execution_count": null,
   "id": "43f70146",
   "metadata": {},
   "outputs": [],
   "source": []
  }
 ],
 "metadata": {
  "kernelspec": {
   "display_name": "Python 3 (ipykernel)",
   "language": "python",
   "name": "python3"
  },
  "language_info": {
   "codemirror_mode": {
    "name": "ipython",
    "version": 3
   },
   "file_extension": ".py",
   "mimetype": "text/x-python",
   "name": "python",
   "nbconvert_exporter": "python",
   "pygments_lexer": "ipython3",
   "version": "3.8.2"
  }
 },
 "nbformat": 4,
 "nbformat_minor": 5
}

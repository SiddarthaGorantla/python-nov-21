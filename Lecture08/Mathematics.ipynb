{
 "cells": [
  {
   "cell_type": "markdown",
   "id": "4f4c93a9",
   "metadata": {},
   "source": [
    "### Prime Number Check?"
   ]
  },
  {
   "cell_type": "code",
   "execution_count": 7,
   "id": "137538f1",
   "metadata": {},
   "outputs": [],
   "source": [
    "# Square Root N steps \n",
    "\n",
    "def isPrime(n):\n",
    "    i=2\n",
    "    while i*i<=n:\n",
    "        if n%i==0:\n",
    "            return False\n",
    "        \n",
    "        i = i + 1        \n",
    "    return True"
   ]
  },
  {
   "cell_type": "code",
   "execution_count": 5,
   "id": "2b62b689",
   "metadata": {},
   "outputs": [
    {
     "data": {
      "text/plain": [
       "True"
      ]
     },
     "execution_count": 5,
     "metadata": {},
     "output_type": "execute_result"
    }
   ],
   "source": [
    "isPrime(11)"
   ]
  },
  {
   "cell_type": "code",
   "execution_count": 6,
   "id": "3459454e",
   "metadata": {},
   "outputs": [
    {
     "data": {
      "text/plain": [
       "False"
      ]
     },
     "execution_count": 6,
     "metadata": {},
     "output_type": "execute_result"
    }
   ],
   "source": [
    "isPrime(15)"
   ]
  },
  {
   "cell_type": "markdown",
   "id": "a8f57d8c",
   "metadata": {},
   "source": [
    "## Print all Divisors of given N\n",
    "30 = (1,2,3,5,6,10,15,30)"
   ]
  },
  {
   "cell_type": "code",
   "execution_count": 10,
   "id": "2b924241",
   "metadata": {},
   "outputs": [],
   "source": [
    "def printDivisorsBasic(n):\n",
    "    # N Times\n",
    "    for i in range(1,n+1):\n",
    "        if n%i==0:\n",
    "            print(i,end=\" \")\n",
    "    "
   ]
  },
  {
   "cell_type": "code",
   "execution_count": 9,
   "id": "bb8bc3e4",
   "metadata": {},
   "outputs": [
    {
     "name": "stdout",
     "output_type": "stream",
     "text": [
      "1 2 3 5 6 10 15 30 "
     ]
    }
   ],
   "source": [
    "printDivisorsBasic(30)"
   ]
  },
  {
   "cell_type": "code",
   "execution_count": 23,
   "id": "106157bb",
   "metadata": {},
   "outputs": [],
   "source": [
    "def printDivisors(n):\n",
    "    # Square Root N Times\n",
    "    i = 1\n",
    "    while i*i <= n:\n",
    "        if n%i==0:\n",
    "            if i*i ==n:\n",
    "                print(i,end=\",\")\n",
    "            else:\n",
    "                print(i,n//i,sep=\",\",end=\",\")\n",
    "        \n",
    "        i = i + 1"
   ]
  },
  {
   "cell_type": "code",
   "execution_count": 24,
   "id": "49fc0681",
   "metadata": {},
   "outputs": [
    {
     "name": "stdout",
     "output_type": "stream",
     "text": [
      "1,36,2,18,3,12,4,9,6,"
     ]
    }
   ],
   "source": [
    "printDivisors(36)"
   ]
  },
  {
   "cell_type": "markdown",
   "id": "0bb3d3f8",
   "metadata": {},
   "source": [
    "### Prime Factorisation"
   ]
  },
  {
   "cell_type": "code",
   "execution_count": 33,
   "id": "7c50a65e",
   "metadata": {},
   "outputs": [],
   "source": [
    "def primeFactorisationBasic(n):\n",
    "    \n",
    "    i = 2\n",
    "    while i <= n:\n",
    "        if n%i==0:\n",
    "            while n%i==0:\n",
    "                print(i,end=\"x\")\n",
    "                n = n // i\n",
    "        \n",
    "        i = i + 1\n",
    "    return"
   ]
  },
  {
   "cell_type": "code",
   "execution_count": 32,
   "id": "9af5f4cb",
   "metadata": {},
   "outputs": [
    {
     "name": "stdout",
     "output_type": "stream",
     "text": [
      "2x2x5x5x"
     ]
    }
   ],
   "source": [
    "primeFactorisationBasic(100)"
   ]
  },
  {
   "cell_type": "markdown",
   "id": "4766c91d",
   "metadata": {},
   "source": [
    "### Live Assignment : You need to optimise the above algorithm!"
   ]
  },
  {
   "cell_type": "code",
   "execution_count": 49,
   "id": "28cbee1f",
   "metadata": {},
   "outputs": [],
   "source": [
    "def primeFactorisation(n):\n",
    "    i = 2\n",
    "    while i*i <= n:\n",
    "        if n%i == 0:\n",
    "            while n%i == 0:\n",
    "                print(i,end=\"x\")\n",
    "                n = n//i\n",
    "                \n",
    "        i = i + 1\n",
    "        \n",
    "    #after the while loop\n",
    "    if n!=1:\n",
    "        print(n)"
   ]
  },
  {
   "cell_type": "code",
   "execution_count": 50,
   "id": "0f2cbb4e",
   "metadata": {},
   "outputs": [
    {
     "name": "stdout",
     "output_type": "stream",
     "text": [
      "2x2x5x5x"
     ]
    }
   ],
   "source": [
    "primeFactorisation(100)"
   ]
  },
  {
   "cell_type": "markdown",
   "id": "66114236",
   "metadata": {},
   "source": [
    "## GCD & Euclid's Algorithm"
   ]
  },
  {
   "cell_type": "code",
   "execution_count": 67,
   "id": "fa89d92c",
   "metadata": {},
   "outputs": [],
   "source": [
    "# Euclid's GCD Algorithm\n",
    "def gcd(a,b):\n",
    "    if a==0:\n",
    "        return b\n",
    "    return gcd(b%a,a)"
   ]
  },
  {
   "cell_type": "code",
   "execution_count": 58,
   "id": "31a5e00d",
   "metadata": {},
   "outputs": [
    {
     "data": {
      "text/plain": [
       "4"
      ]
     },
     "execution_count": 58,
     "metadata": {},
     "output_type": "execute_result"
    }
   ],
   "source": [
    "gcd(8,12)"
   ]
  },
  {
   "cell_type": "code",
   "execution_count": 59,
   "id": "19c0a59a",
   "metadata": {},
   "outputs": [
    {
     "data": {
      "text/plain": [
       "5"
      ]
     },
     "execution_count": 59,
     "metadata": {},
     "output_type": "execute_result"
    }
   ],
   "source": [
    "gcd(15,70)"
   ]
  },
  {
   "cell_type": "code",
   "execution_count": 60,
   "id": "63e7a68f",
   "metadata": {},
   "outputs": [
    {
     "data": {
      "text/plain": [
       "5"
      ]
     },
     "execution_count": 60,
     "metadata": {},
     "output_type": "execute_result"
    }
   ],
   "source": [
    "gcd(70,15)"
   ]
  },
  {
   "cell_type": "markdown",
   "id": "27d17533",
   "metadata": {},
   "source": [
    "*Todo*\n",
    "- Find GCD using basic method\n",
    "- Find LCM using the basic method\n",
    "- Find LCM using the euclid's gcd formula  (lcm = a*b/gcd)"
   ]
  },
  {
   "cell_type": "code",
   "execution_count": 70,
   "id": "657f32d5",
   "metadata": {},
   "outputs": [],
   "source": [
    "def gcdHW(a,b):\n",
    "    #homework\n",
    "    pass\n",
    "\n",
    "def lcm(a,b):\n",
    "    #homework pass\n",
    "    pass\n",
    "\n",
    "def lcm_using_gcd(a,b):\n",
    "    #homework \n",
    "    pass"
   ]
  },
  {
   "cell_type": "markdown",
   "id": "2bbd74a9",
   "metadata": {},
   "source": [
    "## Live Assignment : GCD of multiple numbers 20,40,80,70, 95"
   ]
  },
  {
   "cell_type": "code",
   "execution_count": 77,
   "id": "d2541062",
   "metadata": {},
   "outputs": [],
   "source": [
    "def gcd_of_n():\n",
    "    \n",
    "    n = int(input())\n",
    "    ans = int(input())\n",
    "    \n",
    "    for i in range(1,n):\n",
    "        current = int(input())\n",
    "        ans = gcd(ans,current)\n",
    "    #print(ans)   \n",
    "    return ans\n",
    "    "
   ]
  },
  {
   "cell_type": "code",
   "execution_count": 80,
   "id": "fb9d659e",
   "metadata": {},
   "outputs": [
    {
     "name": "stdout",
     "output_type": "stream",
     "text": [
      "3\n",
      "10\n",
      "20\n",
      "40\n",
      "finally the gcd it is 10\n"
     ]
    }
   ],
   "source": [
    "print(\"finally the gcd it is \" + str(gcd_of_n()))"
   ]
  },
  {
   "cell_type": "code",
   "execution_count": null,
   "id": "35940e19",
   "metadata": {},
   "outputs": [],
   "source": []
  }
 ],
 "metadata": {
  "kernelspec": {
   "display_name": "Python 3 (ipykernel)",
   "language": "python",
   "name": "python3"
  },
  "language_info": {
   "codemirror_mode": {
    "name": "ipython",
    "version": 3
   },
   "file_extension": ".py",
   "mimetype": "text/x-python",
   "name": "python",
   "nbconvert_exporter": "python",
   "pygments_lexer": "ipython3",
   "version": "3.8.2"
  }
 },
 "nbformat": 4,
 "nbformat_minor": 5
}

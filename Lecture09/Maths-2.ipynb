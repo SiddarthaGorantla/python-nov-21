{
 "cells": [
  {
   "cell_type": "markdown",
   "id": "9f77cfb5",
   "metadata": {},
   "source": [
    "## Maths-Lecture 2"
   ]
  },
  {
   "cell_type": "markdown",
   "id": "090e31c0",
   "metadata": {},
   "source": [
    "*Warmup - Trailing Zeroes*"
   ]
  },
  {
   "cell_type": "code",
   "execution_count": 4,
   "id": "33e813e3",
   "metadata": {},
   "outputs": [],
   "source": [
    "def trailingZeroes(n):\n",
    "    ans = 0\n",
    "    p = 5\n",
    "    while n//p > 0:\n",
    "        ans = ans + n//p\n",
    "        p = p*5\n",
    "    return ans"
   ]
  },
  {
   "cell_type": "code",
   "execution_count": 5,
   "id": "b236924f",
   "metadata": {},
   "outputs": [
    {
     "data": {
      "text/plain": [
       "24"
      ]
     },
     "execution_count": 5,
     "metadata": {},
     "output_type": "execute_result"
    }
   ],
   "source": [
    "trailingZeroes(100)"
   ]
  },
  {
   "cell_type": "code",
   "execution_count": 3,
   "id": "73c35d8a",
   "metadata": {},
   "outputs": [
    {
     "data": {
      "text/plain": [
       "249"
      ]
     },
     "execution_count": 3,
     "metadata": {},
     "output_type": "execute_result"
    }
   ],
   "source": [
    "trailingZeroes(1000)"
   ]
  },
  {
   "cell_type": "markdown",
   "id": "27f22243",
   "metadata": {},
   "source": [
    "### Conversions"
   ]
  },
  {
   "cell_type": "code",
   "execution_count": 6,
   "id": "a6702784",
   "metadata": {},
   "outputs": [],
   "source": [
    "def binaryToDecimal(n):\n",
    "    ans = 0\n",
    "    p = 1\n",
    "    \n",
    "    while n>0:\n",
    "        last_digit = n%10\n",
    "        ans = ans + last_digit*p;\n",
    "        p = p*2\n",
    "        n = n//10\n",
    "        \n",
    "    return ans"
   ]
  },
  {
   "cell_type": "code",
   "execution_count": 7,
   "id": "aa721605",
   "metadata": {},
   "outputs": [
    {
     "data": {
      "text/plain": [
       "6"
      ]
     },
     "execution_count": 7,
     "metadata": {},
     "output_type": "execute_result"
    }
   ],
   "source": [
    "binaryToDecimal(110)"
   ]
  },
  {
   "cell_type": "code",
   "execution_count": 8,
   "id": "58393883",
   "metadata": {},
   "outputs": [
    {
     "data": {
      "text/plain": [
       "13"
      ]
     },
     "execution_count": 8,
     "metadata": {},
     "output_type": "execute_result"
    }
   ],
   "source": [
    "binaryToDecimal(1101)"
   ]
  },
  {
   "cell_type": "code",
   "execution_count": 9,
   "id": "f3f47419",
   "metadata": {},
   "outputs": [],
   "source": [
    "#Live assignment\n",
    "def decimalToBinary(n):\n",
    "    ans = 0\n",
    "    p = 1\n",
    "    \n",
    "    while n>0:\n",
    "        rem = n%2\n",
    "        ans = ans + rem*p\n",
    "        p = p*10\n",
    "        n = n//2\n",
    "        \n",
    "    return ans"
   ]
  },
  {
   "cell_type": "code",
   "execution_count": 10,
   "id": "3c1e252e",
   "metadata": {},
   "outputs": [
    {
     "data": {
      "text/plain": [
       "1101"
      ]
     },
     "execution_count": 10,
     "metadata": {},
     "output_type": "execute_result"
    }
   ],
   "source": [
    "decimalToBinary(13)"
   ]
  },
  {
   "cell_type": "code",
   "execution_count": 11,
   "id": "5311c84b",
   "metadata": {},
   "outputs": [
    {
     "data": {
      "text/plain": [
       "1111"
      ]
     },
     "execution_count": 11,
     "metadata": {},
     "output_type": "execute_result"
    }
   ],
   "source": [
    "decimalToBinary(15)"
   ]
  },
  {
   "cell_type": "code",
   "execution_count": 12,
   "id": "b6832511",
   "metadata": {},
   "outputs": [
    {
     "data": {
      "text/plain": [
       "110"
      ]
     },
     "execution_count": 12,
     "metadata": {},
     "output_type": "execute_result"
    }
   ],
   "source": [
    "decimalToBinary(6)"
   ]
  },
  {
   "cell_type": "code",
   "execution_count": 13,
   "id": "40960423",
   "metadata": {},
   "outputs": [],
   "source": [
    "#Live assignment\n",
    "def magicNo(n):\n",
    "    ans = 0\n",
    "    p = 5\n",
    "    \n",
    "    while n>0:\n",
    "        rem = n%2\n",
    "        ans = ans + rem*p\n",
    "        p = p*5\n",
    "        n = n//2\n",
    "        \n",
    "    return ans"
   ]
  },
  {
   "cell_type": "code",
   "execution_count": 14,
   "id": "7a3edff7",
   "metadata": {},
   "outputs": [
    {
     "data": {
      "text/plain": [
       "155"
      ]
     },
     "execution_count": 14,
     "metadata": {},
     "output_type": "execute_result"
    }
   ],
   "source": [
    "magicNo(7)"
   ]
  },
  {
   "cell_type": "code",
   "execution_count": 15,
   "id": "d5eea323",
   "metadata": {},
   "outputs": [
    {
     "data": {
      "text/plain": [
       "30"
      ]
     },
     "execution_count": 15,
     "metadata": {},
     "output_type": "execute_result"
    }
   ],
   "source": [
    "magicNo(3)"
   ]
  },
  {
   "cell_type": "code",
   "execution_count": 20,
   "id": "ff42a486",
   "metadata": {},
   "outputs": [],
   "source": [
    "def minJumps(n):\n",
    "    ans = 0\n",
    "    while n>0:\n",
    "        ans = ans + n%2\n",
    "        n = n//2        \n",
    "    return ans\n"
   ]
  },
  {
   "cell_type": "code",
   "execution_count": 21,
   "id": "441c2989",
   "metadata": {},
   "outputs": [
    {
     "data": {
      "text/plain": [
       "3"
      ]
     },
     "execution_count": 21,
     "metadata": {},
     "output_type": "execute_result"
    }
   ],
   "source": [
    "minJumps(11)"
   ]
  },
  {
   "cell_type": "code",
   "execution_count": null,
   "id": "b71c4757",
   "metadata": {},
   "outputs": [],
   "source": []
  }
 ],
 "metadata": {
  "kernelspec": {
   "display_name": "Python 3 (ipykernel)",
   "language": "python",
   "name": "python3"
  },
  "language_info": {
   "codemirror_mode": {
    "name": "ipython",
    "version": 3
   },
   "file_extension": ".py",
   "mimetype": "text/x-python",
   "name": "python",
   "nbconvert_exporter": "python",
   "pygments_lexer": "ipython3",
   "version": "3.8.2"
  }
 },
 "nbformat": 4,
 "nbformat_minor": 5
}

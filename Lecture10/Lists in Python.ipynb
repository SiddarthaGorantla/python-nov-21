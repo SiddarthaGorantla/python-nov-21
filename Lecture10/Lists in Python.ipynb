{
 "cells": [
  {
   "cell_type": "markdown",
   "id": "d6b51dfc",
   "metadata": {},
   "source": [
    "### Creating 100's variables is infeasible\n",
    "```\n",
    "s1 = 18\n",
    "s2 = 32\n",
    "s3 = 64\n",
    ".\n",
    ".\n",
    ".\n",
    "```"
   ]
  },
  {
   "cell_type": "markdown",
   "id": "a14d82b0",
   "metadata": {},
   "source": [
    "### Datastructures \n",
    "- containers that allow us to store and operate on data\n",
    "- Operations : Insert, Delete, Search "
   ]
  },
  {
   "cell_type": "markdown",
   "id": "73c73e7d",
   "metadata": {},
   "source": [
    "### List (Data Structure)"
   ]
  },
  {
   "cell_type": "code",
   "execution_count": 4,
   "id": "f0154833",
   "metadata": {},
   "outputs": [],
   "source": [
    "marks = [10, 20, 32, 46, 90]"
   ]
  },
  {
   "cell_type": "code",
   "execution_count": 3,
   "id": "a007c899",
   "metadata": {},
   "outputs": [
    {
     "name": "stdout",
     "output_type": "stream",
     "text": [
      "<class 'list'>\n"
     ]
    }
   ],
   "source": [
    "print(type(marks))"
   ]
  },
  {
   "cell_type": "markdown",
   "id": "db0189e1",
   "metadata": {},
   "source": [
    "\n",
    "- ordered sequence of elements\n",
    "- mutable\n",
    "- indexable\n",
    "- can store heteregenous data"
   ]
  },
  {
   "cell_type": "code",
   "execution_count": 5,
   "id": "47059f11",
   "metadata": {},
   "outputs": [
    {
     "data": {
      "text/plain": [
       "20"
      ]
     },
     "execution_count": 5,
     "metadata": {},
     "output_type": "execute_result"
    }
   ],
   "source": [
    "marks[1]"
   ]
  },
  {
   "cell_type": "code",
   "execution_count": 7,
   "id": "bf4819b3",
   "metadata": {},
   "outputs": [
    {
     "data": {
      "text/plain": [
       "5"
      ]
     },
     "execution_count": 7,
     "metadata": {},
     "output_type": "execute_result"
    }
   ],
   "source": [
    "len(marks)"
   ]
  },
  {
   "cell_type": "code",
   "execution_count": 10,
   "id": "84391b6d",
   "metadata": {},
   "outputs": [],
   "source": [
    "marks[2] = 2222"
   ]
  },
  {
   "cell_type": "code",
   "execution_count": 16,
   "id": "9d105895",
   "metadata": {},
   "outputs": [
    {
     "name": "stdout",
     "output_type": "stream",
     "text": [
      "0 10\n",
      "1 20\n",
      "2 2222\n",
      "3 46\n",
      "4 90\n"
     ]
    }
   ],
   "source": [
    "# one way of printing \n",
    "for i in range(len(marks)):\n",
    "    print(i, marks[i])"
   ]
  },
  {
   "cell_type": "code",
   "execution_count": 15,
   "id": "1be2c2d8",
   "metadata": {},
   "outputs": [
    {
     "name": "stdout",
     "output_type": "stream",
     "text": [
      "10 20 2222 46 90 "
     ]
    }
   ],
   "source": [
    "# for each loop\n",
    "for val in marks:\n",
    "    print(val,end=\" \")"
   ]
  },
  {
   "cell_type": "code",
   "execution_count": 14,
   "id": "dcdb8435",
   "metadata": {},
   "outputs": [
    {
     "name": "stdout",
     "output_type": "stream",
     "text": [
      "[10, 20, 2222, 46, 90]\n"
     ]
    }
   ],
   "source": [
    "print(marks)"
   ]
  },
  {
   "cell_type": "code",
   "execution_count": 19,
   "id": "826def7a",
   "metadata": {},
   "outputs": [],
   "source": [
    "# Mutable -> We can update the list\n",
    "marks[0] = 1"
   ]
  },
  {
   "cell_type": "code",
   "execution_count": 18,
   "id": "b05327c0",
   "metadata": {},
   "outputs": [
    {
     "name": "stdout",
     "output_type": "stream",
     "text": [
      "[1, 20, 2222, 46, 90]\n"
     ]
    }
   ],
   "source": [
    "print(marks)"
   ]
  },
  {
   "cell_type": "code",
   "execution_count": 20,
   "id": "401b53f8",
   "metadata": {},
   "outputs": [],
   "source": [
    "# Different from C++ / Java => Homogenous Data\n",
    "# Python -> Heterogenous Lists (Data of different types can reside in the same list)"
   ]
  },
  {
   "cell_type": "code",
   "execution_count": 26,
   "id": "96c3246e",
   "metadata": {},
   "outputs": [],
   "source": [
    "myList = [1,2,3, \"Hello\",\"World\",9.5,[10,12,13]]"
   ]
  },
  {
   "cell_type": "code",
   "execution_count": 27,
   "id": "bc3c106f",
   "metadata": {},
   "outputs": [
    {
     "data": {
      "text/plain": [
       "1"
      ]
     },
     "execution_count": 27,
     "metadata": {},
     "output_type": "execute_result"
    }
   ],
   "source": [
    "myList[0]"
   ]
  },
  {
   "cell_type": "code",
   "execution_count": 28,
   "id": "ce17878e",
   "metadata": {},
   "outputs": [
    {
     "data": {
      "text/plain": [
       "'Hello'"
      ]
     },
     "execution_count": 28,
     "metadata": {},
     "output_type": "execute_result"
    }
   ],
   "source": [
    "myList[3]"
   ]
  },
  {
   "cell_type": "code",
   "execution_count": 29,
   "id": "2782e974",
   "metadata": {},
   "outputs": [
    {
     "data": {
      "text/plain": [
       "[10, 12, 13]"
      ]
     },
     "execution_count": 29,
     "metadata": {},
     "output_type": "execute_result"
    }
   ],
   "source": [
    "myList[6]"
   ]
  },
  {
   "cell_type": "code",
   "execution_count": 30,
   "id": "892d1bf3",
   "metadata": {},
   "outputs": [
    {
     "data": {
      "text/plain": [
       "12"
      ]
     },
     "execution_count": 30,
     "metadata": {},
     "output_type": "execute_result"
    }
   ],
   "source": [
    "myList[6][1]"
   ]
  },
  {
   "cell_type": "markdown",
   "id": "3d896d6d",
   "metadata": {},
   "source": [
    "# Indexing"
   ]
  },
  {
   "cell_type": "code",
   "execution_count": 31,
   "id": "53b0d982",
   "metadata": {},
   "outputs": [
    {
     "data": {
      "text/plain": [
       "7"
      ]
     },
     "execution_count": 31,
     "metadata": {},
     "output_type": "execute_result"
    }
   ],
   "source": [
    "# Negative Indexing\n",
    "# Last Element\n",
    "n = len(myList)\n",
    "n"
   ]
  },
  {
   "cell_type": "code",
   "execution_count": 32,
   "id": "6feaf1ba",
   "metadata": {},
   "outputs": [
    {
     "data": {
      "text/plain": [
       "[10, 12, 13]"
      ]
     },
     "execution_count": 32,
     "metadata": {},
     "output_type": "execute_result"
    }
   ],
   "source": [
    "myList[-1]"
   ]
  },
  {
   "cell_type": "code",
   "execution_count": 33,
   "id": "b5b2ebe7",
   "metadata": {},
   "outputs": [
    {
     "data": {
      "text/plain": [
       "[10, 12, 13]"
      ]
     },
     "execution_count": 33,
     "metadata": {},
     "output_type": "execute_result"
    }
   ],
   "source": [
    "myList[n-1]"
   ]
  },
  {
   "cell_type": "code",
   "execution_count": 34,
   "id": "cc97af31",
   "metadata": {},
   "outputs": [
    {
     "data": {
      "text/plain": [
       "9.5"
      ]
     },
     "execution_count": 34,
     "metadata": {},
     "output_type": "execute_result"
    }
   ],
   "source": [
    "myList[-2]"
   ]
  },
  {
   "cell_type": "code",
   "execution_count": 35,
   "id": "27478cf7",
   "metadata": {},
   "outputs": [
    {
     "data": {
      "text/plain": [
       "13"
      ]
     },
     "execution_count": 35,
     "metadata": {},
     "output_type": "execute_result"
    }
   ],
   "source": [
    "myList[-1][-1]"
   ]
  },
  {
   "cell_type": "markdown",
   "id": "2f633dd2",
   "metadata": {},
   "source": [
    "### List Slicing"
   ]
  },
  {
   "cell_type": "code",
   "execution_count": 37,
   "id": "efa668f7",
   "metadata": {},
   "outputs": [],
   "source": [
    "myList = [10,20,30,40,50,60,70]\n"
   ]
  },
  {
   "cell_type": "code",
   "execution_count": 41,
   "id": "affe2633",
   "metadata": {},
   "outputs": [
    {
     "data": {
      "text/plain": [
       "[30, 40, 50]"
      ]
     },
     "execution_count": 41,
     "metadata": {},
     "output_type": "execute_result"
    }
   ],
   "source": [
    "myList[2:5]"
   ]
  },
  {
   "cell_type": "code",
   "execution_count": 43,
   "id": "495705c0",
   "metadata": {},
   "outputs": [
    {
     "data": {
      "text/plain": [
       "[30, 40, 50, 60, 70]"
      ]
     },
     "execution_count": 43,
     "metadata": {},
     "output_type": "execute_result"
    }
   ],
   "source": [
    "myList[2: ]"
   ]
  },
  {
   "cell_type": "code",
   "execution_count": 44,
   "id": "cc72c001",
   "metadata": {},
   "outputs": [
    {
     "data": {
      "text/plain": [
       "[10, 20]"
      ]
     },
     "execution_count": 44,
     "metadata": {},
     "output_type": "execute_result"
    }
   ],
   "source": [
    "myList[ :2]"
   ]
  },
  {
   "cell_type": "code",
   "execution_count": 45,
   "id": "cb66dee7",
   "metadata": {},
   "outputs": [
    {
     "data": {
      "text/plain": [
       "[]"
      ]
     },
     "execution_count": 45,
     "metadata": {},
     "output_type": "execute_result"
    }
   ],
   "source": [
    "myList[2:2]"
   ]
  },
  {
   "cell_type": "code",
   "execution_count": 47,
   "id": "fd10b773",
   "metadata": {},
   "outputs": [
    {
     "data": {
      "text/plain": [
       "[10, 20, 30, 40, 50, 60, 70]"
      ]
     },
     "execution_count": 47,
     "metadata": {},
     "output_type": "execute_result"
    }
   ],
   "source": [
    "myList[ : ] "
   ]
  },
  {
   "cell_type": "code",
   "execution_count": 48,
   "id": "3263ea3e",
   "metadata": {},
   "outputs": [
    {
     "data": {
      "text/plain": [
       "[10, 20, 30, 40, 50, 60, 70]"
      ]
     },
     "execution_count": 48,
     "metadata": {},
     "output_type": "execute_result"
    }
   ],
   "source": [
    "myList"
   ]
  },
  {
   "cell_type": "code",
   "execution_count": 46,
   "id": "a359cd88",
   "metadata": {},
   "outputs": [],
   "source": [
    "# Add a \"jump\" -> You can skip some of the elements while slicing"
   ]
  },
  {
   "cell_type": "code",
   "execution_count": 49,
   "id": "c192bf16",
   "metadata": {},
   "outputs": [],
   "source": [
    "# myList[ S : E : Jump]"
   ]
  },
  {
   "cell_type": "code",
   "execution_count": 50,
   "id": "aecb6133",
   "metadata": {},
   "outputs": [
    {
     "data": {
      "text/plain": [
       "[10, 30, 50, 70]"
      ]
     },
     "execution_count": 50,
     "metadata": {},
     "output_type": "execute_result"
    }
   ],
   "source": [
    "myList[ : : 2]"
   ]
  },
  {
   "cell_type": "code",
   "execution_count": 51,
   "id": "fed62c2e",
   "metadata": {},
   "outputs": [
    {
     "data": {
      "text/plain": [
       "[10, 40, 70]"
      ]
     },
     "execution_count": 51,
     "metadata": {},
     "output_type": "execute_result"
    }
   ],
   "source": [
    "myList[ : : 3]"
   ]
  },
  {
   "cell_type": "code",
   "execution_count": 52,
   "id": "696c59ba",
   "metadata": {},
   "outputs": [
    {
     "data": {
      "text/plain": [
       "[30, 60]"
      ]
     },
     "execution_count": 52,
     "metadata": {},
     "output_type": "execute_result"
    }
   ],
   "source": [
    "myList[2 : 6 : 3]"
   ]
  },
  {
   "cell_type": "code",
   "execution_count": 53,
   "id": "6df70807",
   "metadata": {},
   "outputs": [
    {
     "data": {
      "text/plain": [
       "[30]"
      ]
     },
     "execution_count": 53,
     "metadata": {},
     "output_type": "execute_result"
    }
   ],
   "source": [
    "myList[2 : 5 : 3]"
   ]
  },
  {
   "cell_type": "markdown",
   "id": "14e0a705",
   "metadata": {},
   "source": [
    "# Negative Slicing"
   ]
  },
  {
   "cell_type": "code",
   "execution_count": 55,
   "id": "27f65b7d",
   "metadata": {},
   "outputs": [],
   "source": [
    "        \n",
    "myList = [10,20,30,40,50,60,70]"
   ]
  },
  {
   "cell_type": "code",
   "execution_count": 56,
   "id": "5ef67fb3",
   "metadata": {},
   "outputs": [
    {
     "data": {
      "text/plain": [
       "[30, 40, 50]"
      ]
     },
     "execution_count": 56,
     "metadata": {},
     "output_type": "execute_result"
    }
   ],
   "source": [
    "myList[-5 : - 2]"
   ]
  },
  {
   "cell_type": "code",
   "execution_count": 57,
   "id": "8d0816f1",
   "metadata": {},
   "outputs": [
    {
     "data": {
      "text/plain": [
       "[]"
      ]
     },
     "execution_count": 57,
     "metadata": {},
     "output_type": "execute_result"
    }
   ],
   "source": [
    "myList[-5 : - 2 : -1]"
   ]
  },
  {
   "cell_type": "code",
   "execution_count": 58,
   "id": "b7aa7f72",
   "metadata": {},
   "outputs": [
    {
     "data": {
      "text/plain": [
       "[60, 50, 40]"
      ]
     },
     "execution_count": 58,
     "metadata": {},
     "output_type": "execute_result"
    }
   ],
   "source": [
    "myList[-2 : -5 : -1]"
   ]
  },
  {
   "cell_type": "code",
   "execution_count": 59,
   "id": "413db4c6",
   "metadata": {},
   "outputs": [
    {
     "data": {
      "text/plain": [
       "[30, 40, 50]"
      ]
     },
     "execution_count": 59,
     "metadata": {},
     "output_type": "execute_result"
    }
   ],
   "source": [
    "myList[-5 : - 2 : 1]"
   ]
  },
  {
   "cell_type": "code",
   "execution_count": 60,
   "id": "153bde22",
   "metadata": {},
   "outputs": [
    {
     "data": {
      "text/plain": [
       "[30, 50]"
      ]
     },
     "execution_count": 60,
     "metadata": {},
     "output_type": "execute_result"
    }
   ],
   "source": [
    "myList[-5 : - 2 : 2]"
   ]
  },
  {
   "cell_type": "code",
   "execution_count": 61,
   "id": "c683f714",
   "metadata": {},
   "outputs": [
    {
     "data": {
      "text/plain": [
       "[30, 50]"
      ]
     },
     "execution_count": 61,
     "metadata": {},
     "output_type": "execute_result"
    }
   ],
   "source": [
    "myList[-5 : 6 : 2]"
   ]
  },
  {
   "cell_type": "code",
   "execution_count": 62,
   "id": "09ad94fb",
   "metadata": {},
   "outputs": [
    {
     "data": {
      "text/plain": [
       "30"
      ]
     },
     "execution_count": 62,
     "metadata": {},
     "output_type": "execute_result"
    }
   ],
   "source": [
    "myList[2]"
   ]
  },
  {
   "cell_type": "code",
   "execution_count": 63,
   "id": "afc2e11a",
   "metadata": {},
   "outputs": [
    {
     "data": {
      "text/plain": [
       "[]"
      ]
     },
     "execution_count": 63,
     "metadata": {},
     "output_type": "execute_result"
    }
   ],
   "source": [
    "myList[2:2]"
   ]
  },
  {
   "cell_type": "code",
   "execution_count": 68,
   "id": "e840df25",
   "metadata": {},
   "outputs": [],
   "source": [
    "i = 2\n",
    "while i < 2:\n",
    "    print(myList[i])\n",
    "    i = i + 1"
   ]
  },
  {
   "cell_type": "markdown",
   "id": "674c9660",
   "metadata": {},
   "source": [
    "## Important Methods on List"
   ]
  },
  {
   "cell_type": "code",
   "execution_count": 69,
   "id": "a7c4dea6",
   "metadata": {},
   "outputs": [],
   "source": [
    "myList.append?"
   ]
  },
  {
   "cell_type": "code",
   "execution_count": 70,
   "id": "5211902f",
   "metadata": {},
   "outputs": [
    {
     "name": "stdout",
     "output_type": "stream",
     "text": [
      "[10, 20, 30, 40, 50, 60, 70, 111]\n"
     ]
    }
   ],
   "source": [
    "myList.append(111)\n",
    "print(myList)"
   ]
  },
  {
   "cell_type": "code",
   "execution_count": 71,
   "id": "13818e19",
   "metadata": {},
   "outputs": [
    {
     "name": "stdout",
     "output_type": "stream",
     "text": [
      "[10, 20, 30, 40, 50, 60, 70, 111, 'Apples']\n"
     ]
    }
   ],
   "source": [
    "myList.append(\"Apples\")\n",
    "print(myList)"
   ]
  },
  {
   "cell_type": "code",
   "execution_count": 72,
   "id": "558855d5",
   "metadata": {},
   "outputs": [
    {
     "name": "stdout",
     "output_type": "stream",
     "text": [
      "[10, 20, 30, 40, 50, 60, 70, 111, 'Apples', [10, 20, 30]]\n"
     ]
    }
   ],
   "source": [
    "myList.append([10,20,30])\n",
    "print(myList)"
   ]
  },
  {
   "cell_type": "code",
   "execution_count": 73,
   "id": "1da96327",
   "metadata": {},
   "outputs": [],
   "source": [
    "# LIVE Assignment : Tell how to append at a given position in the list?"
   ]
  },
  {
   "cell_type": "code",
   "execution_count": 75,
   "id": "44b1d941",
   "metadata": {},
   "outputs": [],
   "source": [
    "myList.insert(2,25)"
   ]
  },
  {
   "cell_type": "code",
   "execution_count": 76,
   "id": "73426d17",
   "metadata": {},
   "outputs": [
    {
     "data": {
      "text/plain": [
       "[10, 20, 25, 30, 40, 50, 60, 70, 111, 'Apples', [10, 20, 30]]"
      ]
     },
     "execution_count": 76,
     "metadata": {},
     "output_type": "execute_result"
    }
   ],
   "source": [
    "myList"
   ]
  },
  {
   "cell_type": "code",
   "execution_count": 77,
   "id": "3528e3fe",
   "metadata": {},
   "outputs": [],
   "source": [
    "myList.pop? # Indices"
   ]
  },
  {
   "cell_type": "code",
   "execution_count": 78,
   "id": "e583cbc1",
   "metadata": {},
   "outputs": [],
   "source": [
    "myList.remove? # values"
   ]
  },
  {
   "cell_type": "code",
   "execution_count": 79,
   "id": "e0046ab5",
   "metadata": {},
   "outputs": [
    {
     "data": {
      "text/plain": [
       "[10, 20, 30]"
      ]
     },
     "execution_count": 79,
     "metadata": {},
     "output_type": "execute_result"
    }
   ],
   "source": [
    "myList.pop() # remove the last element"
   ]
  },
  {
   "cell_type": "code",
   "execution_count": 80,
   "id": "7c51a675",
   "metadata": {},
   "outputs": [
    {
     "data": {
      "text/plain": [
       "[10, 20, 25, 30, 40, 50, 60, 70, 111, 'Apples']"
      ]
     },
     "execution_count": 80,
     "metadata": {},
     "output_type": "execute_result"
    }
   ],
   "source": [
    "myList\n"
   ]
  },
  {
   "cell_type": "code",
   "execution_count": 81,
   "id": "29c8cf0c",
   "metadata": {},
   "outputs": [
    {
     "data": {
      "text/plain": [
       "111"
      ]
     },
     "execution_count": 81,
     "metadata": {},
     "output_type": "execute_result"
    }
   ],
   "source": [
    "myList.pop(-2)"
   ]
  },
  {
   "cell_type": "code",
   "execution_count": 82,
   "id": "16a8e5de",
   "metadata": {},
   "outputs": [
    {
     "data": {
      "text/plain": [
       "[10, 20, 25, 30, 40, 50, 60, 70, 'Apples']"
      ]
     },
     "execution_count": 82,
     "metadata": {},
     "output_type": "execute_result"
    }
   ],
   "source": [
    "myList"
   ]
  },
  {
   "cell_type": "code",
   "execution_count": 83,
   "id": "3abfdaed",
   "metadata": {},
   "outputs": [],
   "source": [
    "myList.remove(60)"
   ]
  },
  {
   "cell_type": "code",
   "execution_count": 84,
   "id": "d0179922",
   "metadata": {},
   "outputs": [
    {
     "data": {
      "text/plain": [
       "[10, 20, 25, 30, 40, 50, 70, 'Apples']"
      ]
     },
     "execution_count": 84,
     "metadata": {},
     "output_type": "execute_result"
    }
   ],
   "source": [
    "myList"
   ]
  },
  {
   "cell_type": "code",
   "execution_count": 85,
   "id": "02e3847e",
   "metadata": {},
   "outputs": [],
   "source": [
    "myList.remove(\"Apples\")"
   ]
  },
  {
   "cell_type": "code",
   "execution_count": 86,
   "id": "981a2e8f",
   "metadata": {},
   "outputs": [
    {
     "data": {
      "text/plain": [
       "[10, 20, 25, 30, 40, 50, 70]"
      ]
     },
     "execution_count": 86,
     "metadata": {},
     "output_type": "execute_result"
    }
   ],
   "source": [
    "myList"
   ]
  },
  {
   "cell_type": "code",
   "execution_count": 87,
   "id": "029f7457",
   "metadata": {},
   "outputs": [
    {
     "ename": "ValueError",
     "evalue": "list.remove(x): x not in list",
     "output_type": "error",
     "traceback": [
      "\u001b[0;31m---------------------------------------------------------------------------\u001b[0m",
      "\u001b[0;31mValueError\u001b[0m                                Traceback (most recent call last)",
      "\u001b[0;32m/var/folders/mc/6ky12ls54x347xnny8wjxk6r0000gn/T/ipykernel_1348/4029958807.py\u001b[0m in \u001b[0;36m<module>\u001b[0;34m\u001b[0m\n\u001b[0;32m----> 1\u001b[0;31m \u001b[0mmyList\u001b[0m\u001b[0;34m.\u001b[0m\u001b[0mremove\u001b[0m\u001b[0;34m(\u001b[0m\u001b[0;34m\"Mangoes\"\u001b[0m\u001b[0;34m)\u001b[0m\u001b[0;34m\u001b[0m\u001b[0;34m\u001b[0m\u001b[0m\n\u001b[0m",
      "\u001b[0;31mValueError\u001b[0m: list.remove(x): x not in list"
     ]
    }
   ],
   "source": [
    "myList.remove(\"Mangoes\")"
   ]
  },
  {
   "cell_type": "code",
   "execution_count": 89,
   "id": "86deec18",
   "metadata": {},
   "outputs": [
    {
     "data": {
      "text/plain": [
       "1"
      ]
     },
     "execution_count": 89,
     "metadata": {},
     "output_type": "execute_result"
    }
   ],
   "source": [
    "myList.count(25)"
   ]
  },
  {
   "cell_type": "code",
   "execution_count": 90,
   "id": "e5c2252e",
   "metadata": {},
   "outputs": [
    {
     "data": {
      "text/plain": [
       "0"
      ]
     },
     "execution_count": 90,
     "metadata": {},
     "output_type": "execute_result"
    }
   ],
   "source": [
    "myList.count(\"Mangoes\")"
   ]
  },
  {
   "cell_type": "code",
   "execution_count": 92,
   "id": "1e48ece2",
   "metadata": {},
   "outputs": [
    {
     "ename": "ValueError",
     "evalue": "'Mangoes' is not in list",
     "output_type": "error",
     "traceback": [
      "\u001b[0;31m---------------------------------------------------------------------------\u001b[0m",
      "\u001b[0;31mValueError\u001b[0m                                Traceback (most recent call last)",
      "\u001b[0;32m/var/folders/mc/6ky12ls54x347xnny8wjxk6r0000gn/T/ipykernel_1348/2397934523.py\u001b[0m in \u001b[0;36m<module>\u001b[0;34m\u001b[0m\n\u001b[0;32m----> 1\u001b[0;31m \u001b[0mmyList\u001b[0m\u001b[0;34m.\u001b[0m\u001b[0mindex\u001b[0m\u001b[0;34m(\u001b[0m\u001b[0;34m\"Mangoes\"\u001b[0m\u001b[0;34m)\u001b[0m\u001b[0;34m\u001b[0m\u001b[0;34m\u001b[0m\u001b[0m\n\u001b[0m",
      "\u001b[0;31mValueError\u001b[0m: 'Mangoes' is not in list"
     ]
    }
   ],
   "source": [
    "myList.index(\"Mangoes\")"
   ]
  },
  {
   "cell_type": "code",
   "execution_count": 93,
   "id": "0ecb05da",
   "metadata": {},
   "outputs": [
    {
     "data": {
      "text/plain": [
       "2"
      ]
     },
     "execution_count": 93,
     "metadata": {},
     "output_type": "execute_result"
    }
   ],
   "source": [
    "myList.index(25)"
   ]
  },
  {
   "cell_type": "code",
   "execution_count": 99,
   "id": "367c5c29",
   "metadata": {},
   "outputs": [],
   "source": [
    "### Live Assignment : Given a List, remove all negative elements from the list\n",
    "myList = [10,20,-11,30,50,-90,-80,7,6]"
   ]
  },
  {
   "cell_type": "code",
   "execution_count": 108,
   "id": "cb9a7c21",
   "metadata": {},
   "outputs": [],
   "source": [
    "output = []\n",
    "for val in myList:\n",
    "    if val >= 0:\n",
    "        output.append(val)\n",
    "\n",
    "myList = output"
   ]
  },
  {
   "cell_type": "code",
   "execution_count": 107,
   "id": "1232c89b",
   "metadata": {},
   "outputs": [
    {
     "data": {
      "text/plain": [
       "[10, 20, 30, 50, 7, 6]"
      ]
     },
     "execution_count": 107,
     "metadata": {},
     "output_type": "execute_result"
    }
   ],
   "source": [
    "myList"
   ]
  },
  {
   "cell_type": "markdown",
   "id": "8db9da54",
   "metadata": {},
   "source": [
    "## Few ways to search in the list"
   ]
  },
  {
   "cell_type": "code",
   "execution_count": 109,
   "id": "fc7de4ad",
   "metadata": {},
   "outputs": [
    {
     "name": "stdout",
     "output_type": "stream",
     "text": [
      "it is present\n"
     ]
    }
   ],
   "source": [
    "# Check if an element is there in list\n",
    "if 20 in myList:\n",
    "    print(\"it is present\")"
   ]
  },
  {
   "cell_type": "code",
   "execution_count": 111,
   "id": "e4c76f06",
   "metadata": {},
   "outputs": [
    {
     "name": "stdout",
     "output_type": "stream",
     "text": [
      "it is present\n"
     ]
    }
   ],
   "source": [
    "if myList.count(20)>=1:\n",
    "    print(\"it is present\")"
   ]
  },
  {
   "cell_type": "code",
   "execution_count": 123,
   "id": "482fd82c",
   "metadata": {},
   "outputs": [],
   "source": [
    "# algorithm to do it (Java/C++)\n",
    "def linear_search(myList,key):\n",
    "    for i in range(len(myList)):\n",
    "        if myList[i] == key:\n",
    "            return True\n",
    "    return False"
   ]
  },
  {
   "cell_type": "code",
   "execution_count": 124,
   "id": "102455a0",
   "metadata": {},
   "outputs": [
    {
     "data": {
      "text/plain": [
       "False"
      ]
     },
     "execution_count": 124,
     "metadata": {},
     "output_type": "execute_result"
    }
   ],
   "source": [
    "linear_search(myList, 21)"
   ]
  },
  {
   "cell_type": "code",
   "execution_count": 122,
   "id": "2d82b0dc",
   "metadata": {},
   "outputs": [
    {
     "data": {
      "text/plain": [
       "[10, 20, 30, 50, 7, 6]"
      ]
     },
     "execution_count": 122,
     "metadata": {},
     "output_type": "execute_result"
    }
   ],
   "source": [
    "myList"
   ]
  },
  {
   "cell_type": "markdown",
   "id": "7b2b8ff6",
   "metadata": {},
   "source": [
    "### Few ways to create the list"
   ]
  },
  {
   "cell_type": "code",
   "execution_count": 125,
   "id": "a4737cc5",
   "metadata": {},
   "outputs": [],
   "source": [
    "l = []"
   ]
  },
  {
   "cell_type": "code",
   "execution_count": 126,
   "id": "2de7f6ec",
   "metadata": {},
   "outputs": [
    {
     "name": "stdout",
     "output_type": "stream",
     "text": [
      "<class 'list'>\n"
     ]
    }
   ],
   "source": [
    "print(type(l))"
   ]
  },
  {
   "cell_type": "code",
   "execution_count": 127,
   "id": "8c32a81a",
   "metadata": {},
   "outputs": [],
   "source": [
    "l = list() #Constructor"
   ]
  },
  {
   "cell_type": "code",
   "execution_count": 128,
   "id": "b3124047",
   "metadata": {},
   "outputs": [
    {
     "name": "stdout",
     "output_type": "stream",
     "text": [
      "<class 'list'>\n"
     ]
    }
   ],
   "source": [
    "print(type(l))"
   ]
  },
  {
   "cell_type": "code",
   "execution_count": 129,
   "id": "26289a07",
   "metadata": {},
   "outputs": [],
   "source": [
    "l = list([1,2,3])\n",
    "# l = [1,2,3]"
   ]
  },
  {
   "cell_type": "code",
   "execution_count": 130,
   "id": "9881fd90",
   "metadata": {},
   "outputs": [
    {
     "data": {
      "text/plain": [
       "[1, 2, 3]"
      ]
     },
     "execution_count": 130,
     "metadata": {},
     "output_type": "execute_result"
    }
   ],
   "source": [
    "l"
   ]
  },
  {
   "cell_type": "code",
   "execution_count": 131,
   "id": "ad3d447c",
   "metadata": {},
   "outputs": [],
   "source": [
    "l = list(range(10))"
   ]
  },
  {
   "cell_type": "code",
   "execution_count": 140,
   "id": "0b9d9c63",
   "metadata": {},
   "outputs": [],
   "source": [
    "l = list(range(5,10))"
   ]
  },
  {
   "cell_type": "code",
   "execution_count": 142,
   "id": "3bc0baaa",
   "metadata": {},
   "outputs": [],
   "source": [
    "l = list(range(5,12,2))"
   ]
  },
  {
   "cell_type": "code",
   "execution_count": 143,
   "id": "2a1fcea7",
   "metadata": {},
   "outputs": [
    {
     "data": {
      "text/plain": [
       "[5, 7, 9, 11]"
      ]
     },
     "execution_count": 143,
     "metadata": {},
     "output_type": "execute_result"
    }
   ],
   "source": [
    "l"
   ]
  },
  {
   "cell_type": "code",
   "execution_count": 133,
   "id": "8c2243e0",
   "metadata": {},
   "outputs": [],
   "source": [
    "l = list(myList)"
   ]
  },
  {
   "cell_type": "code",
   "execution_count": 134,
   "id": "ea08d559",
   "metadata": {},
   "outputs": [
    {
     "data": {
      "text/plain": [
       "[10, 20, 30, 50, 7, 6]"
      ]
     },
     "execution_count": 134,
     "metadata": {},
     "output_type": "execute_result"
    }
   ],
   "source": [
    "l"
   ]
  },
  {
   "cell_type": "code",
   "execution_count": 135,
   "id": "b10fdf14",
   "metadata": {},
   "outputs": [
    {
     "data": {
      "text/plain": [
       "[10, 20, 30, 50, 7, 6]"
      ]
     },
     "execution_count": 135,
     "metadata": {},
     "output_type": "execute_result"
    }
   ],
   "source": [
    "myList"
   ]
  },
  {
   "cell_type": "code",
   "execution_count": 136,
   "id": "dc095347",
   "metadata": {},
   "outputs": [],
   "source": [
    "# changed the copy, doesnt affect the original\n",
    "l[0]  = 100"
   ]
  },
  {
   "cell_type": "code",
   "execution_count": 138,
   "id": "d644e532",
   "metadata": {},
   "outputs": [
    {
     "data": {
      "text/plain": [
       "[10, 20, 30, 50, 7, 6]"
      ]
     },
     "execution_count": 138,
     "metadata": {},
     "output_type": "execute_result"
    }
   ],
   "source": [
    "myList"
   ]
  },
  {
   "cell_type": "code",
   "execution_count": 139,
   "id": "350ea6f9",
   "metadata": {},
   "outputs": [
    {
     "data": {
      "text/plain": [
       "[100, 20, 30, 50, 7, 6]"
      ]
     },
     "execution_count": 139,
     "metadata": {},
     "output_type": "execute_result"
    }
   ],
   "source": [
    "l"
   ]
  },
  {
   "cell_type": "code",
   "execution_count": 153,
   "id": "2067b4de",
   "metadata": {},
   "outputs": [],
   "source": [
    "fruits = [\"apples\",\"mangoes\",\"guaves\"]\n",
    "juices = fruits #both juices and fruits point to the same object"
   ]
  },
  {
   "cell_type": "code",
   "execution_count": 145,
   "id": "cd2fda09",
   "metadata": {},
   "outputs": [
    {
     "name": "stdout",
     "output_type": "stream",
     "text": [
      "['apples', 'mangoes', 'guaves']\n",
      "['apples', 'mangoes', 'guaves']\n"
     ]
    }
   ],
   "source": [
    "print(fruits)\n",
    "print(juices)"
   ]
  },
  {
   "cell_type": "code",
   "execution_count": 146,
   "id": "21a7322d",
   "metadata": {},
   "outputs": [
    {
     "name": "stdout",
     "output_type": "stream",
     "text": [
      "['bananas', 'mangoes', 'guaves']\n"
     ]
    }
   ],
   "source": [
    "juices[0] = \"bananas\"\n",
    "print(juices)"
   ]
  },
  {
   "cell_type": "code",
   "execution_count": 147,
   "id": "301bbf7b",
   "metadata": {},
   "outputs": [
    {
     "data": {
      "text/plain": [
       "['bananas', 'mangoes', 'guaves']"
      ]
     },
     "execution_count": 147,
     "metadata": {},
     "output_type": "execute_result"
    }
   ],
   "source": [
    "fruits"
   ]
  },
  {
   "cell_type": "code",
   "execution_count": 148,
   "id": "a3a05f44",
   "metadata": {},
   "outputs": [],
   "source": [
    "# Creating a copy\n",
    "fruits = [\"apples\",\"mangoes\",\"guaves\"]\n",
    "juices = fruits.copy()"
   ]
  },
  {
   "cell_type": "code",
   "execution_count": 149,
   "id": "516a7f46",
   "metadata": {},
   "outputs": [
    {
     "name": "stdout",
     "output_type": "stream",
     "text": [
      "['apples', 'mangoes', 'guaves']\n",
      "['bananas', 'mangoes', 'guaves']\n"
     ]
    }
   ],
   "source": [
    "juices[0] = \"bananas\"\n",
    "print(fruits)\n",
    "print(juices)"
   ]
  },
  {
   "cell_type": "code",
   "execution_count": 158,
   "id": "0616a7e0",
   "metadata": {},
   "outputs": [],
   "source": [
    "shakes = list(fruits) #create a new object \n",
    "shakes[0] = \"oreo\" #create new oreo object"
   ]
  },
  {
   "cell_type": "code",
   "execution_count": 152,
   "id": "bbaea7f3",
   "metadata": {},
   "outputs": [
    {
     "name": "stdout",
     "output_type": "stream",
     "text": [
      "['apples', 'mangoes', 'guaves']\n",
      "['oreo', 'mangoes', 'guaves']\n"
     ]
    }
   ],
   "source": [
    "print(fruits)\n",
    "print(shakes)"
   ]
  },
  {
   "cell_type": "code",
   "execution_count": 154,
   "id": "270f9b94",
   "metadata": {},
   "outputs": [
    {
     "data": {
      "text/plain": [
       "4455243312"
      ]
     },
     "execution_count": 154,
     "metadata": {},
     "output_type": "execute_result"
    }
   ],
   "source": [
    "id(fruits[1])"
   ]
  },
  {
   "cell_type": "code",
   "execution_count": 155,
   "id": "628241db",
   "metadata": {},
   "outputs": [
    {
     "data": {
      "text/plain": [
       "4455243312"
      ]
     },
     "execution_count": 155,
     "metadata": {},
     "output_type": "execute_result"
    }
   ],
   "source": [
    "id(shakes[1])"
   ]
  },
  {
   "cell_type": "code",
   "execution_count": 156,
   "id": "b0d4fe1f",
   "metadata": {},
   "outputs": [
    {
     "data": {
      "text/plain": [
       "4457014848"
      ]
     },
     "execution_count": 156,
     "metadata": {},
     "output_type": "execute_result"
    }
   ],
   "source": [
    "id(fruits)"
   ]
  },
  {
   "cell_type": "code",
   "execution_count": 157,
   "id": "23eb34ce",
   "metadata": {},
   "outputs": [
    {
     "data": {
      "text/plain": [
       "4457902144"
      ]
     },
     "execution_count": 157,
     "metadata": {},
     "output_type": "execute_result"
    }
   ],
   "source": [
    "id(shakes)"
   ]
  },
  {
   "cell_type": "code",
   "execution_count": 171,
   "id": "ff57f232",
   "metadata": {},
   "outputs": [],
   "source": [
    "# Shallow Copy\n",
    "myList = [1,2,[1,2,3]]\n",
    "myListCopy = myList.copy() #Shallow Copy"
   ]
  },
  {
   "cell_type": "code",
   "execution_count": 5,
   "id": "29b4cad7",
   "metadata": {},
   "outputs": [
    {
     "name": "stdout",
     "output_type": "stream",
     "text": [
      "4387628480\n",
      "4387627456\n"
     ]
    }
   ],
   "source": [
    "a = [1,2,[1,2,3]]\n",
    "b = []\n",
    "\n",
    "#shallow copy\n",
    "for x in a:\n",
    "    b.append(x)\n",
    "print(id(a))\n",
    "print(id(b))"
   ]
  },
  {
   "cell_type": "code",
   "execution_count": 6,
   "id": "7f35cdbb",
   "metadata": {},
   "outputs": [
    {
     "name": "stdout",
     "output_type": "stream",
     "text": [
      "4387628224\n",
      "4387628224\n"
     ]
    }
   ],
   "source": [
    "print(id(a[2]))\n",
    "print(id(b[2]))"
   ]
  },
  {
   "cell_type": "code",
   "execution_count": null,
   "id": "a4a23c2b",
   "metadata": {},
   "outputs": [],
   "source": [
    "# deep copy will copy mutable objects\n",
    "\n",
    "\n"
   ]
  },
  {
   "cell_type": "markdown",
   "id": "b991766b",
   "metadata": {},
   "source": [
    "# Explain ....!"
   ]
  },
  {
   "cell_type": "code",
   "execution_count": 176,
   "id": "9d688d64",
   "metadata": {},
   "outputs": [
    {
     "data": {
      "text/plain": [
       "[1, 20, [1, 11, 3]]"
      ]
     },
     "execution_count": 176,
     "metadata": {},
     "output_type": "execute_result"
    }
   ],
   "source": [
    "myListCopy[1] = 20 # actually creating a new object\n",
    "myListCopy[2][1] = 11 #updating a existing a object\n",
    "myListCopy"
   ]
  },
  {
   "cell_type": "code",
   "execution_count": 175,
   "id": "94b465a5",
   "metadata": {},
   "outputs": [
    {
     "data": {
      "text/plain": [
       "[1, 2, [1, 11, 3]]"
      ]
     },
     "execution_count": 175,
     "metadata": {},
     "output_type": "execute_result"
    }
   ],
   "source": [
    "myList"
   ]
  },
  {
   "cell_type": "markdown",
   "id": "c7f17c41",
   "metadata": {},
   "source": [
    "### Deep Copy"
   ]
  },
  {
   "cell_type": "code",
   "execution_count": 177,
   "id": "135e98d4",
   "metadata": {},
   "outputs": [],
   "source": [
    "import copy"
   ]
  },
  {
   "cell_type": "code",
   "execution_count": 178,
   "id": "3af5d89f",
   "metadata": {},
   "outputs": [],
   "source": [
    "someList = copy.deepcopy(myList)"
   ]
  },
  {
   "cell_type": "code",
   "execution_count": 179,
   "id": "7490469c",
   "metadata": {},
   "outputs": [
    {
     "data": {
      "text/plain": [
       "[1, 2, [1, 11, 3]]"
      ]
     },
     "execution_count": 179,
     "metadata": {},
     "output_type": "execute_result"
    }
   ],
   "source": [
    "myList"
   ]
  },
  {
   "cell_type": "code",
   "execution_count": 181,
   "id": "68068175",
   "metadata": {},
   "outputs": [
    {
     "data": {
      "text/plain": [
       "[10, 2, [100, 11, 3]]"
      ]
     },
     "execution_count": 181,
     "metadata": {},
     "output_type": "execute_result"
    }
   ],
   "source": [
    "myList[0] = 10\n",
    "myList[2][0] = 100\n",
    "myList"
   ]
  },
  {
   "cell_type": "code",
   "execution_count": 182,
   "id": "dc031e6e",
   "metadata": {},
   "outputs": [
    {
     "data": {
      "text/plain": [
       "[1, 2, [1, 11, 3]]"
      ]
     },
     "execution_count": 182,
     "metadata": {},
     "output_type": "execute_result"
    }
   ],
   "source": [
    "someList"
   ]
  },
  {
   "cell_type": "markdown",
   "id": "4ee1fc82",
   "metadata": {},
   "source": [
    "### List Comprehension"
   ]
  },
  {
   "cell_type": "code",
   "execution_count": 186,
   "id": "7e6e7108",
   "metadata": {},
   "outputs": [],
   "source": [
    "numbers = [1,2,-4,5,-6,7,8]\n",
    "\n",
    "positives = [x for x in numbers if x >=0]"
   ]
  },
  {
   "cell_type": "code",
   "execution_count": 188,
   "id": "504dfff2",
   "metadata": {},
   "outputs": [
    {
     "data": {
      "text/plain": [
       "[1, 2, 5, 7, 8]"
      ]
     },
     "execution_count": 188,
     "metadata": {},
     "output_type": "execute_result"
    }
   ],
   "source": [
    "positives"
   ]
  },
  {
   "cell_type": "code",
   "execution_count": 189,
   "id": "8427ca69",
   "metadata": {},
   "outputs": [],
   "source": [
    "negatives = [x for x in numbers if x < 0]"
   ]
  },
  {
   "cell_type": "code",
   "execution_count": 190,
   "id": "1974166f",
   "metadata": {},
   "outputs": [
    {
     "data": {
      "text/plain": [
       "[-4, -6]"
      ]
     },
     "execution_count": 190,
     "metadata": {},
     "output_type": "execute_result"
    }
   ],
   "source": [
    "negatives"
   ]
  },
  {
   "cell_type": "markdown",
   "id": "3de73d9a",
   "metadata": {},
   "source": [
    "# Inputs"
   ]
  },
  {
   "cell_type": "code",
   "execution_count": 191,
   "id": "a4153c3e",
   "metadata": {},
   "outputs": [
    {
     "name": "stdout",
     "output_type": "stream",
     "text": [
      "5\n",
      "10\n",
      "20\n",
      "30\n",
      "40\n",
      "50\n"
     ]
    }
   ],
   "source": [
    "n = int(input())\n",
    "l = []\n",
    "for i in range(n):\n",
    "    no = int(input())\n",
    "    l.append(no)"
   ]
  },
  {
   "cell_type": "code",
   "execution_count": 192,
   "id": "a01d04d1",
   "metadata": {},
   "outputs": [
    {
     "data": {
      "text/plain": [
       "[10, 20, 30, 40, 50]"
      ]
     },
     "execution_count": 192,
     "metadata": {},
     "output_type": "execute_result"
    }
   ],
   "source": [
    "l"
   ]
  },
  {
   "cell_type": "markdown",
   "id": "3d26116d",
   "metadata": {},
   "source": [
    "# Possible that you want read everything from a single line?"
   ]
  },
  {
   "cell_type": "code",
   "execution_count": 193,
   "id": "a9c5e6f1",
   "metadata": {},
   "outputs": [
    {
     "name": "stdout",
     "output_type": "stream",
     "text": [
      "10 20 30 40\n"
     ]
    }
   ],
   "source": [
    "l = input()"
   ]
  },
  {
   "cell_type": "code",
   "execution_count": 194,
   "id": "5ffaebe5",
   "metadata": {},
   "outputs": [
    {
     "data": {
      "text/plain": [
       "'10 20 30 40'"
      ]
     },
     "execution_count": 194,
     "metadata": {},
     "output_type": "execute_result"
    }
   ],
   "source": [
    "l"
   ]
  },
  {
   "cell_type": "code",
   "execution_count": 195,
   "id": "20cb5131",
   "metadata": {},
   "outputs": [
    {
     "data": {
      "text/plain": [
       "str"
      ]
     },
     "execution_count": 195,
     "metadata": {},
     "output_type": "execute_result"
    }
   ],
   "source": [
    "type(l)"
   ]
  },
  {
   "cell_type": "code",
   "execution_count": 196,
   "id": "624c9011",
   "metadata": {},
   "outputs": [
    {
     "data": {
      "text/plain": [
       "['10', '20', '30', '40']"
      ]
     },
     "execution_count": 196,
     "metadata": {},
     "output_type": "execute_result"
    }
   ],
   "source": [
    "l.split()"
   ]
  },
  {
   "cell_type": "code",
   "execution_count": 198,
   "id": "fede175b",
   "metadata": {},
   "outputs": [
    {
     "name": "stdout",
     "output_type": "stream",
     "text": [
      "10 20 30 40\n"
     ]
    }
   ],
   "source": [
    "l = [int(x) for x in input().split()]"
   ]
  },
  {
   "cell_type": "code",
   "execution_count": 208,
   "id": "194a16c6",
   "metadata": {},
   "outputs": [
    {
     "data": {
      "text/plain": [
       "[10, 20, 30, 40]"
      ]
     },
     "execution_count": 208,
     "metadata": {},
     "output_type": "execute_result"
    }
   ],
   "source": [
    "l"
   ]
  },
  {
   "cell_type": "code",
   "execution_count": 202,
   "id": "1a521082",
   "metadata": {},
   "outputs": [
    {
     "name": "stdout",
     "output_type": "stream",
     "text": [
      "10 20 30 40\n"
     ]
    }
   ],
   "source": [
    "x = input()"
   ]
  },
  {
   "cell_type": "code",
   "execution_count": 203,
   "id": "c4b81d82",
   "metadata": {},
   "outputs": [
    {
     "name": "stdout",
     "output_type": "stream",
     "text": [
      "10 20 30 40\n"
     ]
    }
   ],
   "source": [
    "print(x)"
   ]
  },
  {
   "cell_type": "code",
   "execution_count": 204,
   "id": "0f9adefc",
   "metadata": {},
   "outputs": [
    {
     "data": {
      "text/plain": [
       "str"
      ]
     },
     "execution_count": 204,
     "metadata": {},
     "output_type": "execute_result"
    }
   ],
   "source": [
    "type(x)"
   ]
  },
  {
   "cell_type": "code",
   "execution_count": 205,
   "id": "14192cff",
   "metadata": {},
   "outputs": [
    {
     "data": {
      "text/plain": [
       "['10', '20', '30', '40']"
      ]
     },
     "execution_count": 205,
     "metadata": {},
     "output_type": "execute_result"
    }
   ],
   "source": [
    "x.split()"
   ]
  },
  {
   "cell_type": "code",
   "execution_count": 207,
   "id": "14a92844",
   "metadata": {},
   "outputs": [
    {
     "data": {
      "text/plain": [
       "[10, 20, 30, 40]"
      ]
     },
     "execution_count": 207,
     "metadata": {},
     "output_type": "execute_result"
    }
   ],
   "source": [
    "l = []\n",
    "for val in x.split():\n",
    "    l.append(int(val))\n",
    "\n",
    "l"
   ]
  },
  {
   "cell_type": "code",
   "execution_count": 206,
   "id": "745180f0",
   "metadata": {},
   "outputs": [
    {
     "data": {
      "text/plain": [
       "['Hello', 'world', 'how', 'are', 'you']"
      ]
     },
     "execution_count": 206,
     "metadata": {},
     "output_type": "execute_result"
    }
   ],
   "source": [
    "s = \"Hello world how are you\"\n",
    "s.split()"
   ]
  },
  {
   "cell_type": "code",
   "execution_count": 210,
   "id": "e8bc33d6",
   "metadata": {},
   "outputs": [
    {
     "name": "stdout",
     "output_type": "stream",
     "text": [
      "10 20 3 4\n",
      "[1000, 8000, 27, 64]\n"
     ]
    }
   ],
   "source": [
    "# Regular Method\n",
    "numbers = input().split()\n",
    "cubes = []\n",
    "for x in numbers:\n",
    "    cubes.append(int(x)**3)\n",
    "print(cubes)"
   ]
  },
  {
   "cell_type": "code",
   "execution_count": 213,
   "id": "1822ca89",
   "metadata": {},
   "outputs": [
    {
     "name": "stdout",
     "output_type": "stream",
     "text": [
      "10 20 3 4\n",
      "[1000, 8000, 27, 64]\n"
     ]
    }
   ],
   "source": [
    "# List Comprehension\n",
    "cubes = [int(x)**3 for x in input().split()]\n",
    "print(cubes)"
   ]
  },
  {
   "cell_type": "code",
   "execution_count": 214,
   "id": "9f7adc4f",
   "metadata": {},
   "outputs": [
    {
     "name": "stdout",
     "output_type": "stream",
     "text": [
      "10 11 13 15 16 18\n"
     ]
    }
   ],
   "source": [
    "# Write N inputs, and create a list of only even numbers?\n",
    "\n",
    "evens = [int(x) for x in input().split() if int(x)%2==0]\n"
   ]
  },
  {
   "cell_type": "code",
   "execution_count": 215,
   "id": "d95925e6",
   "metadata": {},
   "outputs": [
    {
     "data": {
      "text/plain": [
       "[10, 16, 18]"
      ]
     },
     "execution_count": 215,
     "metadata": {},
     "output_type": "execute_result"
    }
   ],
   "source": [
    "evens"
   ]
  },
  {
   "cell_type": "code",
   "execution_count": null,
   "id": "2de024e8",
   "metadata": {},
   "outputs": [],
   "source": [
    "# last (sort)"
   ]
  },
  {
   "cell_type": "code",
   "execution_count": 216,
   "id": "a7442db5",
   "metadata": {},
   "outputs": [],
   "source": [
    "numbers = [11,10,5,4,1,3,2]"
   ]
  },
  {
   "cell_type": "code",
   "execution_count": 217,
   "id": "d1197290",
   "metadata": {},
   "outputs": [],
   "source": [
    "numbers.sort() #sorts the current list"
   ]
  },
  {
   "cell_type": "code",
   "execution_count": 218,
   "id": "3357f45f",
   "metadata": {},
   "outputs": [
    {
     "data": {
      "text/plain": [
       "[1, 2, 3, 4, 5, 10, 11]"
      ]
     },
     "execution_count": 218,
     "metadata": {},
     "output_type": "execute_result"
    }
   ],
   "source": [
    "numbers"
   ]
  },
  {
   "cell_type": "code",
   "execution_count": 219,
   "id": "985fb128",
   "metadata": {},
   "outputs": [
    {
     "data": {
      "text/plain": [
       "[70, 90, 100, 120]"
      ]
     },
     "execution_count": 219,
     "metadata": {},
     "output_type": "execute_result"
    }
   ],
   "source": [
    "l = [100,90,70,120]\n",
    "sorted(l) #returns a new list"
   ]
  },
  {
   "cell_type": "code",
   "execution_count": 221,
   "id": "562bd312",
   "metadata": {},
   "outputs": [],
   "source": [
    "l = sorted(l)"
   ]
  },
  {
   "cell_type": "code",
   "execution_count": 222,
   "id": "8f4a56d5",
   "metadata": {},
   "outputs": [
    {
     "data": {
      "text/plain": [
       "[70, 90, 100, 120]"
      ]
     },
     "execution_count": 222,
     "metadata": {},
     "output_type": "execute_result"
    }
   ],
   "source": [
    "l"
   ]
  },
  {
   "cell_type": "code",
   "execution_count": 223,
   "id": "cb4f9e65",
   "metadata": {},
   "outputs": [],
   "source": [
    "l.reverse()"
   ]
  },
  {
   "cell_type": "code",
   "execution_count": 224,
   "id": "5a215c74",
   "metadata": {},
   "outputs": [
    {
     "data": {
      "text/plain": [
       "[120, 100, 90, 70]"
      ]
     },
     "execution_count": 224,
     "metadata": {},
     "output_type": "execute_result"
    }
   ],
   "source": [
    "l"
   ]
  },
  {
   "cell_type": "code",
   "execution_count": 225,
   "id": "e579a8c9",
   "metadata": {},
   "outputs": [],
   "source": [
    "l.sort?"
   ]
  },
  {
   "cell_type": "code",
   "execution_count": 226,
   "id": "d84ada82",
   "metadata": {},
   "outputs": [
    {
     "data": {
      "text/plain": [
       "4464183424"
      ]
     },
     "execution_count": 226,
     "metadata": {},
     "output_type": "execute_result"
    }
   ],
   "source": [
    "id(l)"
   ]
  },
  {
   "cell_type": "code",
   "execution_count": 227,
   "id": "0f626392",
   "metadata": {},
   "outputs": [
    {
     "data": {
      "text/plain": [
       "4459196096"
      ]
     },
     "execution_count": 227,
     "metadata": {},
     "output_type": "execute_result"
    }
   ],
   "source": [
    "id(sorted(l))"
   ]
  },
  {
   "cell_type": "code",
   "execution_count": null,
   "id": "054c0162",
   "metadata": {},
   "outputs": [],
   "source": []
  }
 ],
 "metadata": {
  "kernelspec": {
   "display_name": "Python 3 (ipykernel)",
   "language": "python",
   "name": "python3"
  },
  "language_info": {
   "codemirror_mode": {
    "name": "ipython",
    "version": 3
   },
   "file_extension": ".py",
   "mimetype": "text/x-python",
   "name": "python",
   "nbconvert_exporter": "python",
   "pygments_lexer": "ipython3",
   "version": "3.8.2"
  }
 },
 "nbformat": 4,
 "nbformat_minor": 5
}

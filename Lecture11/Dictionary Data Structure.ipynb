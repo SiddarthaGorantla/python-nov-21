{
 "cells": [
  {
   "cell_type": "markdown",
   "id": "3d0d8a10",
   "metadata": {},
   "source": [
    "Menu\n",
    "======\n",
    "```\n",
    "Pizza - 400\n",
    "Garlic Bread - 200\n",
    "Drink - 100\n",
    "Mojito - 80\n",
    "```"
   ]
  },
  {
   "cell_type": "markdown",
   "id": "aa062131",
   "metadata": {},
   "source": [
    "Dictionary\n",
    "==========\n",
    "- stores data in key-value pairs\n",
    "- unordered\n",
    "- unindexable\n",
    "- acess the values through the keys"
   ]
  },
  {
   "cell_type": "code",
   "execution_count": 7,
   "id": "cbe536f9",
   "metadata": {},
   "outputs": [],
   "source": [
    "# slower \n",
    "# menu_list = [(\"pizza\",80),(\"drink\",100), .... ]"
   ]
  },
  {
   "cell_type": "code",
   "execution_count": 4,
   "id": "ffac13ce",
   "metadata": {},
   "outputs": [],
   "source": [
    "menu = {\n",
    "    \"pizza\" : 80,\n",
    "    \"drink\" : 100,\n",
    "    \"garlic break\" : 150,\n",
    "    \"burger\" : 90   \n",
    "}"
   ]
  },
  {
   "cell_type": "code",
   "execution_count": 8,
   "id": "7ec09fe4",
   "metadata": {},
   "outputs": [
    {
     "data": {
      "text/plain": [
       "80"
      ]
     },
     "execution_count": 8,
     "metadata": {},
     "output_type": "execute_result"
    }
   ],
   "source": [
    "menu[\"pizza\"]"
   ]
  },
  {
   "cell_type": "code",
   "execution_count": 9,
   "id": "24bc96f4",
   "metadata": {},
   "outputs": [
    {
     "data": {
      "text/plain": [
       "dict"
      ]
     },
     "execution_count": 9,
     "metadata": {},
     "output_type": "execute_result"
    }
   ],
   "source": [
    "type(menu)"
   ]
  },
  {
   "cell_type": "code",
   "execution_count": 10,
   "id": "6fad8e67",
   "metadata": {},
   "outputs": [
    {
     "ename": "KeyError",
     "evalue": "'dosa'",
     "output_type": "error",
     "traceback": [
      "\u001b[0;31m---------------------------------------------------------------------------\u001b[0m",
      "\u001b[0;31mKeyError\u001b[0m                                  Traceback (most recent call last)",
      "\u001b[0;32m/var/folders/mc/6ky12ls54x347xnny8wjxk6r0000gn/T/ipykernel_6673/1410600944.py\u001b[0m in \u001b[0;36m<module>\u001b[0;34m\u001b[0m\n\u001b[0;32m----> 1\u001b[0;31m \u001b[0mmenu\u001b[0m\u001b[0;34m[\u001b[0m\u001b[0;34m\"dosa\"\u001b[0m\u001b[0;34m]\u001b[0m\u001b[0;34m\u001b[0m\u001b[0;34m\u001b[0m\u001b[0m\n\u001b[0m",
      "\u001b[0;31mKeyError\u001b[0m: 'dosa'"
     ]
    }
   ],
   "source": [
    "menu[\"dosa\"]"
   ]
  },
  {
   "cell_type": "markdown",
   "id": "68dddf98",
   "metadata": {},
   "source": [
    "# Search"
   ]
  },
  {
   "cell_type": "code",
   "execution_count": 13,
   "id": "639b23a3",
   "metadata": {},
   "outputs": [
    {
     "name": "stdout",
     "output_type": "stream",
     "text": [
      "None\n"
     ]
    }
   ],
   "source": [
    "print(menu.get(\"dosa\"))"
   ]
  },
  {
   "cell_type": "code",
   "execution_count": 14,
   "id": "3ba8f18c",
   "metadata": {},
   "outputs": [
    {
     "data": {
      "text/plain": [
       "'not available'"
      ]
     },
     "execution_count": 14,
     "metadata": {},
     "output_type": "execute_result"
    }
   ],
   "source": [
    "menu.get(\"dosa\",\"not available\")"
   ]
  },
  {
   "cell_type": "code",
   "execution_count": 15,
   "id": "04ea4dde",
   "metadata": {},
   "outputs": [
    {
     "data": {
      "text/plain": [
       "80"
      ]
     },
     "execution_count": 15,
     "metadata": {},
     "output_type": "execute_result"
    }
   ],
   "source": [
    "menu.get(\"pizza\",\"not available\")"
   ]
  },
  {
   "cell_type": "code",
   "execution_count": 16,
   "id": "9088eb84",
   "metadata": {},
   "outputs": [
    {
     "data": {
      "text/plain": [
       "'not available'"
      ]
     },
     "execution_count": 16,
     "metadata": {},
     "output_type": "execute_result"
    }
   ],
   "source": [
    "menu.get(\"garlic pizza\",\"not available\")"
   ]
  },
  {
   "cell_type": "markdown",
   "id": "53fe98b1",
   "metadata": {},
   "source": [
    "# Update"
   ]
  },
  {
   "cell_type": "code",
   "execution_count": 17,
   "id": "0a12edd9",
   "metadata": {},
   "outputs": [],
   "source": [
    "menu[\"pizza\"] = 500"
   ]
  },
  {
   "cell_type": "code",
   "execution_count": 18,
   "id": "548f48e6",
   "metadata": {},
   "outputs": [
    {
     "data": {
      "text/plain": [
       "{'pizza': 500, 'drink': 100, 'garlic break': 150, 'burger': 90}"
      ]
     },
     "execution_count": 18,
     "metadata": {},
     "output_type": "execute_result"
    }
   ],
   "source": [
    "menu"
   ]
  },
  {
   "cell_type": "code",
   "execution_count": 19,
   "id": "ebcdc860",
   "metadata": {},
   "outputs": [
    {
     "data": {
      "text/plain": [
       "500"
      ]
     },
     "execution_count": 19,
     "metadata": {},
     "output_type": "execute_result"
    }
   ],
   "source": [
    "menu.get(\"pizza\")"
   ]
  },
  {
   "cell_type": "markdown",
   "id": "698a2b81",
   "metadata": {},
   "source": [
    "## Insert"
   ]
  },
  {
   "cell_type": "code",
   "execution_count": 20,
   "id": "5fe52b8d",
   "metadata": {},
   "outputs": [],
   "source": [
    "menu[\"pineapple pizza\"] = 600"
   ]
  },
  {
   "cell_type": "code",
   "execution_count": 21,
   "id": "63517c8c",
   "metadata": {},
   "outputs": [
    {
     "data": {
      "text/plain": [
       "{'pizza': 500,\n",
       " 'drink': 100,\n",
       " 'garlic break': 150,\n",
       " 'burger': 90,\n",
       " 'pineapple pizza': 600}"
      ]
     },
     "execution_count": 21,
     "metadata": {},
     "output_type": "execute_result"
    }
   ],
   "source": [
    "menu"
   ]
  },
  {
   "cell_type": "code",
   "execution_count": 22,
   "id": "7dee3fca",
   "metadata": {},
   "outputs": [],
   "source": [
    "menu[100] = \"noodles\""
   ]
  },
  {
   "cell_type": "code",
   "execution_count": 23,
   "id": "a96f0c91",
   "metadata": {},
   "outputs": [
    {
     "data": {
      "text/plain": [
       "{'pizza': 500,\n",
       " 'drink': 100,\n",
       " 'garlic break': 150,\n",
       " 'burger': 90,\n",
       " 'pineapple pizza': 600,\n",
       " 100: 'noodles'}"
      ]
     },
     "execution_count": 23,
     "metadata": {},
     "output_type": "execute_result"
    }
   ],
   "source": [
    "menu"
   ]
  },
  {
   "cell_type": "markdown",
   "id": "747391b2",
   "metadata": {},
   "source": [
    "## Hashing"
   ]
  },
  {
   "cell_type": "code",
   "execution_count": 24,
   "id": "2de84b59",
   "metadata": {},
   "outputs": [
    {
     "data": {
      "text/plain": [
       "2425041383788291612"
      ]
     },
     "execution_count": 24,
     "metadata": {},
     "output_type": "execute_result"
    }
   ],
   "source": [
    "hash(\"burger\")"
   ]
  },
  {
   "cell_type": "code",
   "execution_count": 28,
   "id": "005bf9c3",
   "metadata": {},
   "outputs": [
    {
     "data": {
      "text/plain": [
       "2425041383788291612"
      ]
     },
     "execution_count": 28,
     "metadata": {},
     "output_type": "execute_result"
    }
   ],
   "source": [
    "hash(\"burger\")"
   ]
  },
  {
   "cell_type": "code",
   "execution_count": 25,
   "id": "dc6417f2",
   "metadata": {},
   "outputs": [
    {
     "data": {
      "text/plain": [
       "100"
      ]
     },
     "execution_count": 25,
     "metadata": {},
     "output_type": "execute_result"
    }
   ],
   "source": [
    "hash(100)"
   ]
  },
  {
   "cell_type": "code",
   "execution_count": 26,
   "id": "edd16540",
   "metadata": {},
   "outputs": [
    {
     "data": {
      "text/plain": [
       "19912"
      ]
     },
     "execution_count": 26,
     "metadata": {},
     "output_type": "execute_result"
    }
   ],
   "source": [
    "hash(19912)"
   ]
  },
  {
   "cell_type": "code",
   "execution_count": 27,
   "id": "b6ea70de",
   "metadata": {},
   "outputs": [
    {
     "ename": "TypeError",
     "evalue": "unhashable type: 'list'",
     "output_type": "error",
     "traceback": [
      "\u001b[0;31m---------------------------------------------------------------------------\u001b[0m",
      "\u001b[0;31mTypeError\u001b[0m                                 Traceback (most recent call last)",
      "\u001b[0;32m/var/folders/mc/6ky12ls54x347xnny8wjxk6r0000gn/T/ipykernel_6673/2302361394.py\u001b[0m in \u001b[0;36m<module>\u001b[0;34m\u001b[0m\n\u001b[0;32m----> 1\u001b[0;31m \u001b[0mhash\u001b[0m\u001b[0;34m(\u001b[0m\u001b[0;34m[\u001b[0m\u001b[0;36m1\u001b[0m\u001b[0;34m,\u001b[0m\u001b[0;36m2\u001b[0m\u001b[0;34m,\u001b[0m\u001b[0;36m3\u001b[0m\u001b[0;34m]\u001b[0m\u001b[0;34m)\u001b[0m\u001b[0;34m\u001b[0m\u001b[0;34m\u001b[0m\u001b[0m\n\u001b[0m",
      "\u001b[0;31mTypeError\u001b[0m: unhashable type: 'list'"
     ]
    }
   ],
   "source": [
    "hash([1,2,3])"
   ]
  },
  {
   "cell_type": "markdown",
   "id": "8ff558a1",
   "metadata": {},
   "source": [
    "## Remove"
   ]
  },
  {
   "cell_type": "code",
   "execution_count": 33,
   "id": "94a02136",
   "metadata": {},
   "outputs": [
    {
     "data": {
      "text/plain": [
       "[('pizza', 500),\n",
       " ('drink', 100),\n",
       " ('garlic break', 150),\n",
       " ('burger', 90),\n",
       " ('pineapple pizza', 600),\n",
       " (100, 'noodles')]"
      ]
     },
     "execution_count": 33,
     "metadata": {},
     "output_type": "execute_result"
    }
   ],
   "source": [
    "list(menu.items())"
   ]
  },
  {
   "cell_type": "code",
   "execution_count": 34,
   "id": "6bc4e3b0",
   "metadata": {},
   "outputs": [
    {
     "data": {
      "text/plain": [
       "['pizza', 'drink', 'garlic break', 'burger', 'pineapple pizza', 100]"
      ]
     },
     "execution_count": 34,
     "metadata": {},
     "output_type": "execute_result"
    }
   ],
   "source": [
    "list(menu.keys())"
   ]
  },
  {
   "cell_type": "code",
   "execution_count": 35,
   "id": "c7d58a8f",
   "metadata": {},
   "outputs": [
    {
     "data": {
      "text/plain": [
       "[500, 100, 150, 90, 600, 'noodles']"
      ]
     },
     "execution_count": 35,
     "metadata": {},
     "output_type": "execute_result"
    }
   ],
   "source": [
    "list(menu.values())"
   ]
  },
  {
   "cell_type": "code",
   "execution_count": 36,
   "id": "22f6168b",
   "metadata": {},
   "outputs": [
    {
     "data": {
      "text/plain": [
       "{'pizza': 500,\n",
       " 'drink': 100,\n",
       " 'garlic break': 150,\n",
       " 'burger': 90,\n",
       " 'pineapple pizza': 600,\n",
       " 100: 'noodles'}"
      ]
     },
     "execution_count": 36,
     "metadata": {},
     "output_type": "execute_result"
    }
   ],
   "source": [
    "menu"
   ]
  },
  {
   "cell_type": "code",
   "execution_count": 37,
   "id": "d3986069",
   "metadata": {},
   "outputs": [],
   "source": [
    "del menu['pizza']"
   ]
  },
  {
   "cell_type": "code",
   "execution_count": 38,
   "id": "7d53e49f",
   "metadata": {},
   "outputs": [
    {
     "data": {
      "text/plain": [
       "{'drink': 100,\n",
       " 'garlic break': 150,\n",
       " 'burger': 90,\n",
       " 'pineapple pizza': 600,\n",
       " 100: 'noodles'}"
      ]
     },
     "execution_count": 38,
     "metadata": {},
     "output_type": "execute_result"
    }
   ],
   "source": [
    "menu"
   ]
  },
  {
   "cell_type": "markdown",
   "id": "28d3b58f",
   "metadata": {},
   "source": [
    "# Nested Dictionary"
   ]
  },
  {
   "cell_type": "code",
   "execution_count": 42,
   "id": "cc25d692",
   "metadata": {},
   "outputs": [],
   "source": [
    "menu = {\n",
    "    \"pizza\" : {\"cheeseburst\":600, \"sweetcorn\":400},\n",
    "    \"drink\" : 100,\n",
    "    \"garlic bread\" : [150,200],\n",
    "    \"burger\" : 90   \n",
    "}"
   ]
  },
  {
   "cell_type": "code",
   "execution_count": 43,
   "id": "156441df",
   "metadata": {},
   "outputs": [
    {
     "data": {
      "text/plain": [
       "[150, 200]"
      ]
     },
     "execution_count": 43,
     "metadata": {},
     "output_type": "execute_result"
    }
   ],
   "source": [
    "menu['garlic bread']"
   ]
  },
  {
   "cell_type": "code",
   "execution_count": 45,
   "id": "eebc9fb6",
   "metadata": {},
   "outputs": [
    {
     "data": {
      "text/plain": [
       "600"
      ]
     },
     "execution_count": 45,
     "metadata": {},
     "output_type": "execute_result"
    }
   ],
   "source": [
    "menu[\"pizza\"][\"cheeseburst\"]"
   ]
  },
  {
   "cell_type": "code",
   "execution_count": 64,
   "id": "49810e81",
   "metadata": {},
   "outputs": [],
   "source": [
    "countries = [\"India\",\"US\",\"England\"]\n",
    "captials = [\"Delhi\",\"Washington\",\"London\"]"
   ]
  },
  {
   "cell_type": "code",
   "execution_count": 65,
   "id": "e9a1ee4d",
   "metadata": {},
   "outputs": [],
   "source": [
    "d = dict(zip(countries,captials))"
   ]
  },
  {
   "cell_type": "code",
   "execution_count": 66,
   "id": "47758d3b",
   "metadata": {},
   "outputs": [
    {
     "name": "stdout",
     "output_type": "stream",
     "text": [
      "{'India': 'Delhi', 'US': 'Washington', 'England': 'London'}\n"
     ]
    }
   ],
   "source": [
    "print(d)"
   ]
  },
  {
   "cell_type": "code",
   "execution_count": 67,
   "id": "f2b9d79d",
   "metadata": {},
   "outputs": [
    {
     "name": "stdout",
     "output_type": "stream",
     "text": [
      "('India', 'Delhi')\n",
      "('US', 'Washington')\n",
      "('England', 'London')\n"
     ]
    }
   ],
   "source": [
    "for x in zip(countries,captials):\n",
    "    print(x)"
   ]
  },
  {
   "cell_type": "markdown",
   "id": "218309a6",
   "metadata": {},
   "source": [
    "## Dictionary Comprehension"
   ]
  },
  {
   "cell_type": "code",
   "execution_count": 72,
   "id": "d37d8eb7",
   "metadata": {},
   "outputs": [],
   "source": [
    "menu = {\n",
    "    \"pizza\" : 80,\n",
    "    \"drink\" : 100,\n",
    "    \"garlic break\" : 150,\n",
    "    \"burger\" : 90   \n",
    "}"
   ]
  },
  {
   "cell_type": "code",
   "execution_count": 73,
   "id": "cbb2fd1d",
   "metadata": {},
   "outputs": [
    {
     "name": "stdout",
     "output_type": "stream",
     "text": [
      "pizza 80\n",
      "drink 100\n",
      "garlic break 150\n",
      "burger 90\n"
     ]
    }
   ],
   "source": [
    "for k,v in menu.items():\n",
    "    print(k,v)"
   ]
  },
  {
   "cell_type": "code",
   "execution_count": 74,
   "id": "d6e289ed",
   "metadata": {},
   "outputs": [],
   "source": [
    "food_items_greater_than_100 = { k:v for k,v in menu.items() if v>=100 }"
   ]
  },
  {
   "cell_type": "code",
   "execution_count": 75,
   "id": "d59c8ae7",
   "metadata": {},
   "outputs": [
    {
     "data": {
      "text/plain": [
       "{'drink': 100, 'garlic break': 150}"
      ]
     },
     "execution_count": 75,
     "metadata": {},
     "output_type": "execute_result"
    }
   ],
   "source": [
    "food_items_greater_than_100"
   ]
  },
  {
   "cell_type": "code",
   "execution_count": 77,
   "id": "63ead61e",
   "metadata": {},
   "outputs": [],
   "source": [
    "# Live assignment\n",
    "# Create a dictionary of K and V are exchanged (reversed)"
   ]
  },
  {
   "cell_type": "markdown",
   "id": "acc65d04",
   "metadata": {},
   "source": [
    "Country - Captials\n",
    "\n",
    "\n",
    "Capitals - Countries"
   ]
  },
  {
   "cell_type": "code",
   "execution_count": 80,
   "id": "12e7c210",
   "metadata": {},
   "outputs": [],
   "source": [
    "captial2Country = {v:k for k,v in d.items()}"
   ]
  },
  {
   "cell_type": "code",
   "execution_count": 81,
   "id": "e8ffd87d",
   "metadata": {},
   "outputs": [
    {
     "data": {
      "text/plain": [
       "{'Delhi': 'India', 'Washington': 'US', 'London': 'England'}"
      ]
     },
     "execution_count": 81,
     "metadata": {},
     "output_type": "execute_result"
    }
   ],
   "source": [
    "captial2Country"
   ]
  },
  {
   "cell_type": "code",
   "execution_count": null,
   "id": "18497e7f",
   "metadata": {},
   "outputs": [],
   "source": []
  }
 ],
 "metadata": {
  "kernelspec": {
   "display_name": "Python 3 (ipykernel)",
   "language": "python",
   "name": "python3"
  },
  "language_info": {
   "codemirror_mode": {
    "name": "ipython",
    "version": 3
   },
   "file_extension": ".py",
   "mimetype": "text/x-python",
   "name": "python",
   "nbconvert_exporter": "python",
   "pygments_lexer": "ipython3",
   "version": "3.8.2"
  }
 },
 "nbformat": 4,
 "nbformat_minor": 5
}

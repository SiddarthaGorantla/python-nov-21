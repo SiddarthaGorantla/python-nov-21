{
 "cells": [
  {
   "cell_type": "markdown",
   "id": "5c594ae5",
   "metadata": {},
   "source": [
    "# Lists"
   ]
  },
  {
   "cell_type": "code",
   "execution_count": 1,
   "id": "0c3e0d7c",
   "metadata": {},
   "outputs": [],
   "source": [
    "a = [1,2,[1,2,3]]\n",
    "\n",
    "b = a"
   ]
  },
  {
   "cell_type": "code",
   "execution_count": 2,
   "id": "0dca2d46",
   "metadata": {},
   "outputs": [
    {
     "data": {
      "text/plain": [
       "True"
      ]
     },
     "execution_count": 2,
     "metadata": {},
     "output_type": "execute_result"
    }
   ],
   "source": [
    "id(a) == id(b)"
   ]
  },
  {
   "cell_type": "markdown",
   "id": "86c0d4ba",
   "metadata": {},
   "source": [
    "# Mutable vs Immutable Datatypes\n",
    "- Primitives int, floats etc they are immutable"
   ]
  },
  {
   "cell_type": "code",
   "execution_count": 3,
   "id": "85bc29c3",
   "metadata": {},
   "outputs": [
    {
     "data": {
      "text/plain": [
       "4309214056"
      ]
     },
     "execution_count": 3,
     "metadata": {},
     "output_type": "execute_result"
    }
   ],
   "source": [
    "a = 20\n",
    "id(a)"
   ]
  },
  {
   "cell_type": "code",
   "execution_count": 4,
   "id": "d074fdb0",
   "metadata": {},
   "outputs": [
    {
     "data": {
      "text/plain": [
       "4309214088"
      ]
     },
     "execution_count": 4,
     "metadata": {},
     "output_type": "execute_result"
    }
   ],
   "source": [
    "a = 21\n",
    "id(a)"
   ]
  },
  {
   "cell_type": "markdown",
   "id": "ae53197c",
   "metadata": {},
   "source": [
    "- List is mutable data structure"
   ]
  },
  {
   "cell_type": "code",
   "execution_count": 9,
   "id": "57884ece",
   "metadata": {},
   "outputs": [
    {
     "data": {
      "text/plain": [
       "4349072704"
      ]
     },
     "execution_count": 9,
     "metadata": {},
     "output_type": "execute_result"
    }
   ],
   "source": [
    "l = [1,2,3]\n",
    "id(l)"
   ]
  },
  {
   "cell_type": "code",
   "execution_count": 10,
   "id": "fc3c33e1",
   "metadata": {},
   "outputs": [
    {
     "data": {
      "text/plain": [
       "4309213448"
      ]
     },
     "execution_count": 10,
     "metadata": {},
     "output_type": "execute_result"
    }
   ],
   "source": [
    "id(l[0])"
   ]
  },
  {
   "cell_type": "code",
   "execution_count": 14,
   "id": "fe3a86a0",
   "metadata": {},
   "outputs": [
    {
     "data": {
      "text/plain": [
       "4309213480"
      ]
     },
     "execution_count": 14,
     "metadata": {},
     "output_type": "execute_result"
    }
   ],
   "source": [
    "id(l[1])"
   ]
  },
  {
   "cell_type": "code",
   "execution_count": 11,
   "id": "31cc6f16",
   "metadata": {},
   "outputs": [
    {
     "data": {
      "text/plain": [
       "[10, 2, 3]"
      ]
     },
     "execution_count": 11,
     "metadata": {},
     "output_type": "execute_result"
    }
   ],
   "source": [
    "l[0] = 10\n",
    "l"
   ]
  },
  {
   "cell_type": "code",
   "execution_count": 12,
   "id": "6d7fefbd",
   "metadata": {},
   "outputs": [
    {
     "data": {
      "text/plain": [
       "4349072704"
      ]
     },
     "execution_count": 12,
     "metadata": {},
     "output_type": "execute_result"
    }
   ],
   "source": [
    "id(l)"
   ]
  },
  {
   "cell_type": "code",
   "execution_count": 13,
   "id": "f86608c0",
   "metadata": {},
   "outputs": [
    {
     "data": {
      "text/plain": [
       "4309213736"
      ]
     },
     "execution_count": 13,
     "metadata": {},
     "output_type": "execute_result"
    }
   ],
   "source": [
    "id(l[0])"
   ]
  },
  {
   "cell_type": "code",
   "execution_count": 15,
   "id": "39976330",
   "metadata": {},
   "outputs": [
    {
     "data": {
      "text/plain": [
       "4309213480"
      ]
     },
     "execution_count": 15,
     "metadata": {},
     "output_type": "execute_result"
    }
   ],
   "source": [
    "id(l[1])"
   ]
  },
  {
   "cell_type": "markdown",
   "id": "8b61622e",
   "metadata": {},
   "source": [
    "## Shallow Copy"
   ]
  },
  {
   "cell_type": "code",
   "execution_count": 17,
   "id": "7e127f50",
   "metadata": {},
   "outputs": [],
   "source": [
    "a = [1,2,[10,20,30]]\n",
    "\n",
    "b = a.copy() #Shallow Copy"
   ]
  },
  {
   "cell_type": "code",
   "execution_count": 18,
   "id": "f5077d95",
   "metadata": {},
   "outputs": [],
   "source": [
    "# shallow copy is same as iterative over a and adding those elements to b"
   ]
  },
  {
   "cell_type": "code",
   "execution_count": 19,
   "id": "77910f18",
   "metadata": {},
   "outputs": [
    {
     "name": "stdout",
     "output_type": "stream",
     "text": [
      "1\n",
      "2\n",
      "[10, 20, 30]\n"
     ]
    }
   ],
   "source": [
    "for x in a:\n",
    "    print(x)\n",
    "    "
   ]
  },
  {
   "cell_type": "code",
   "execution_count": 20,
   "id": "033ad1b7",
   "metadata": {},
   "outputs": [],
   "source": [
    "# code is equivalent of doing .copy()\n",
    "b = []\n",
    "for x in a:\n",
    "    b.append(x)"
   ]
  },
  {
   "cell_type": "code",
   "execution_count": 21,
   "id": "1a5e3b98",
   "metadata": {},
   "outputs": [
    {
     "data": {
      "text/plain": [
       "[1, 2, [10, 20, 30]]"
      ]
     },
     "execution_count": 21,
     "metadata": {},
     "output_type": "execute_result"
    }
   ],
   "source": [
    "b"
   ]
  },
  {
   "cell_type": "code",
   "execution_count": 22,
   "id": "78f8fc08",
   "metadata": {},
   "outputs": [],
   "source": [
    "b[1] = 20"
   ]
  },
  {
   "cell_type": "code",
   "execution_count": 23,
   "id": "9458cabb",
   "metadata": {},
   "outputs": [
    {
     "data": {
      "text/plain": [
       "[1, 20, [10, 20, 30]]"
      ]
     },
     "execution_count": 23,
     "metadata": {},
     "output_type": "execute_result"
    }
   ],
   "source": [
    "b"
   ]
  },
  {
   "cell_type": "code",
   "execution_count": 24,
   "id": "7b0ea13a",
   "metadata": {},
   "outputs": [
    {
     "data": {
      "text/plain": [
       "[1, 2, [10, 20, 30]]"
      ]
     },
     "execution_count": 24,
     "metadata": {},
     "output_type": "execute_result"
    }
   ],
   "source": [
    "a"
   ]
  },
  {
   "cell_type": "code",
   "execution_count": 25,
   "id": "909c0d3a",
   "metadata": {},
   "outputs": [
    {
     "data": {
      "text/plain": [
       "4309213448"
      ]
     },
     "execution_count": 25,
     "metadata": {},
     "output_type": "execute_result"
    }
   ],
   "source": [
    "id(a[0])"
   ]
  },
  {
   "cell_type": "code",
   "execution_count": 26,
   "id": "a8310656",
   "metadata": {},
   "outputs": [
    {
     "data": {
      "text/plain": [
       "4309213448"
      ]
     },
     "execution_count": 26,
     "metadata": {},
     "output_type": "execute_result"
    }
   ],
   "source": [
    "id(b[0])"
   ]
  },
  {
   "cell_type": "code",
   "execution_count": 27,
   "id": "b87c6643",
   "metadata": {},
   "outputs": [
    {
     "data": {
      "text/plain": [
       "4309213480"
      ]
     },
     "execution_count": 27,
     "metadata": {},
     "output_type": "execute_result"
    }
   ],
   "source": [
    "id(a[1])"
   ]
  },
  {
   "cell_type": "code",
   "execution_count": 28,
   "id": "bc0c919d",
   "metadata": {},
   "outputs": [
    {
     "data": {
      "text/plain": [
       "4309214056"
      ]
     },
     "execution_count": 28,
     "metadata": {},
     "output_type": "execute_result"
    }
   ],
   "source": [
    "id(b[1])"
   ]
  },
  {
   "cell_type": "code",
   "execution_count": 29,
   "id": "5b9fb3e0",
   "metadata": {},
   "outputs": [],
   "source": [
    "b[2][1] = 5"
   ]
  },
  {
   "cell_type": "code",
   "execution_count": 30,
   "id": "3b18ab42",
   "metadata": {},
   "outputs": [
    {
     "name": "stdout",
     "output_type": "stream",
     "text": [
      "[1, 20, [10, 5, 30]]\n"
     ]
    }
   ],
   "source": [
    "print(b)"
   ]
  },
  {
   "cell_type": "code",
   "execution_count": 31,
   "id": "e6b34d14",
   "metadata": {},
   "outputs": [
    {
     "name": "stdout",
     "output_type": "stream",
     "text": [
      "[1, 2, [10, 5, 30]]\n"
     ]
    }
   ],
   "source": [
    "print(a)"
   ]
  },
  {
   "cell_type": "markdown",
   "id": "31c7f19a",
   "metadata": {},
   "source": [
    "# List Mutability Demo"
   ]
  },
  {
   "cell_type": "code",
   "execution_count": 34,
   "id": "61dcc0c7",
   "metadata": {},
   "outputs": [
    {
     "data": {
      "text/plain": [
       "(4350080192, 4309213480)"
      ]
     },
     "execution_count": 34,
     "metadata": {},
     "output_type": "execute_result"
    }
   ],
   "source": [
    "l = [1,2,3]\n",
    "id(l), id(l[1])\n"
   ]
  },
  {
   "cell_type": "code",
   "execution_count": 35,
   "id": "418d9f7b",
   "metadata": {},
   "outputs": [
    {
     "data": {
      "text/plain": [
       "(4350080192, 4309214088)"
      ]
     },
     "execution_count": 35,
     "metadata": {},
     "output_type": "execute_result"
    }
   ],
   "source": [
    "l[1] = 21\n",
    "id(l),id(l[1])"
   ]
  },
  {
   "cell_type": "markdown",
   "id": "baa79c4d",
   "metadata": {},
   "source": [
    "# Last Class"
   ]
  },
  {
   "cell_type": "code",
   "execution_count": 52,
   "id": "b676c063",
   "metadata": {},
   "outputs": [],
   "source": [
    "a = [1,2,[10,20,30]]\n",
    "\n",
    "b = a.copy()"
   ]
  },
  {
   "cell_type": "code",
   "execution_count": 53,
   "id": "fd24363b",
   "metadata": {},
   "outputs": [],
   "source": [
    "b[1] = 20"
   ]
  },
  {
   "cell_type": "code",
   "execution_count": 54,
   "id": "1c6603f4",
   "metadata": {},
   "outputs": [
    {
     "name": "stdout",
     "output_type": "stream",
     "text": [
      "[1, 2, [10, 20, 30]] 4350080448\n",
      "[1, 20, [10, 20, 30]] 4350257792\n"
     ]
    }
   ],
   "source": [
    "print(a,id(a))\n",
    "print(b,id(b))"
   ]
  },
  {
   "cell_type": "code",
   "execution_count": 43,
   "id": "d31dfcda",
   "metadata": {},
   "outputs": [
    {
     "name": "stdout",
     "output_type": "stream",
     "text": [
      "[1, 2, [10, 80, 30]]\n",
      "[1, 20, [10, 80, 30]]\n"
     ]
    }
   ],
   "source": [
    "b[2][1] = 80\n",
    "print(a)\n",
    "print(b)"
   ]
  },
  {
   "cell_type": "markdown",
   "id": "dfb0adac",
   "metadata": {},
   "source": [
    "## A = B Case"
   ]
  },
  {
   "cell_type": "code",
   "execution_count": 57,
   "id": "6a1e7c8b",
   "metadata": {},
   "outputs": [],
   "source": [
    "a = [1,2,[10,20,30]]\n",
    "\n",
    "b = a"
   ]
  },
  {
   "cell_type": "code",
   "execution_count": 58,
   "id": "ede78e03",
   "metadata": {},
   "outputs": [
    {
     "data": {
      "text/plain": [
       "4349071424"
      ]
     },
     "execution_count": 58,
     "metadata": {},
     "output_type": "execute_result"
    }
   ],
   "source": [
    "id(a)"
   ]
  },
  {
   "cell_type": "code",
   "execution_count": 59,
   "id": "5f3f4656",
   "metadata": {},
   "outputs": [
    {
     "data": {
      "text/plain": [
       "4349071424"
      ]
     },
     "execution_count": 59,
     "metadata": {},
     "output_type": "execute_result"
    }
   ],
   "source": [
    "id(b)"
   ]
  },
  {
   "cell_type": "code",
   "execution_count": 60,
   "id": "c96bb3c4",
   "metadata": {},
   "outputs": [
    {
     "name": "stdout",
     "output_type": "stream",
     "text": [
      "[1, 20, [10, 20, 30]]\n",
      "[1, 20, [10, 20, 30]]\n"
     ]
    }
   ],
   "source": [
    "b[1] = 20\n",
    "print(a)\n",
    "print(b)"
   ]
  },
  {
   "cell_type": "code",
   "execution_count": 61,
   "id": "36cd534a",
   "metadata": {},
   "outputs": [
    {
     "name": "stdout",
     "output_type": "stream",
     "text": [
      "[1, 20, [10, 5, 30]]\n",
      "[1, 20, [10, 5, 30]]\n"
     ]
    }
   ],
   "source": [
    "b[2][1] =  5\n",
    "print(a)\n",
    "print(b)"
   ]
  },
  {
   "cell_type": "markdown",
   "id": "b9114acf",
   "metadata": {},
   "source": [
    "## Deep Copy"
   ]
  },
  {
   "cell_type": "markdown",
   "id": "012e00dd",
   "metadata": {},
   "source": [
    "- Library Method only"
   ]
  },
  {
   "cell_type": "code",
   "execution_count": 62,
   "id": "131deffc",
   "metadata": {},
   "outputs": [],
   "source": [
    "import copy"
   ]
  },
  {
   "cell_type": "code",
   "execution_count": 69,
   "id": "00b6ae20",
   "metadata": {},
   "outputs": [],
   "source": [
    "a = [1,2,[10,20,30]]\n",
    "b = copy.deepcopy(a)"
   ]
  },
  {
   "cell_type": "code",
   "execution_count": 65,
   "id": "535fda84",
   "metadata": {},
   "outputs": [
    {
     "data": {
      "text/plain": [
       "([1, 2, [10, 20, 30]], 4350187520)"
      ]
     },
     "execution_count": 65,
     "metadata": {},
     "output_type": "execute_result"
    }
   ],
   "source": [
    "a,id(a)"
   ]
  },
  {
   "cell_type": "code",
   "execution_count": 66,
   "id": "64363bb1",
   "metadata": {},
   "outputs": [
    {
     "data": {
      "text/plain": [
       "([1, 2, [10, 20, 30]], 4349988160)"
      ]
     },
     "execution_count": 66,
     "metadata": {},
     "output_type": "execute_result"
    }
   ],
   "source": [
    "b, id(b)"
   ]
  },
  {
   "cell_type": "code",
   "execution_count": 67,
   "id": "eb096cd6",
   "metadata": {},
   "outputs": [
    {
     "name": "stdout",
     "output_type": "stream",
     "text": [
      "[1, 2, [10, 20, 30]]\n",
      "[1, 20, [10, 20, 30]]\n"
     ]
    }
   ],
   "source": [
    "b[1] = 20\n",
    "print(a)\n",
    "print(b)"
   ]
  },
  {
   "cell_type": "code",
   "execution_count": 68,
   "id": "b90565c8",
   "metadata": {},
   "outputs": [
    {
     "name": "stdout",
     "output_type": "stream",
     "text": [
      "[1, 2, [10, 20, 30]]\n",
      "[1, 20, [10, 5, 30]]\n"
     ]
    }
   ],
   "source": [
    "b[2][1] = 5\n",
    "print(a)\n",
    "print(b)"
   ]
  },
  {
   "cell_type": "code",
   "execution_count": null,
   "id": "f61a9535",
   "metadata": {},
   "outputs": [],
   "source": []
  },
  {
   "cell_type": "markdown",
   "id": "1a6b9b60",
   "metadata": {},
   "source": [
    "### Passing Lists to Functions"
   ]
  },
  {
   "cell_type": "code",
   "execution_count": 84,
   "id": "f16b6e2c",
   "metadata": {},
   "outputs": [],
   "source": [
    "def updateViewCount(b,inc):\n",
    "    # create a deep copy if required\n",
    "    for i in range(len(b)):\n",
    "        b[i] = b[i] + inc\n",
    "\n",
    "a = [100,50,90]"
   ]
  },
  {
   "cell_type": "code",
   "execution_count": 85,
   "id": "6e139316",
   "metadata": {},
   "outputs": [],
   "source": [
    "updateViewCount(a,5)"
   ]
  },
  {
   "cell_type": "code",
   "execution_count": 86,
   "id": "f9bb62a3",
   "metadata": {},
   "outputs": [
    {
     "data": {
      "text/plain": [
       "[105, 55, 95]"
      ]
     },
     "execution_count": 86,
     "metadata": {},
     "output_type": "execute_result"
    }
   ],
   "source": [
    "a"
   ]
  },
  {
   "cell_type": "code",
   "execution_count": 94,
   "id": "711c2339",
   "metadata": {},
   "outputs": [],
   "source": [
    "def buyApples():\n",
    "    fruits = 100\n",
    "    print(fruits)\n",
    "    \n",
    "# print(fruits) [fruits is having scope of the function]"
   ]
  },
  {
   "cell_type": "code",
   "execution_count": 92,
   "id": "5106894d",
   "metadata": {},
   "outputs": [
    {
     "name": "stdout",
     "output_type": "stream",
     "text": [
      "100\n"
     ]
    }
   ],
   "source": [
    "buyApples()"
   ]
  },
  {
   "cell_type": "markdown",
   "id": "13c357c3",
   "metadata": {},
   "source": [
    "## Tuples"
   ]
  },
  {
   "cell_type": "markdown",
   "id": "aee9d481",
   "metadata": {},
   "source": [
    "- Tuples are read-only Lists\n",
    "- Immutable"
   ]
  },
  {
   "cell_type": "code",
   "execution_count": 95,
   "id": "3d0405a2",
   "metadata": {},
   "outputs": [],
   "source": [
    "t = ()"
   ]
  },
  {
   "cell_type": "code",
   "execution_count": 96,
   "id": "a916af15",
   "metadata": {},
   "outputs": [
    {
     "name": "stdout",
     "output_type": "stream",
     "text": [
      "()\n"
     ]
    }
   ],
   "source": [
    "print(t)"
   ]
  },
  {
   "cell_type": "code",
   "execution_count": 101,
   "id": "01d27a7d",
   "metadata": {},
   "outputs": [
    {
     "name": "stdout",
     "output_type": "stream",
     "text": [
      "(1, 2, 3, 7, 8, 7, 9)\n"
     ]
    }
   ],
   "source": [
    "t = (1,2,3,7,8,7,9)\n",
    "print(t)"
   ]
  },
  {
   "cell_type": "code",
   "execution_count": 102,
   "id": "100e19e7",
   "metadata": {},
   "outputs": [
    {
     "ename": "TypeError",
     "evalue": "'tuple' object does not support item assignment",
     "output_type": "error",
     "traceback": [
      "\u001b[0;31m---------------------------------------------------------------------------\u001b[0m",
      "\u001b[0;31mTypeError\u001b[0m                                 Traceback (most recent call last)",
      "\u001b[0;32m/var/folders/mc/6ky12ls54x347xnny8wjxk6r0000gn/T/ipykernel_6470/1685322369.py\u001b[0m in \u001b[0;36m<module>\u001b[0;34m\u001b[0m\n\u001b[0;32m----> 1\u001b[0;31m \u001b[0mt\u001b[0m\u001b[0;34m[\u001b[0m\u001b[0;36m2\u001b[0m\u001b[0;34m]\u001b[0m \u001b[0;34m=\u001b[0m \u001b[0;36m30\u001b[0m\u001b[0;34m\u001b[0m\u001b[0;34m\u001b[0m\u001b[0m\n\u001b[0m\u001b[1;32m      2\u001b[0m \u001b[0;31m# can't update a tuple (read only)\u001b[0m\u001b[0;34m\u001b[0m\u001b[0;34m\u001b[0m\u001b[0;34m\u001b[0m\u001b[0m\n",
      "\u001b[0;31mTypeError\u001b[0m: 'tuple' object does not support item assignment"
     ]
    }
   ],
   "source": [
    "t[2] = 30\n",
    "# can't update a tuple (read only)"
   ]
  },
  {
   "cell_type": "code",
   "execution_count": 103,
   "id": "2fa45965",
   "metadata": {},
   "outputs": [
    {
     "data": {
      "text/plain": [
       "2"
      ]
     },
     "execution_count": 103,
     "metadata": {},
     "output_type": "execute_result"
    }
   ],
   "source": [
    "t.count(7)"
   ]
  },
  {
   "cell_type": "code",
   "execution_count": 104,
   "id": "764ac80b",
   "metadata": {},
   "outputs": [
    {
     "data": {
      "text/plain": [
       "2"
      ]
     },
     "execution_count": 104,
     "metadata": {},
     "output_type": "execute_result"
    }
   ],
   "source": [
    "t.index(3)"
   ]
  },
  {
   "cell_type": "markdown",
   "id": "b66cc3d1",
   "metadata": {},
   "source": [
    "# ToDo:\n",
    "- Convert a List into Tuple\n",
    "- Convert a Tuple into List"
   ]
  },
  {
   "cell_type": "code",
   "execution_count": 105,
   "id": "deac6286",
   "metadata": {},
   "outputs": [
    {
     "data": {
      "text/plain": [
       "[1, 10, 3]"
      ]
     },
     "execution_count": 105,
     "metadata": {},
     "output_type": "execute_result"
    }
   ],
   "source": [
    "l = [1,2,3]\n",
    "l[1] = 10\n",
    "l"
   ]
  },
  {
   "cell_type": "code",
   "execution_count": 106,
   "id": "fea80079",
   "metadata": {},
   "outputs": [],
   "source": [
    "t = tuple(l)"
   ]
  },
  {
   "cell_type": "code",
   "execution_count": 107,
   "id": "f68b24e0",
   "metadata": {},
   "outputs": [
    {
     "data": {
      "text/plain": [
       "(1, 10, 3)"
      ]
     },
     "execution_count": 107,
     "metadata": {},
     "output_type": "execute_result"
    }
   ],
   "source": [
    "t"
   ]
  },
  {
   "cell_type": "code",
   "execution_count": 108,
   "id": "97b6d707",
   "metadata": {},
   "outputs": [
    {
     "name": "stdout",
     "output_type": "stream",
     "text": [
      "[1, 10, 3]\n"
     ]
    }
   ],
   "source": [
    "l = list(t)\n",
    "print(l)"
   ]
  },
  {
   "cell_type": "code",
   "execution_count": 112,
   "id": "7774fb9c",
   "metadata": {},
   "outputs": [
    {
     "data": {
      "text/plain": [
       "(4350225984, 4349460736)"
      ]
     },
     "execution_count": 112,
     "metadata": {},
     "output_type": "execute_result"
    }
   ],
   "source": [
    "t1 = (1,2,3)\n",
    "t2 = (4,5,6)\n",
    "id(t1),id(t2)"
   ]
  },
  {
   "cell_type": "code",
   "execution_count": 111,
   "id": "fbbff32e",
   "metadata": {},
   "outputs": [
    {
     "data": {
      "text/plain": [
       "4349092000"
      ]
     },
     "execution_count": 111,
     "metadata": {},
     "output_type": "execute_result"
    }
   ],
   "source": [
    "id(t1 + t2)"
   ]
  },
  {
   "cell_type": "code",
   "execution_count": 113,
   "id": "791016f4",
   "metadata": {},
   "outputs": [],
   "source": [
    "del t1"
   ]
  },
  {
   "cell_type": "code",
   "execution_count": 114,
   "id": "9a956e97",
   "metadata": {},
   "outputs": [
    {
     "ename": "NameError",
     "evalue": "name 't1' is not defined",
     "output_type": "error",
     "traceback": [
      "\u001b[0;31m---------------------------------------------------------------------------\u001b[0m",
      "\u001b[0;31mNameError\u001b[0m                                 Traceback (most recent call last)",
      "\u001b[0;32m/var/folders/mc/6ky12ls54x347xnny8wjxk6r0000gn/T/ipykernel_6470/2524635252.py\u001b[0m in \u001b[0;36m<module>\u001b[0;34m\u001b[0m\n\u001b[0;32m----> 1\u001b[0;31m \u001b[0mt1\u001b[0m\u001b[0;34m\u001b[0m\u001b[0;34m\u001b[0m\u001b[0m\n\u001b[0m",
      "\u001b[0;31mNameError\u001b[0m: name 't1' is not defined"
     ]
    }
   ],
   "source": [
    "t1"
   ]
  },
  {
   "cell_type": "code",
   "execution_count": 117,
   "id": "06f97d8f",
   "metadata": {},
   "outputs": [],
   "source": [
    "# Aeroplane booking\n",
    "# flight fare is dependent upon city distance\n",
    "# tuples are faster to iterate as compared to lists\n",
    "dists = (100, 456, 890)"
   ]
  },
  {
   "cell_type": "code",
   "execution_count": 122,
   "id": "33049470",
   "metadata": {},
   "outputs": [
    {
     "name": "stdout",
     "output_type": "stream",
     "text": [
      "Fare  500\n",
      "Fare  2280\n",
      "Fare  4450\n"
     ]
    }
   ],
   "source": [
    "for d in dists:\n",
    "    print(\"Fare \", d*5)"
   ]
  },
  {
   "cell_type": "markdown",
   "id": "a1245cc7",
   "metadata": {},
   "source": [
    "# Tuple Membership"
   ]
  },
  {
   "cell_type": "code",
   "execution_count": 120,
   "id": "3dad1f52",
   "metadata": {},
   "outputs": [],
   "source": [
    "t = (1,2,5,6,90)"
   ]
  },
  {
   "cell_type": "code",
   "execution_count": 121,
   "id": "c6124f35",
   "metadata": {},
   "outputs": [
    {
     "data": {
      "text/plain": [
       "True"
      ]
     },
     "execution_count": 121,
     "metadata": {},
     "output_type": "execute_result"
    }
   ],
   "source": [
    "90 in t"
   ]
  },
  {
   "cell_type": "code",
   "execution_count": 123,
   "id": "da770209",
   "metadata": {},
   "outputs": [
    {
     "data": {
      "text/plain": [
       "False"
      ]
     },
     "execution_count": 123,
     "metadata": {},
     "output_type": "execute_result"
    }
   ],
   "source": [
    "51 in t"
   ]
  },
  {
   "cell_type": "markdown",
   "id": "82f990a9",
   "metadata": {},
   "source": [
    "# nested tuple"
   ]
  },
  {
   "cell_type": "code",
   "execution_count": 129,
   "id": "13e9296e",
   "metadata": {},
   "outputs": [
    {
     "data": {
      "text/plain": [
       "False"
      ]
     },
     "execution_count": 129,
     "metadata": {},
     "output_type": "execute_result"
    }
   ],
   "source": [
    "t = (1,2,3)\n",
    "t2 = ((1,2,3),(4,5,6))\n",
    "t2 in t"
   ]
  },
  {
   "cell_type": "code",
   "execution_count": 130,
   "id": "bc3c163a",
   "metadata": {},
   "outputs": [
    {
     "data": {
      "text/plain": [
       "True"
      ]
     },
     "execution_count": 130,
     "metadata": {},
     "output_type": "execute_result"
    }
   ],
   "source": [
    "t in t2"
   ]
  },
  {
   "cell_type": "code",
   "execution_count": 126,
   "id": "6e531bf3",
   "metadata": {},
   "outputs": [
    {
     "data": {
      "text/plain": [
       "False"
      ]
     },
     "execution_count": 126,
     "metadata": {},
     "output_type": "execute_result"
    }
   ],
   "source": [
    "t == t2[0]"
   ]
  },
  {
   "cell_type": "code",
   "execution_count": 127,
   "id": "b2f9331c",
   "metadata": {},
   "outputs": [
    {
     "data": {
      "text/plain": [
       "4350225984"
      ]
     },
     "execution_count": 127,
     "metadata": {},
     "output_type": "execute_result"
    }
   ],
   "source": [
    "id(t)"
   ]
  },
  {
   "cell_type": "code",
   "execution_count": 128,
   "id": "8ba1d8e9",
   "metadata": {},
   "outputs": [
    {
     "data": {
      "text/plain": [
       "4309213448"
      ]
     },
     "execution_count": 128,
     "metadata": {},
     "output_type": "execute_result"
    }
   ],
   "source": [
    "id(t2[0])"
   ]
  },
  {
   "cell_type": "code",
   "execution_count": null,
   "id": "8e4863a6",
   "metadata": {},
   "outputs": [],
   "source": [
    "# Tricky thing"
   ]
  },
  {
   "cell_type": "code",
   "execution_count": 131,
   "id": "b4535a0c",
   "metadata": {},
   "outputs": [],
   "source": [
    "t = (1)"
   ]
  },
  {
   "cell_type": "code",
   "execution_count": 132,
   "id": "df2eb8e9",
   "metadata": {},
   "outputs": [
    {
     "data": {
      "text/plain": [
       "int"
      ]
     },
     "execution_count": 132,
     "metadata": {},
     "output_type": "execute_result"
    }
   ],
   "source": [
    "type(t)"
   ]
  },
  {
   "cell_type": "code",
   "execution_count": 133,
   "id": "6e6472e9",
   "metadata": {},
   "outputs": [],
   "source": [
    "t = (1,)"
   ]
  },
  {
   "cell_type": "code",
   "execution_count": 134,
   "id": "86393045",
   "metadata": {},
   "outputs": [
    {
     "data": {
      "text/plain": [
       "tuple"
      ]
     },
     "execution_count": 134,
     "metadata": {},
     "output_type": "execute_result"
    }
   ],
   "source": [
    "type(t)"
   ]
  },
  {
   "cell_type": "code",
   "execution_count": 136,
   "id": "89dfbab0",
   "metadata": {},
   "outputs": [],
   "source": [
    "t = (\"Prateek\")"
   ]
  },
  {
   "cell_type": "code",
   "execution_count": 137,
   "id": "f6189d74",
   "metadata": {},
   "outputs": [
    {
     "data": {
      "text/plain": [
       "str"
      ]
     },
     "execution_count": 137,
     "metadata": {},
     "output_type": "execute_result"
    }
   ],
   "source": [
    "type(t)"
   ]
  },
  {
   "cell_type": "code",
   "execution_count": 138,
   "id": "81232c2e",
   "metadata": {},
   "outputs": [],
   "source": [
    "t = (\"Prateek\",)"
   ]
  },
  {
   "cell_type": "code",
   "execution_count": 140,
   "id": "fcdce9c2",
   "metadata": {},
   "outputs": [
    {
     "name": "stdout",
     "output_type": "stream",
     "text": [
      "(1, 2, 3)\n",
      "<class 'tuple'>\n"
     ]
    }
   ],
   "source": [
    "t1 = ((1,2,3))\n",
    "print(t)\n",
    "print(type(t))"
   ]
  },
  {
   "cell_type": "code",
   "execution_count": 141,
   "id": "4b7bd022",
   "metadata": {},
   "outputs": [
    {
     "name": "stdout",
     "output_type": "stream",
     "text": [
      "((1, 2, 3),)\n"
     ]
    }
   ],
   "source": [
    "t2 = ((1,2,3),)\n",
    "print(t2)"
   ]
  },
  {
   "cell_type": "code",
   "execution_count": 148,
   "id": "39908ae7",
   "metadata": {},
   "outputs": [],
   "source": [
    "t1 = (1,2,3)\n",
    "t2 = ((1,2,3))"
   ]
  },
  {
   "cell_type": "code",
   "execution_count": 149,
   "id": "2e1dec12",
   "metadata": {},
   "outputs": [
    {
     "data": {
      "text/plain": [
       "False"
      ]
     },
     "execution_count": 149,
     "metadata": {},
     "output_type": "execute_result"
    }
   ],
   "source": [
    "t1 in t2"
   ]
  },
  {
   "cell_type": "code",
   "execution_count": 143,
   "id": "8d06d5a6",
   "metadata": {},
   "outputs": [
    {
     "data": {
      "text/plain": [
       "True"
      ]
     },
     "execution_count": 143,
     "metadata": {},
     "output_type": "execute_result"
    }
   ],
   "source": [
    "t1==t2"
   ]
  },
  {
   "cell_type": "code",
   "execution_count": 144,
   "id": "5cf733fa",
   "metadata": {},
   "outputs": [],
   "source": [
    "t1 = (1,2,3)\n",
    "t2 = ((1,2,3),)"
   ]
  },
  {
   "cell_type": "code",
   "execution_count": 145,
   "id": "c8390685",
   "metadata": {},
   "outputs": [
    {
     "data": {
      "text/plain": [
       "False"
      ]
     },
     "execution_count": 145,
     "metadata": {},
     "output_type": "execute_result"
    }
   ],
   "source": [
    "t1==t2"
   ]
  },
  {
   "cell_type": "code",
   "execution_count": 146,
   "id": "1c762468",
   "metadata": {},
   "outputs": [
    {
     "data": {
      "text/plain": [
       "True"
      ]
     },
     "execution_count": 146,
     "metadata": {},
     "output_type": "execute_result"
    }
   ],
   "source": [
    "t1 in t2"
   ]
  },
  {
   "cell_type": "markdown",
   "id": "88c02372",
   "metadata": {},
   "source": [
    "# Tuple Unpacking"
   ]
  },
  {
   "cell_type": "code",
   "execution_count": 150,
   "id": "ef3e190e",
   "metadata": {},
   "outputs": [],
   "source": [
    "a,b,c = 1,2,3"
   ]
  },
  {
   "cell_type": "code",
   "execution_count": 151,
   "id": "f8b39bcf",
   "metadata": {},
   "outputs": [
    {
     "data": {
      "text/plain": [
       "1"
      ]
     },
     "execution_count": 151,
     "metadata": {},
     "output_type": "execute_result"
    }
   ],
   "source": [
    "a "
   ]
  },
  {
   "cell_type": "code",
   "execution_count": 152,
   "id": "126a1bb2",
   "metadata": {},
   "outputs": [
    {
     "data": {
      "text/plain": [
       "2"
      ]
     },
     "execution_count": 152,
     "metadata": {},
     "output_type": "execute_result"
    }
   ],
   "source": [
    "b"
   ]
  },
  {
   "cell_type": "code",
   "execution_count": 153,
   "id": "ab3ed94c",
   "metadata": {},
   "outputs": [
    {
     "data": {
      "text/plain": [
       "3"
      ]
     },
     "execution_count": 153,
     "metadata": {},
     "output_type": "execute_result"
    }
   ],
   "source": [
    "c"
   ]
  },
  {
   "cell_type": "code",
   "execution_count": 154,
   "id": "071ffe53",
   "metadata": {},
   "outputs": [],
   "source": [
    "a,b = (10,20)\n"
   ]
  },
  {
   "cell_type": "code",
   "execution_count": 155,
   "id": "a01ef083",
   "metadata": {},
   "outputs": [
    {
     "data": {
      "text/plain": [
       "10"
      ]
     },
     "execution_count": 155,
     "metadata": {},
     "output_type": "execute_result"
    }
   ],
   "source": [
    "a"
   ]
  },
  {
   "cell_type": "code",
   "execution_count": 156,
   "id": "dee1d415",
   "metadata": {},
   "outputs": [
    {
     "data": {
      "text/plain": [
       "20"
      ]
     },
     "execution_count": 156,
     "metadata": {},
     "output_type": "execute_result"
    }
   ],
   "source": [
    "b"
   ]
  },
  {
   "cell_type": "code",
   "execution_count": 158,
   "id": "868d7a77",
   "metadata": {},
   "outputs": [
    {
     "ename": "ValueError",
     "evalue": "too many values to unpack (expected 3)",
     "output_type": "error",
     "traceback": [
      "\u001b[0;31m---------------------------------------------------------------------------\u001b[0m",
      "\u001b[0;31mValueError\u001b[0m                                Traceback (most recent call last)",
      "\u001b[0;32m/var/folders/mc/6ky12ls54x347xnny8wjxk6r0000gn/T/ipykernel_6470/663627724.py\u001b[0m in \u001b[0;36m<module>\u001b[0;34m\u001b[0m\n\u001b[0;32m----> 1\u001b[0;31m \u001b[0ma\u001b[0m\u001b[0;34m,\u001b[0m\u001b[0mb\u001b[0m\u001b[0;34m,\u001b[0m\u001b[0mc\u001b[0m \u001b[0;34m=\u001b[0m \u001b[0;34m(\u001b[0m\u001b[0;36m10\u001b[0m\u001b[0;34m,\u001b[0m\u001b[0;36m20\u001b[0m\u001b[0;34m,\u001b[0m\u001b[0;36m30\u001b[0m\u001b[0;34m,\u001b[0m\u001b[0;36m40\u001b[0m\u001b[0;34m)\u001b[0m\u001b[0;34m\u001b[0m\u001b[0;34m\u001b[0m\u001b[0m\n\u001b[0m",
      "\u001b[0;31mValueError\u001b[0m: too many values to unpack (expected 3)"
     ]
    }
   ],
   "source": [
    "a,b,c = (10,20,30,40)"
   ]
  },
  {
   "cell_type": "code",
   "execution_count": 161,
   "id": "cec7717b",
   "metadata": {},
   "outputs": [],
   "source": [
    "l = [1,2,3]\n",
    "t = tuple((x for x in l))"
   ]
  },
  {
   "cell_type": "code",
   "execution_count": 162,
   "id": "5ec56fc8",
   "metadata": {},
   "outputs": [
    {
     "data": {
      "text/plain": [
       "(1, 2, 3)"
      ]
     },
     "execution_count": 162,
     "metadata": {},
     "output_type": "execute_result"
    }
   ],
   "source": [
    "t"
   ]
  },
  {
   "cell_type": "markdown",
   "id": "a2673695",
   "metadata": {},
   "source": [
    "## Break :) "
   ]
  },
  {
   "cell_type": "code",
   "execution_count": null,
   "id": "5984b971",
   "metadata": {},
   "outputs": [],
   "source": []
  }
 ],
 "metadata": {
  "kernelspec": {
   "display_name": "Python 3 (ipykernel)",
   "language": "python",
   "name": "python3"
  },
  "language_info": {
   "codemirror_mode": {
    "name": "ipython",
    "version": 3
   },
   "file_extension": ".py",
   "mimetype": "text/x-python",
   "name": "python",
   "nbconvert_exporter": "python",
   "pygments_lexer": "ipython3",
   "version": "3.8.2"
  }
 },
 "nbformat": 4,
 "nbformat_minor": 5
}
